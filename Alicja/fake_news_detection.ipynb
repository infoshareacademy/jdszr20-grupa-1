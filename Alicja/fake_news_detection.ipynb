{
 "cells": [
  {
   "cell_type": "markdown",
   "id": "35ede08ddeb50863",
   "metadata": {},
   "source": [
    "### Data import"
   ]
  },
  {
   "cell_type": "code",
   "execution_count": 3,
   "id": "initial_id",
   "metadata": {
    "collapsed": true
   },
   "outputs": [
    {
     "name": "stderr",
     "output_type": "stream",
     "text": [
      "c:\\Users\\Alicja\\anaconda3\\envs\\new_env\\Lib\\site-packages\\tqdm\\auto.py:21: TqdmWarning: IProgress not found. Please update jupyter and ipywidgets. See https://ipywidgets.readthedocs.io/en/stable/user_install.html\n",
      "  from .autonotebook import tqdm as notebook_tqdm\n"
     ]
    },
    {
     "name": "stdout",
     "output_type": "stream",
     "text": [
      "Warning: Looks like you're using an outdated `kagglehub` version (installed: 0.3.12), please consider upgrading to the latest version (0.3.13).\n",
      "Path to dataset files: C:\\Users\\Alicja\\.cache\\kagglehub\\datasets\\mahdimashayekhi\\fake-news-detection-dataset\\versions\\1\n"
     ]
    }
   ],
   "source": [
    "import kagglehub\n",
    "path = kagglehub.dataset_download(\"mahdimashayekhi/fake-news-detection-dataset\")\n",
    "print(\"Path to dataset files:\", path)\n",
    "\n",
    "import pandas as pd\n",
    "\n"
   ]
  },
  {
   "cell_type": "code",
   "execution_count": 22,
   "id": "79e1c740a3a1b34d",
   "metadata": {
    "ExecuteTime": {
     "end_time": "2025-08-23T18:29:56.002279Z",
     "start_time": "2025-08-23T18:29:55.999217Z"
    }
   },
   "outputs": [],
   "source": [
    "path = \"C:\\\\Users\\\\Alicja\\\\.cache\\\\kagglehub\\\\datasets\\\\mahdimashayekhi\\\\fake-news-detection-dataset\\\\versions\\\\1\\\\fake_news_dataset.csv\""
   ]
  },
  {
   "cell_type": "code",
   "execution_count": 23,
   "id": "9c582535",
   "metadata": {},
   "outputs": [
    {
     "data": {
      "text/html": [
       "<div>\n",
       "<style scoped>\n",
       "    .dataframe tbody tr th:only-of-type {\n",
       "        vertical-align: middle;\n",
       "    }\n",
       "\n",
       "    .dataframe tbody tr th {\n",
       "        vertical-align: top;\n",
       "    }\n",
       "\n",
       "    .dataframe thead th {\n",
       "        text-align: right;\n",
       "    }\n",
       "</style>\n",
       "<table border=\"1\" class=\"dataframe\">\n",
       "  <thead>\n",
       "    <tr style=\"text-align: right;\">\n",
       "      <th></th>\n",
       "      <th>title</th>\n",
       "      <th>text</th>\n",
       "      <th>date</th>\n",
       "      <th>source</th>\n",
       "      <th>author</th>\n",
       "      <th>category</th>\n",
       "      <th>label</th>\n",
       "    </tr>\n",
       "  </thead>\n",
       "  <tbody>\n",
       "    <tr>\n",
       "      <th>0</th>\n",
       "      <td>Foreign Democrat final.</td>\n",
       "      <td>more tax development both store agreement lawy...</td>\n",
       "      <td>2023-03-10</td>\n",
       "      <td>NY Times</td>\n",
       "      <td>Paula George</td>\n",
       "      <td>Politics</td>\n",
       "      <td>real</td>\n",
       "    </tr>\n",
       "    <tr>\n",
       "      <th>1</th>\n",
       "      <td>To offer down resource great point.</td>\n",
       "      <td>probably guess western behind likely next inve...</td>\n",
       "      <td>2022-05-25</td>\n",
       "      <td>Fox News</td>\n",
       "      <td>Joseph Hill</td>\n",
       "      <td>Politics</td>\n",
       "      <td>fake</td>\n",
       "    </tr>\n",
       "    <tr>\n",
       "      <th>2</th>\n",
       "      <td>Himself church myself carry.</td>\n",
       "      <td>them identify forward present success risk sev...</td>\n",
       "      <td>2022-09-01</td>\n",
       "      <td>CNN</td>\n",
       "      <td>Julia Robinson</td>\n",
       "      <td>Business</td>\n",
       "      <td>fake</td>\n",
       "    </tr>\n",
       "    <tr>\n",
       "      <th>3</th>\n",
       "      <td>You unit its should.</td>\n",
       "      <td>phone which item yard Republican safe where po...</td>\n",
       "      <td>2023-02-07</td>\n",
       "      <td>Reuters</td>\n",
       "      <td>Mr. David Foster DDS</td>\n",
       "      <td>Science</td>\n",
       "      <td>fake</td>\n",
       "    </tr>\n",
       "    <tr>\n",
       "      <th>4</th>\n",
       "      <td>Billion believe employee summer how.</td>\n",
       "      <td>wonder myself fact difficult course forget exa...</td>\n",
       "      <td>2023-04-03</td>\n",
       "      <td>CNN</td>\n",
       "      <td>Austin Walker</td>\n",
       "      <td>Technology</td>\n",
       "      <td>fake</td>\n",
       "    </tr>\n",
       "  </tbody>\n",
       "</table>\n",
       "</div>"
      ],
      "text/plain": [
       "                                  title  \\\n",
       "0               Foreign Democrat final.   \n",
       "1   To offer down resource great point.   \n",
       "2          Himself church myself carry.   \n",
       "3                  You unit its should.   \n",
       "4  Billion believe employee summer how.   \n",
       "\n",
       "                                                text        date    source  \\\n",
       "0  more tax development both store agreement lawy...  2023-03-10  NY Times   \n",
       "1  probably guess western behind likely next inve...  2022-05-25  Fox News   \n",
       "2  them identify forward present success risk sev...  2022-09-01       CNN   \n",
       "3  phone which item yard Republican safe where po...  2023-02-07   Reuters   \n",
       "4  wonder myself fact difficult course forget exa...  2023-04-03       CNN   \n",
       "\n",
       "                 author    category label  \n",
       "0          Paula George    Politics  real  \n",
       "1           Joseph Hill    Politics  fake  \n",
       "2        Julia Robinson    Business  fake  \n",
       "3  Mr. David Foster DDS     Science  fake  \n",
       "4         Austin Walker  Technology  fake  "
      ]
     },
     "execution_count": 23,
     "metadata": {},
     "output_type": "execute_result"
    }
   ],
   "source": [
    "df = pd.read_csv(path)\n",
    "df.head()"
   ]
  },
  {
   "cell_type": "markdown",
   "id": "bc1086f433ae548",
   "metadata": {},
   "source": [
    "## Data preparation"
   ]
  },
  {
   "cell_type": "code",
   "execution_count": 24,
   "id": "28c58f7c",
   "metadata": {},
   "outputs": [
    {
     "data": {
      "text/html": [
       "<div>\n",
       "<style scoped>\n",
       "    .dataframe tbody tr th:only-of-type {\n",
       "        vertical-align: middle;\n",
       "    }\n",
       "\n",
       "    .dataframe tbody tr th {\n",
       "        vertical-align: top;\n",
       "    }\n",
       "\n",
       "    .dataframe thead th {\n",
       "        text-align: right;\n",
       "    }\n",
       "</style>\n",
       "<table border=\"1\" class=\"dataframe\">\n",
       "  <thead>\n",
       "    <tr style=\"text-align: right;\">\n",
       "      <th></th>\n",
       "      <th>title</th>\n",
       "      <th>text</th>\n",
       "      <th>date</th>\n",
       "      <th>source</th>\n",
       "      <th>author</th>\n",
       "      <th>category</th>\n",
       "      <th>label</th>\n",
       "      <th>fake</th>\n",
       "    </tr>\n",
       "  </thead>\n",
       "  <tbody>\n",
       "    <tr>\n",
       "      <th>0</th>\n",
       "      <td>Foreign Democrat final.</td>\n",
       "      <td>more tax development both store agreement lawy...</td>\n",
       "      <td>2023-03-10</td>\n",
       "      <td>NY Times</td>\n",
       "      <td>Paula George</td>\n",
       "      <td>Politics</td>\n",
       "      <td>real</td>\n",
       "      <td>0</td>\n",
       "    </tr>\n",
       "    <tr>\n",
       "      <th>1</th>\n",
       "      <td>To offer down resource great point.</td>\n",
       "      <td>probably guess western behind likely next inve...</td>\n",
       "      <td>2022-05-25</td>\n",
       "      <td>Fox News</td>\n",
       "      <td>Joseph Hill</td>\n",
       "      <td>Politics</td>\n",
       "      <td>fake</td>\n",
       "      <td>1</td>\n",
       "    </tr>\n",
       "    <tr>\n",
       "      <th>2</th>\n",
       "      <td>Himself church myself carry.</td>\n",
       "      <td>them identify forward present success risk sev...</td>\n",
       "      <td>2022-09-01</td>\n",
       "      <td>CNN</td>\n",
       "      <td>Julia Robinson</td>\n",
       "      <td>Business</td>\n",
       "      <td>fake</td>\n",
       "      <td>1</td>\n",
       "    </tr>\n",
       "    <tr>\n",
       "      <th>3</th>\n",
       "      <td>You unit its should.</td>\n",
       "      <td>phone which item yard Republican safe where po...</td>\n",
       "      <td>2023-02-07</td>\n",
       "      <td>Reuters</td>\n",
       "      <td>Mr. David Foster DDS</td>\n",
       "      <td>Science</td>\n",
       "      <td>fake</td>\n",
       "      <td>1</td>\n",
       "    </tr>\n",
       "    <tr>\n",
       "      <th>4</th>\n",
       "      <td>Billion believe employee summer how.</td>\n",
       "      <td>wonder myself fact difficult course forget exa...</td>\n",
       "      <td>2023-04-03</td>\n",
       "      <td>CNN</td>\n",
       "      <td>Austin Walker</td>\n",
       "      <td>Technology</td>\n",
       "      <td>fake</td>\n",
       "      <td>1</td>\n",
       "    </tr>\n",
       "    <tr>\n",
       "      <th>...</th>\n",
       "      <td>...</td>\n",
       "      <td>...</td>\n",
       "      <td>...</td>\n",
       "      <td>...</td>\n",
       "      <td>...</td>\n",
       "      <td>...</td>\n",
       "      <td>...</td>\n",
       "      <td>...</td>\n",
       "    </tr>\n",
       "    <tr>\n",
       "      <th>19995</th>\n",
       "      <td>House party born.</td>\n",
       "      <td>hit and television I change very our happy doo...</td>\n",
       "      <td>2024-12-04</td>\n",
       "      <td>BBC</td>\n",
       "      <td>Gary Miles</td>\n",
       "      <td>Entertainment</td>\n",
       "      <td>fake</td>\n",
       "      <td>1</td>\n",
       "    </tr>\n",
       "    <tr>\n",
       "      <th>19996</th>\n",
       "      <td>Though nation people maybe price box.</td>\n",
       "      <td>fear most meet rock even sea value design stan...</td>\n",
       "      <td>2024-05-26</td>\n",
       "      <td>Daily News</td>\n",
       "      <td>Maria Mcbride</td>\n",
       "      <td>Entertainment</td>\n",
       "      <td>real</td>\n",
       "      <td>0</td>\n",
       "    </tr>\n",
       "    <tr>\n",
       "      <th>19997</th>\n",
       "      <td>Yet exist with experience unit.</td>\n",
       "      <td>activity loss very provide eye west create wha...</td>\n",
       "      <td>2023-04-17</td>\n",
       "      <td>BBC</td>\n",
       "      <td>Kristen Franklin</td>\n",
       "      <td>Entertainment</td>\n",
       "      <td>real</td>\n",
       "      <td>0</td>\n",
       "    </tr>\n",
       "    <tr>\n",
       "      <th>19998</th>\n",
       "      <td>School wide itself item.</td>\n",
       "      <td>term point general common training watch respo...</td>\n",
       "      <td>2024-06-30</td>\n",
       "      <td>Reuters</td>\n",
       "      <td>David Wise</td>\n",
       "      <td>Health</td>\n",
       "      <td>fake</td>\n",
       "      <td>1</td>\n",
       "    </tr>\n",
       "    <tr>\n",
       "      <th>19999</th>\n",
       "      <td>Offer chair cover senior born.</td>\n",
       "      <td>remain pressure glass me six senior though nor...</td>\n",
       "      <td>2024-01-24</td>\n",
       "      <td>Daily News</td>\n",
       "      <td>James Peterson</td>\n",
       "      <td>Health</td>\n",
       "      <td>fake</td>\n",
       "      <td>1</td>\n",
       "    </tr>\n",
       "  </tbody>\n",
       "</table>\n",
       "<p>20000 rows × 8 columns</p>\n",
       "</div>"
      ],
      "text/plain": [
       "                                       title  \\\n",
       "0                    Foreign Democrat final.   \n",
       "1        To offer down resource great point.   \n",
       "2               Himself church myself carry.   \n",
       "3                       You unit its should.   \n",
       "4       Billion believe employee summer how.   \n",
       "...                                      ...   \n",
       "19995                      House party born.   \n",
       "19996  Though nation people maybe price box.   \n",
       "19997        Yet exist with experience unit.   \n",
       "19998               School wide itself item.   \n",
       "19999         Offer chair cover senior born.   \n",
       "\n",
       "                                                    text        date  \\\n",
       "0      more tax development both store agreement lawy...  2023-03-10   \n",
       "1      probably guess western behind likely next inve...  2022-05-25   \n",
       "2      them identify forward present success risk sev...  2022-09-01   \n",
       "3      phone which item yard Republican safe where po...  2023-02-07   \n",
       "4      wonder myself fact difficult course forget exa...  2023-04-03   \n",
       "...                                                  ...         ...   \n",
       "19995  hit and television I change very our happy doo...  2024-12-04   \n",
       "19996  fear most meet rock even sea value design stan...  2024-05-26   \n",
       "19997  activity loss very provide eye west create wha...  2023-04-17   \n",
       "19998  term point general common training watch respo...  2024-06-30   \n",
       "19999  remain pressure glass me six senior though nor...  2024-01-24   \n",
       "\n",
       "           source                author       category label  fake  \n",
       "0        NY Times          Paula George       Politics  real     0  \n",
       "1        Fox News           Joseph Hill       Politics  fake     1  \n",
       "2             CNN        Julia Robinson       Business  fake     1  \n",
       "3         Reuters  Mr. David Foster DDS        Science  fake     1  \n",
       "4             CNN         Austin Walker     Technology  fake     1  \n",
       "...           ...                   ...            ...   ...   ...  \n",
       "19995         BBC            Gary Miles  Entertainment  fake     1  \n",
       "19996  Daily News         Maria Mcbride  Entertainment  real     0  \n",
       "19997         BBC      Kristen Franklin  Entertainment  real     0  \n",
       "19998     Reuters            David Wise         Health  fake     1  \n",
       "19999  Daily News        James Peterson         Health  fake     1  \n",
       "\n",
       "[20000 rows x 8 columns]"
      ]
     },
     "execution_count": 24,
     "metadata": {},
     "output_type": "execute_result"
    }
   ],
   "source": [
    "df['fake'] = df['label'].map({\"real\": 0, \"fake\": 1})\n",
    "df"
   ]
  },
  {
   "cell_type": "code",
   "execution_count": 25,
   "id": "8840ac35",
   "metadata": {},
   "outputs": [
    {
     "name": "stdout",
     "output_type": "stream",
     "text": [
      "(20000, 8)\n",
      "<class 'pandas.core.frame.DataFrame'>\n",
      "RangeIndex: 20000 entries, 0 to 19999\n",
      "Data columns (total 8 columns):\n",
      " #   Column    Non-Null Count  Dtype \n",
      "---  ------    --------------  ----- \n",
      " 0   title     20000 non-null  object\n",
      " 1   text      20000 non-null  object\n",
      " 2   date      20000 non-null  object\n",
      " 3   source    19000 non-null  object\n",
      " 4   author    19000 non-null  object\n",
      " 5   category  20000 non-null  object\n",
      " 6   label     20000 non-null  object\n",
      " 7   fake      20000 non-null  int64 \n",
      "dtypes: int64(1), object(7)\n",
      "memory usage: 1.2+ MB\n",
      "None\n"
     ]
    }
   ],
   "source": [
    "print(df.shape)\n",
    "print(df.info()) "
   ]
  },
  {
   "cell_type": "code",
   "execution_count": 26,
   "id": "0343fe03",
   "metadata": {},
   "outputs": [
    {
     "name": "stdout",
     "output_type": "stream",
     "text": [
      "title          0\n",
      "text           0\n",
      "date           0\n",
      "source      1000\n",
      "author      1000\n",
      "category       0\n",
      "label          0\n",
      "fake           0\n",
      "dtype: int64\n"
     ]
    }
   ],
   "source": [
    "print(df.isnull().sum())"
   ]
  },
  {
   "cell_type": "code",
   "execution_count": 27,
   "id": "7660660d",
   "metadata": {},
   "outputs": [
    {
     "name": "stdout",
     "output_type": "stream",
     "text": [
      "Liczba pustych tekstów: 0\n",
      "Liczba pustych tytułów: 0\n"
     ]
    }
   ],
   "source": [
    "empty_text = df[df['text'].isnull() | (df['text'].str.strip() == '')]\n",
    "empty_title = df[df['title'].isnull() | (df['title'].str.strip() == '')]\n",
    "\n",
    "print(f\"Liczba pustych tekstów: {len(empty_text)}\")\n",
    "print(f\"Liczba pustych tytułów: {len(empty_title)}\")\n"
   ]
  },
  {
   "cell_type": "markdown",
   "id": "dae46df5f895c854",
   "metadata": {},
   "source": [
    "### Removing empty values."
   ]
  },
  {
   "cell_type": "markdown",
   "id": "86cd31d87eb8a645",
   "metadata": {},
   "source": [
    "### Removing duplicates."
   ]
  },
  {
   "cell_type": "code",
   "execution_count": 28,
   "id": "ad9ace71e32df91e",
   "metadata": {
    "ExecuteTime": {
     "end_time": "2025-08-23T17:37:20.423876Z",
     "start_time": "2025-08-23T17:37:20.212566Z"
    }
   },
   "outputs": [
    {
     "data": {
      "text/html": [
       "<div>\n",
       "<style scoped>\n",
       "    .dataframe tbody tr th:only-of-type {\n",
       "        vertical-align: middle;\n",
       "    }\n",
       "\n",
       "    .dataframe tbody tr th {\n",
       "        vertical-align: top;\n",
       "    }\n",
       "\n",
       "    .dataframe thead th {\n",
       "        text-align: right;\n",
       "    }\n",
       "</style>\n",
       "<table border=\"1\" class=\"dataframe\">\n",
       "  <thead>\n",
       "    <tr style=\"text-align: right;\">\n",
       "      <th></th>\n",
       "      <th>title</th>\n",
       "      <th>text</th>\n",
       "      <th>date</th>\n",
       "      <th>source</th>\n",
       "      <th>author</th>\n",
       "      <th>category</th>\n",
       "      <th>label</th>\n",
       "      <th>fake</th>\n",
       "    </tr>\n",
       "  </thead>\n",
       "  <tbody>\n",
       "    <tr>\n",
       "      <th>0</th>\n",
       "      <td>Foreign Democrat final.</td>\n",
       "      <td>more tax development both store agreement lawy...</td>\n",
       "      <td>2023-03-10</td>\n",
       "      <td>NY Times</td>\n",
       "      <td>Paula George</td>\n",
       "      <td>Politics</td>\n",
       "      <td>real</td>\n",
       "      <td>0</td>\n",
       "    </tr>\n",
       "    <tr>\n",
       "      <th>1</th>\n",
       "      <td>To offer down resource great point.</td>\n",
       "      <td>probably guess western behind likely next inve...</td>\n",
       "      <td>2022-05-25</td>\n",
       "      <td>Fox News</td>\n",
       "      <td>Joseph Hill</td>\n",
       "      <td>Politics</td>\n",
       "      <td>fake</td>\n",
       "      <td>1</td>\n",
       "    </tr>\n",
       "    <tr>\n",
       "      <th>2</th>\n",
       "      <td>Himself church myself carry.</td>\n",
       "      <td>them identify forward present success risk sev...</td>\n",
       "      <td>2022-09-01</td>\n",
       "      <td>CNN</td>\n",
       "      <td>Julia Robinson</td>\n",
       "      <td>Business</td>\n",
       "      <td>fake</td>\n",
       "      <td>1</td>\n",
       "    </tr>\n",
       "    <tr>\n",
       "      <th>3</th>\n",
       "      <td>You unit its should.</td>\n",
       "      <td>phone which item yard Republican safe where po...</td>\n",
       "      <td>2023-02-07</td>\n",
       "      <td>Reuters</td>\n",
       "      <td>Mr. David Foster DDS</td>\n",
       "      <td>Science</td>\n",
       "      <td>fake</td>\n",
       "      <td>1</td>\n",
       "    </tr>\n",
       "    <tr>\n",
       "      <th>4</th>\n",
       "      <td>Billion believe employee summer how.</td>\n",
       "      <td>wonder myself fact difficult course forget exa...</td>\n",
       "      <td>2023-04-03</td>\n",
       "      <td>CNN</td>\n",
       "      <td>Austin Walker</td>\n",
       "      <td>Technology</td>\n",
       "      <td>fake</td>\n",
       "      <td>1</td>\n",
       "    </tr>\n",
       "  </tbody>\n",
       "</table>\n",
       "</div>"
      ],
      "text/plain": [
       "                                  title  \\\n",
       "0               Foreign Democrat final.   \n",
       "1   To offer down resource great point.   \n",
       "2          Himself church myself carry.   \n",
       "3                  You unit its should.   \n",
       "4  Billion believe employee summer how.   \n",
       "\n",
       "                                                text        date    source  \\\n",
       "0  more tax development both store agreement lawy...  2023-03-10  NY Times   \n",
       "1  probably guess western behind likely next inve...  2022-05-25  Fox News   \n",
       "2  them identify forward present success risk sev...  2022-09-01       CNN   \n",
       "3  phone which item yard Republican safe where po...  2023-02-07   Reuters   \n",
       "4  wonder myself fact difficult course forget exa...  2023-04-03       CNN   \n",
       "\n",
       "                 author    category label  fake  \n",
       "0          Paula George    Politics  real     0  \n",
       "1           Joseph Hill    Politics  fake     1  \n",
       "2        Julia Robinson    Business  fake     1  \n",
       "3  Mr. David Foster DDS     Science  fake     1  \n",
       "4         Austin Walker  Technology  fake     1  "
      ]
     },
     "execution_count": 28,
     "metadata": {},
     "output_type": "execute_result"
    }
   ],
   "source": [
    "df = df.drop_duplicates()\n",
    "df.head()"
   ]
  },
  {
   "cell_type": "code",
   "execution_count": 29,
   "id": "9c25144043be6bf6",
   "metadata": {
    "ExecuteTime": {
     "end_time": "2025-08-23T17:40:29.382994Z",
     "start_time": "2025-08-23T17:40:29.376369Z"
    }
   },
   "outputs": [
    {
     "name": "stdout",
     "output_type": "stream",
     "text": [
      "(20000, 8)\n"
     ]
    }
   ],
   "source": [
    "df = df.reset_index(drop=True)\n",
    "print(df.shape)"
   ]
  },
  {
   "cell_type": "code",
   "execution_count": 30,
   "id": "bd54f54b9b76359",
   "metadata": {
    "ExecuteTime": {
     "end_time": "2025-08-23T17:43:20.605029Z",
     "start_time": "2025-08-23T17:43:20.590631Z"
    }
   },
   "outputs": [
    {
     "name": "stdout",
     "output_type": "stream",
     "text": [
      "                                  title  \\\n",
      "0               Foreign Democrat final.   \n",
      "1   To offer down resource great point.   \n",
      "2          Himself church myself carry.   \n",
      "3                  You unit its should.   \n",
      "4  Billion believe employee summer how.   \n",
      "\n",
      "                                                text  fake  \n",
      "0  more tax development both store agreement lawy...     0  \n",
      "1  probably guess western behind likely next inve...     1  \n",
      "2  them identify forward present success risk sev...     1  \n",
      "3  phone which item yard Republican safe where po...     1  \n",
      "4  wonder myself fact difficult course forget exa...     1  \n",
      "Index(['title', 'text', 'fake'], dtype='object')\n",
      "<class 'pandas.core.frame.DataFrame'>\n",
      "RangeIndex: 20000 entries, 0 to 19999\n",
      "Data columns (total 3 columns):\n",
      " #   Column  Non-Null Count  Dtype \n",
      "---  ------  --------------  ----- \n",
      " 0   title   20000 non-null  object\n",
      " 1   text    20000 non-null  object\n",
      " 2   fake    20000 non-null  int64 \n",
      "dtypes: int64(1), object(2)\n",
      "memory usage: 468.9+ KB\n"
     ]
    }
   ],
   "source": [
    "df = df[['title', 'text', 'fake']]\n",
    "\n",
    "print(df.head())\n",
    "print(df.columns)\n",
    "\n",
    "df.info()"
   ]
  },
  {
   "cell_type": "code",
   "execution_count": 31,
   "id": "7d94e3ff",
   "metadata": {},
   "outputs": [
    {
     "name": "stdout",
     "output_type": "stream",
     "text": [
      "['title', 'text', 'fake']\n"
     ]
    }
   ],
   "source": [
    "print(df.columns.tolist())"
   ]
  },
  {
   "cell_type": "code",
   "execution_count": 32,
   "id": "a6ff883c",
   "metadata": {},
   "outputs": [],
   "source": [
    "df_eda=df.copy()"
   ]
  },
  {
   "cell_type": "code",
   "execution_count": 33,
   "id": "30532131",
   "metadata": {},
   "outputs": [],
   "source": [
    "\n",
    "df[\"title_text\"] = df[\"title\"].fillna('') + \" \" + df[\"text\"].fillna('')\n",
    "df = df[[\"title_text\", \"fake\"]]\n",
    "\n",
    "# Zapis do CSV \n",
    "#df[[\"title_text\", \"fake\"]].to_csv(\"fake-news-detection-dataset_ready.csv\", index=False)"
   ]
  },
  {
   "cell_type": "code",
   "execution_count": 34,
   "id": "39de2a26",
   "metadata": {},
   "outputs": [
    {
     "data": {
      "text/html": [
       "<div>\n",
       "<style scoped>\n",
       "    .dataframe tbody tr th:only-of-type {\n",
       "        vertical-align: middle;\n",
       "    }\n",
       "\n",
       "    .dataframe tbody tr th {\n",
       "        vertical-align: top;\n",
       "    }\n",
       "\n",
       "    .dataframe thead th {\n",
       "        text-align: right;\n",
       "    }\n",
       "</style>\n",
       "<table border=\"1\" class=\"dataframe\">\n",
       "  <thead>\n",
       "    <tr style=\"text-align: right;\">\n",
       "      <th></th>\n",
       "      <th>title_text</th>\n",
       "      <th>fake</th>\n",
       "    </tr>\n",
       "  </thead>\n",
       "  <tbody>\n",
       "    <tr>\n",
       "      <th>0</th>\n",
       "      <td>Foreign Democrat final. more tax development b...</td>\n",
       "      <td>0</td>\n",
       "    </tr>\n",
       "    <tr>\n",
       "      <th>1</th>\n",
       "      <td>To offer down resource great point. probably g...</td>\n",
       "      <td>1</td>\n",
       "    </tr>\n",
       "    <tr>\n",
       "      <th>2</th>\n",
       "      <td>Himself church myself carry. them identify for...</td>\n",
       "      <td>1</td>\n",
       "    </tr>\n",
       "    <tr>\n",
       "      <th>3</th>\n",
       "      <td>You unit its should. phone which item yard Rep...</td>\n",
       "      <td>1</td>\n",
       "    </tr>\n",
       "    <tr>\n",
       "      <th>4</th>\n",
       "      <td>Billion believe employee summer how. wonder my...</td>\n",
       "      <td>1</td>\n",
       "    </tr>\n",
       "  </tbody>\n",
       "</table>\n",
       "</div>"
      ],
      "text/plain": [
       "                                          title_text  fake\n",
       "0  Foreign Democrat final. more tax development b...     0\n",
       "1  To offer down resource great point. probably g...     1\n",
       "2  Himself church myself carry. them identify for...     1\n",
       "3  You unit its should. phone which item yard Rep...     1\n",
       "4  Billion believe employee summer how. wonder my...     1"
      ]
     },
     "execution_count": 34,
     "metadata": {},
     "output_type": "execute_result"
    }
   ],
   "source": [
    "df.head()"
   ]
  },
  {
   "cell_type": "markdown",
   "id": "8479d66fda70f71d",
   "metadata": {},
   "source": [
    "## EDA"
   ]
  },
  {
   "cell_type": "code",
   "execution_count": 35,
   "id": "50c3eef0abdf2b7d",
   "metadata": {},
   "outputs": [
    {
     "name": "stdout",
     "output_type": "stream",
     "text": [
      "Liczebność klas (0=real, 1=fake):\n",
      " fake\n",
      "0     9944\n",
      "1    10056\n",
      "Name: count, dtype: int64\n",
      "\n",
      "Udział procentowy:\n",
      " fake\n",
      "0    49.72\n",
      "1    50.28\n",
      "Name: proportion, dtype: float64\n"
     ]
    },
    {
     "data": {
      "image/png": "[encoded data removed]",
      "text/plain": [
       "<Figure size 640x480 with 1 Axes>"
      ]
     },
     "metadata": {},
     "output_type": "display_data"
    }
   ],
   "source": [
    "import seaborn as sns\n",
    "import matplotlib.pyplot as plt\n",
    "\n",
    "counts = df[\"fake\"].value_counts().sort_index()\n",
    "props = df[\"fake\"].value_counts(normalize=True).sort_index() * 100\n",
    "\n",
    "print(\"Liczebność klas (0=real, 1=fake):\\n\", counts)\n",
    "print(\"\\nUdział procentowy:\\n\", props.round(2))\n",
    "\n",
    "labels = [\"Real (0)\", \"Fake (1)\"]\n",
    "values = [counts.get(0, 0), counts.get(1, 0)]\n",
    "\n",
    "fig, ax = plt.subplots()\n",
    "ax.bar(labels, values)\n",
    "ax.set_title(\"Rozkład klas (Real vs Fake)\")\n",
    "ax.set_ylabel(\"Liczba artykułów\")\n",
    "for i, v in enumerate(values):\n",
    "    ax.text(i, v, str(v), ha=\"center\", va=\"bottom\")\n",
    "plt.show()"
   ]
  },
  {
   "cell_type": "code",
   "execution_count": 36,
   "id": "0bd40735",
   "metadata": {},
   "outputs": [
    {
     "data": {
      "image/png": "[encoded data removed]",
      "text/plain": [
       "<Figure size 640x480 with 1 Axes>"
      ]
     },
     "metadata": {},
     "output_type": "display_data"
    }
   ],
   "source": [
    "df_eda[\"text_len\"] = df_eda[\"text\"].str.len()\n",
    "sns.histplot(data=df_eda, x=\"text_len\", hue=\"fake\", bins=50, kde=True)\n",
    "plt.title(\"Rozkład długości artykułów (Fake vs Real)\")\n",
    "plt.show()"
   ]
  },
  {
   "cell_type": "code",
   "execution_count": 37,
   "id": "0b5372bb",
   "metadata": {},
   "outputs": [
    {
     "data": {
      "text/html": [
       "<div>\n",
       "<style scoped>\n",
       "    .dataframe tbody tr th:only-of-type {\n",
       "        vertical-align: middle;\n",
       "    }\n",
       "\n",
       "    .dataframe tbody tr th {\n",
       "        vertical-align: top;\n",
       "    }\n",
       "\n",
       "    .dataframe thead tr th {\n",
       "        text-align: left;\n",
       "    }\n",
       "\n",
       "    .dataframe thead tr:last-of-type th {\n",
       "        text-align: right;\n",
       "    }\n",
       "</style>\n",
       "<table border=\"1\" class=\"dataframe\">\n",
       "  <thead>\n",
       "    <tr>\n",
       "      <th></th>\n",
       "      <th colspan=\"8\" halign=\"left\">text_len_chars</th>\n",
       "      <th colspan=\"2\" halign=\"left\">title_len_chars</th>\n",
       "      <th>...</th>\n",
       "      <th colspan=\"2\" halign=\"left\">text_len_words</th>\n",
       "      <th colspan=\"8\" halign=\"left\">title_len_words</th>\n",
       "    </tr>\n",
       "    <tr>\n",
       "      <th></th>\n",
       "      <th>count</th>\n",
       "      <th>mean</th>\n",
       "      <th>std</th>\n",
       "      <th>min</th>\n",
       "      <th>25%</th>\n",
       "      <th>50%</th>\n",
       "      <th>75%</th>\n",
       "      <th>max</th>\n",
       "      <th>count</th>\n",
       "      <th>mean</th>\n",
       "      <th>...</th>\n",
       "      <th>75%</th>\n",
       "      <th>max</th>\n",
       "      <th>count</th>\n",
       "      <th>mean</th>\n",
       "      <th>std</th>\n",
       "      <th>min</th>\n",
       "      <th>25%</th>\n",
       "      <th>50%</th>\n",
       "      <th>75%</th>\n",
       "      <th>max</th>\n",
       "    </tr>\n",
       "    <tr>\n",
       "      <th>fake</th>\n",
       "      <th></th>\n",
       "      <th></th>\n",
       "      <th></th>\n",
       "      <th></th>\n",
       "      <th></th>\n",
       "      <th></th>\n",
       "      <th></th>\n",
       "      <th></th>\n",
       "      <th></th>\n",
       "      <th></th>\n",
       "      <th></th>\n",
       "      <th></th>\n",
       "      <th></th>\n",
       "      <th></th>\n",
       "      <th></th>\n",
       "      <th></th>\n",
       "      <th></th>\n",
       "      <th></th>\n",
       "      <th></th>\n",
       "      <th></th>\n",
       "      <th></th>\n",
       "    </tr>\n",
       "  </thead>\n",
       "  <tbody>\n",
       "    <tr>\n",
       "      <th>0</th>\n",
       "      <td>9944.0</td>\n",
       "      <td>1636.582562</td>\n",
       "      <td>191.544605</td>\n",
       "      <td>1234.0</td>\n",
       "      <td>1474.00</td>\n",
       "      <td>1636.0</td>\n",
       "      <td>1799.0</td>\n",
       "      <td>2077.0</td>\n",
       "      <td>9944.0</td>\n",
       "      <td>36.109413</td>\n",
       "      <td>...</td>\n",
       "      <td>275.0</td>\n",
       "      <td>300.0</td>\n",
       "      <td>9944.0</td>\n",
       "      <td>5.508246</td>\n",
       "      <td>1.444934</td>\n",
       "      <td>3.0</td>\n",
       "      <td>4.0</td>\n",
       "      <td>6.0</td>\n",
       "      <td>7.0</td>\n",
       "      <td>8.0</td>\n",
       "    </tr>\n",
       "    <tr>\n",
       "      <th>1</th>\n",
       "      <td>10056.0</td>\n",
       "      <td>1633.665573</td>\n",
       "      <td>194.141594</td>\n",
       "      <td>1223.0</td>\n",
       "      <td>1467.75</td>\n",
       "      <td>1631.0</td>\n",
       "      <td>1798.0</td>\n",
       "      <td>2054.0</td>\n",
       "      <td>10056.0</td>\n",
       "      <td>35.833333</td>\n",
       "      <td>...</td>\n",
       "      <td>275.0</td>\n",
       "      <td>300.0</td>\n",
       "      <td>10056.0</td>\n",
       "      <td>5.488564</td>\n",
       "      <td>1.455410</td>\n",
       "      <td>3.0</td>\n",
       "      <td>4.0</td>\n",
       "      <td>5.0</td>\n",
       "      <td>7.0</td>\n",
       "      <td>8.0</td>\n",
       "    </tr>\n",
       "  </tbody>\n",
       "</table>\n",
       "<p>2 rows × 32 columns</p>\n",
       "</div>"
      ],
      "text/plain": [
       "     text_len_chars                                                            \\\n",
       "              count         mean         std     min      25%     50%     75%   \n",
       "fake                                                                            \n",
       "0            9944.0  1636.582562  191.544605  1234.0  1474.00  1636.0  1799.0   \n",
       "1           10056.0  1633.665573  194.141594  1223.0  1467.75  1631.0  1798.0   \n",
       "\n",
       "             title_len_chars             ... text_len_words         \\\n",
       "         max           count       mean  ...            75%    max   \n",
       "fake                                     ...                         \n",
       "0     2077.0          9944.0  36.109413  ...          275.0  300.0   \n",
       "1     2054.0         10056.0  35.833333  ...          275.0  300.0   \n",
       "\n",
       "     title_len_words                                               \n",
       "               count      mean       std  min  25%  50%  75%  max  \n",
       "fake                                                               \n",
       "0             9944.0  5.508246  1.444934  3.0  4.0  6.0  7.0  8.0  \n",
       "1            10056.0  5.488564  1.455410  3.0  4.0  5.0  7.0  8.0  \n",
       "\n",
       "[2 rows x 32 columns]"
      ]
     },
     "metadata": {},
     "output_type": "display_data"
    },
    {
     "data": {
      "image/png": "[encoded data removed]",
      "text/plain": [
       "<Figure size 640x480 with 1 Axes>"
      ]
     },
     "metadata": {},
     "output_type": "display_data"
    },
    {
     "name": "stderr",
     "output_type": "stream",
     "text": [
      "C:\\Users\\Alicja\\AppData\\Local\\Temp\\ipykernel_9784\\2048335607.py:24: MatplotlibDeprecationWarning: The 'labels' parameter of boxplot() has been renamed 'tick_labels' since Matplotlib 3.9; support for the old name will be dropped in 3.11.\n",
      "  ax.boxplot(data_box, labels=[\"Real (0)\", \"Fake (1)\"], showfliers=False)\n"
     ]
    },
    {
     "data": {
      "image/png": "[encoded data removed]",
      "text/plain": [
       "<Figure size 640x480 with 1 Axes>"
      ]
     },
     "metadata": {},
     "output_type": "display_data"
    }
   ],
   "source": [
    "df_eda[\"text_len_chars\"]  = df_eda[\"text\"].str.len()\n",
    "df_eda[\"title_len_chars\"] = df_eda[\"title\"].str.len()\n",
    "df_eda[\"text_len_words\"]  = df_eda[\"text\"].str.split().str.len()\n",
    "df_eda[\"title_len_words\"] = df_eda[\"title\"].str.split().str.len()\n",
    "\n",
    "desc = df_eda.groupby(\"fake\")[[\"text_len_chars\",\"title_len_chars\",\"text_len_words\",\"title_len_words\"]].describe()\n",
    "display(desc)\n",
    "\n",
    "# Histogram \n",
    "bins = 60\n",
    "fig, ax = plt.subplots()\n",
    "ax.hist(df_eda.loc[df_eda[\"fake\"]==0, \"text_len_words\"], bins=bins, alpha=0.6, label=\"Real (0)\")\n",
    "ax.hist(df_eda.loc[df_eda[\"fake\"]==1, \"text_len_words\"], bins=bins, alpha=0.6, label=\"Fake (1)\")\n",
    "ax.set_title(\"Rozkład długości tekstu (liczba słów)\")\n",
    "ax.set_xlabel(\"Liczba słów\")\n",
    "ax.set_ylabel(\"Liczba artykułów\")\n",
    "ax.legend()\n",
    "plt.show()\n",
    "\n",
    "# Boxplot \n",
    "data_box = [df_eda.loc[df_eda[\"fake\"]==0, \"title_len_words\"].dropna(),\n",
    "            df_eda.loc[df_eda[\"fake\"]==1, \"title_len_words\"].dropna()]\n",
    "fig, ax = plt.subplots()\n",
    "ax.boxplot(data_box, labels=[\"Real (0)\", \"Fake (1)\"], showfliers=False)\n",
    "ax.set_title(\"Długość tytułów (liczba słów) bez outlierów\")\n",
    "ax.set_ylabel(\"Liczba słów w tytule\")\n",
    "plt.show()"
   ]
  },
  {
   "cell_type": "markdown",
   "id": "b3b1f72dad1fdfb6",
   "metadata": {},
   "source": [
    "## Clearing data for modeling"
   ]
  },
  {
   "cell_type": "code",
   "execution_count": 38,
   "id": "d348adda",
   "metadata": {},
   "outputs": [
    {
     "data": {
      "text/plain": [
       "Index(['title_text', 'fake'], dtype='object')"
      ]
     },
     "execution_count": 38,
     "metadata": {},
     "output_type": "execute_result"
    }
   ],
   "source": [
    "df.columns"
   ]
  },
  {
   "cell_type": "code",
   "execution_count": 39,
   "id": "bb167691",
   "metadata": {},
   "outputs": [
    {
     "data": {
      "text/html": [
       "<div>\n",
       "<style scoped>\n",
       "    .dataframe tbody tr th:only-of-type {\n",
       "        vertical-align: middle;\n",
       "    }\n",
       "\n",
       "    .dataframe tbody tr th {\n",
       "        vertical-align: top;\n",
       "    }\n",
       "\n",
       "    .dataframe thead th {\n",
       "        text-align: right;\n",
       "    }\n",
       "</style>\n",
       "<table border=\"1\" class=\"dataframe\">\n",
       "  <thead>\n",
       "    <tr style=\"text-align: right;\">\n",
       "      <th></th>\n",
       "      <th>title_text</th>\n",
       "      <th>fake</th>\n",
       "    </tr>\n",
       "  </thead>\n",
       "  <tbody>\n",
       "    <tr>\n",
       "      <th>0</th>\n",
       "      <td>Foreign Democrat final. more tax development b...</td>\n",
       "      <td>0</td>\n",
       "    </tr>\n",
       "    <tr>\n",
       "      <th>1</th>\n",
       "      <td>To offer down resource great point. probably g...</td>\n",
       "      <td>1</td>\n",
       "    </tr>\n",
       "    <tr>\n",
       "      <th>2</th>\n",
       "      <td>Himself church myself carry. them identify for...</td>\n",
       "      <td>1</td>\n",
       "    </tr>\n",
       "    <tr>\n",
       "      <th>3</th>\n",
       "      <td>You unit its should. phone which item yard Rep...</td>\n",
       "      <td>1</td>\n",
       "    </tr>\n",
       "    <tr>\n",
       "      <th>4</th>\n",
       "      <td>Billion believe employee summer how. wonder my...</td>\n",
       "      <td>1</td>\n",
       "    </tr>\n",
       "    <tr>\n",
       "      <th>...</th>\n",
       "      <td>...</td>\n",
       "      <td>...</td>\n",
       "    </tr>\n",
       "    <tr>\n",
       "      <th>19995</th>\n",
       "      <td>House party born. hit and television I change ...</td>\n",
       "      <td>1</td>\n",
       "    </tr>\n",
       "    <tr>\n",
       "      <th>19996</th>\n",
       "      <td>Though nation people maybe price box. fear mos...</td>\n",
       "      <td>0</td>\n",
       "    </tr>\n",
       "    <tr>\n",
       "      <th>19997</th>\n",
       "      <td>Yet exist with experience unit. activity loss ...</td>\n",
       "      <td>0</td>\n",
       "    </tr>\n",
       "    <tr>\n",
       "      <th>19998</th>\n",
       "      <td>School wide itself item. term point general co...</td>\n",
       "      <td>1</td>\n",
       "    </tr>\n",
       "    <tr>\n",
       "      <th>19999</th>\n",
       "      <td>Offer chair cover senior born. remain pressure...</td>\n",
       "      <td>1</td>\n",
       "    </tr>\n",
       "  </tbody>\n",
       "</table>\n",
       "<p>20000 rows × 2 columns</p>\n",
       "</div>"
      ],
      "text/plain": [
       "                                              title_text  fake\n",
       "0      Foreign Democrat final. more tax development b...     0\n",
       "1      To offer down resource great point. probably g...     1\n",
       "2      Himself church myself carry. them identify for...     1\n",
       "3      You unit its should. phone which item yard Rep...     1\n",
       "4      Billion believe employee summer how. wonder my...     1\n",
       "...                                                  ...   ...\n",
       "19995  House party born. hit and television I change ...     1\n",
       "19996  Though nation people maybe price box. fear mos...     0\n",
       "19997  Yet exist with experience unit. activity loss ...     0\n",
       "19998  School wide itself item. term point general co...     1\n",
       "19999  Offer chair cover senior born. remain pressure...     1\n",
       "\n",
       "[20000 rows x 2 columns]"
      ]
     },
     "execution_count": 39,
     "metadata": {},
     "output_type": "execute_result"
    }
   ],
   "source": [
    "df"
   ]
  },
  {
   "cell_type": "code",
   "execution_count": 40,
   "id": "6ea66be9e46e93c",
   "metadata": {
    "ExecuteTime": {
     "end_time": "2025-08-23T18:57:26.171902Z",
     "start_time": "2025-08-23T18:57:26.160540Z"
    }
   },
   "outputs": [
    {
     "data": {
      "text/html": [
       "<div>\n",
       "<style scoped>\n",
       "    .dataframe tbody tr th:only-of-type {\n",
       "        vertical-align: middle;\n",
       "    }\n",
       "\n",
       "    .dataframe tbody tr th {\n",
       "        vertical-align: top;\n",
       "    }\n",
       "\n",
       "    .dataframe thead th {\n",
       "        text-align: right;\n",
       "    }\n",
       "</style>\n",
       "<table border=\"1\" class=\"dataframe\">\n",
       "  <thead>\n",
       "    <tr style=\"text-align: right;\">\n",
       "      <th></th>\n",
       "      <th>title_text</th>\n",
       "      <th>fake</th>\n",
       "    </tr>\n",
       "  </thead>\n",
       "  <tbody>\n",
       "    <tr>\n",
       "      <th>0</th>\n",
       "      <td>Foreign Democrat final. more tax development b...</td>\n",
       "      <td>0</td>\n",
       "    </tr>\n",
       "    <tr>\n",
       "      <th>1</th>\n",
       "      <td>To offer down resource great point. probably g...</td>\n",
       "      <td>1</td>\n",
       "    </tr>\n",
       "    <tr>\n",
       "      <th>2</th>\n",
       "      <td>Himself church myself carry. them identify for...</td>\n",
       "      <td>1</td>\n",
       "    </tr>\n",
       "    <tr>\n",
       "      <th>3</th>\n",
       "      <td>You unit its should. phone which item yard Rep...</td>\n",
       "      <td>1</td>\n",
       "    </tr>\n",
       "    <tr>\n",
       "      <th>4</th>\n",
       "      <td>Billion believe employee summer how. wonder my...</td>\n",
       "      <td>1</td>\n",
       "    </tr>\n",
       "  </tbody>\n",
       "</table>\n",
       "</div>"
      ],
      "text/plain": [
       "                                          title_text  fake\n",
       "0  Foreign Democrat final. more tax development b...     0\n",
       "1  To offer down resource great point. probably g...     1\n",
       "2  Himself church myself carry. them identify for...     1\n",
       "3  You unit its should. phone which item yard Rep...     1\n",
       "4  Billion believe employee summer how. wonder my...     1"
      ]
     },
     "execution_count": 40,
     "metadata": {},
     "output_type": "execute_result"
    }
   ],
   "source": [
    "df_modeling = df\n",
    "df_modeling.head()"
   ]
  },
  {
   "cell_type": "markdown",
   "id": "64eee24a",
   "metadata": {},
   "source": [
    "stopwords NLTK +prepocess"
   ]
  },
  {
   "cell_type": "code",
   "execution_count": 43,
   "id": "20bfffbe",
   "metadata": {},
   "outputs": [
    {
     "name": "stderr",
     "output_type": "stream",
     "text": [
      "[nltk_data] Downloading package stopwords to\n",
      "[nltk_data]     C:\\Users\\Alicja\\AppData\\Roaming\\nltk_data...\n",
      "[nltk_data]   Package stopwords is already up-to-date!\n",
      "[nltk_data] Downloading package wordnet to\n",
      "[nltk_data]     C:\\Users\\Alicja\\AppData\\Roaming\\nltk_data...\n",
      "[nltk_data]   Package wordnet is already up-to-date!\n"
     ]
    },
    {
     "data": {
      "text/html": [
       "<div>\n",
       "<style scoped>\n",
       "    .dataframe tbody tr th:only-of-type {\n",
       "        vertical-align: middle;\n",
       "    }\n",
       "\n",
       "    .dataframe tbody tr th {\n",
       "        vertical-align: top;\n",
       "    }\n",
       "\n",
       "    .dataframe thead th {\n",
       "        text-align: right;\n",
       "    }\n",
       "</style>\n",
       "<table border=\"1\" class=\"dataframe\">\n",
       "  <thead>\n",
       "    <tr style=\"text-align: right;\">\n",
       "      <th></th>\n",
       "      <th>title_text</th>\n",
       "      <th>fake</th>\n",
       "      <th>Lemmatized Text</th>\n",
       "    </tr>\n",
       "  </thead>\n",
       "  <tbody>\n",
       "    <tr>\n",
       "      <th>0</th>\n",
       "      <td>Foreign Democrat final. more tax development b...</td>\n",
       "      <td>0</td>\n",
       "      <td>[foreign, democrat, final, tax, development, s...</td>\n",
       "    </tr>\n",
       "    <tr>\n",
       "      <th>1</th>\n",
       "      <td>To offer down resource great point. probably g...</td>\n",
       "      <td>1</td>\n",
       "      <td>[offer, resource, great, point, probably, gues...</td>\n",
       "    </tr>\n",
       "    <tr>\n",
       "      <th>2</th>\n",
       "      <td>Himself church myself carry. them identify for...</td>\n",
       "      <td>1</td>\n",
       "      <td>[church, carry, identify, forward, present, su...</td>\n",
       "    </tr>\n",
       "    <tr>\n",
       "      <th>3</th>\n",
       "      <td>You unit its should. phone which item yard Rep...</td>\n",
       "      <td>1</td>\n",
       "      <td>[unit, phone, item, yard, republican, safe, po...</td>\n",
       "    </tr>\n",
       "    <tr>\n",
       "      <th>4</th>\n",
       "      <td>Billion believe employee summer how. wonder my...</td>\n",
       "      <td>1</td>\n",
       "      <td>[billion, believe, employee, summer, wonder, f...</td>\n",
       "    </tr>\n",
       "  </tbody>\n",
       "</table>\n",
       "</div>"
      ],
      "text/plain": [
       "                                          title_text  fake  \\\n",
       "0  Foreign Democrat final. more tax development b...     0   \n",
       "1  To offer down resource great point. probably g...     1   \n",
       "2  Himself church myself carry. them identify for...     1   \n",
       "3  You unit its should. phone which item yard Rep...     1   \n",
       "4  Billion believe employee summer how. wonder my...     1   \n",
       "\n",
       "                                     Lemmatized Text  \n",
       "0  [foreign, democrat, final, tax, development, s...  \n",
       "1  [offer, resource, great, point, probably, gues...  \n",
       "2  [church, carry, identify, forward, present, su...  \n",
       "3  [unit, phone, item, yard, republican, safe, po...  \n",
       "4  [billion, believe, employee, summer, wonder, f...  "
      ]
     },
     "execution_count": 43,
     "metadata": {},
     "output_type": "execute_result"
    }
   ],
   "source": [
    "import pandas as pd\n",
    "import nltk\n",
    "import re\n",
    "from nltk.corpus import stopwords\n",
    "from nltk.stem import WordNetLemmatizer\n",
    "\n",
    "nltk.download('stopwords')\n",
    "nltk.download('wordnet')\n",
    "\n",
    "stop_words = set(stopwords.words('english'))\n",
    "lemmatizer = WordNetLemmatizer()\n",
    "\n",
    "def full_preprocess(text):\n",
    "    text = str(text)\n",
    "    \n",
    "    # 1. Tokenizacja po spacji i usuwanie znaków niealfabetycznych\n",
    "    tokens = [re.sub(r'[^a-zA-Z]', '', word) for word in text.split()]\n",
    "    \n",
    "    # 2. Usuwanie pustych tokenów i stopwords\n",
    "    tokens = [word for word in tokens if word and word.lower() not in stop_words]\n",
    "    \n",
    "    # 3. Lematyzacja\n",
    "    lemmatized = [lemmatizer.lemmatize(token.lower(), pos='v') for token in tokens]\n",
    "    \n",
    "    return lemmatized\n",
    "\n",
    "\n",
    "df_modeling['Lemmatized Text'] = df_modeling['title_text'].apply(full_preprocess)\n",
    "\n",
    "df_modeling.head()"
   ]
  },
  {
   "cell_type": "code",
   "execution_count": 44,
   "id": "dede8ba6",
   "metadata": {},
   "outputs": [
    {
     "name": "stdout",
     "output_type": "stream",
     "text": [
      "Top 15 słów w Fake:\n",
      "        Word  Count\n",
      "0       even   5409\n",
      "1       meet   5356\n",
      "2   interest   5347\n",
      "3      think   5318\n",
      "4      leave   5309\n",
      "5    include   5235\n",
      "6      build   5213\n",
      "7       feel   5194\n",
      "8     summer   2803\n",
      "9      offer   2785\n",
      "10      wear   2785\n",
      "11      wide   2785\n",
      "12      easy   2785\n",
      "13    moment   2782\n",
      "14      lose   2772\n",
      "\n",
      "Top 15 słów w Real:\n",
      "        Word  Count\n",
      "0      think   5457\n",
      "1      leave   5358\n",
      "2      build   5332\n",
      "3       even   5260\n",
      "4       feel   5158\n",
      "5       meet   5137\n",
      "6   interest   5089\n",
      "7    include   5017\n",
      "8    economy   2804\n",
      "9     member   2779\n",
      "10   reflect   2770\n",
      "11   purpose   2769\n",
      "12      else   2769\n",
      "13       bar   2764\n",
      "14      size   2761\n"
     ]
    }
   ],
   "source": [
    "from collections import Counter\n",
    "\n",
    "def most_common_words(tokens_series, n=15):\n",
    "    all_tokens = [token for tokens in tokens_series for token in tokens]\n",
    "    counter = Counter(all_tokens)\n",
    "    return pd.DataFrame(counter.most_common(n), columns=['Word', 'Count'])\n",
    "\n",
    "fake_top15 = most_common_words(df_modeling[df_modeling['fake']==1]['Lemmatized Text'], n=15)\n",
    "print(\"Top 15 słów w Fake:\")\n",
    "print(fake_top15)\n",
    "\n",
    "real_top15 = most_common_words(df_modeling[df_modeling['fake']==0]['Lemmatized Text'], n=15)\n",
    "print(\"\\nTop 15 słów w Real:\")\n",
    "print(real_top15)"
   ]
  },
  {
   "cell_type": "code",
   "execution_count": 45,
   "id": "7dddd09c",
   "metadata": {},
   "outputs": [],
   "source": [
    "from sklearn.feature_extraction.text import TfidfVectorizer\n",
    "\n",
    "corpus = df_modeling['Lemmatized Text'].apply(lambda tokens: ' '.join(tokens))\n",
    "\n",
    "tfidf = TfidfVectorizer()\n",
    "X = tfidf.fit_transform(corpus)  \n"
   ]
  },
  {
   "cell_type": "code",
   "execution_count": 46,
   "id": "41c7f6c8",
   "metadata": {},
   "outputs": [
    {
     "name": "stdout",
     "output_type": "stream",
     "text": [
      "Liczba kolumn w macierzy TF-IDF: 861\n"
     ]
    }
   ],
   "source": [
    "num_features = X.shape[1]\n",
    "print(f\"Liczba kolumn w macierzy TF-IDF: {num_features}\")"
   ]
  },
  {
   "cell_type": "markdown",
   "id": "9e32ace1",
   "metadata": {},
   "source": [
    "podział na zbiór treningowy i testowy"
   ]
  },
  {
   "cell_type": "code",
   "execution_count": 47,
   "id": "2d434b8a",
   "metadata": {},
   "outputs": [],
   "source": [
    "y = df_modeling['fake']\n",
    "\n",
    "\n",
    "from sklearn.model_selection import train_test_split\n",
    "\n",
    "X_train, X_test, y_train, y_test = train_test_split(X, y, test_size=0.2, random_state=42, stratify=y)"
   ]
  },
  {
   "cell_type": "code",
   "execution_count": 48,
   "id": "b97e379e",
   "metadata": {},
   "outputs": [
    {
     "name": "stdout",
     "output_type": "stream",
     "text": [
      "Rozmiar zbioru treningowego: 16000\n",
      "Rozmiar zbioru testowego: 4000\n"
     ]
    }
   ],
   "source": [
    "print(f\"Rozmiar zbioru treningowego: {X_train.shape[0]}\")\n",
    "print(f\"Rozmiar zbioru testowego: {X_test.shape[0]}\")"
   ]
  },
  {
   "cell_type": "markdown",
   "id": "faebd337",
   "metadata": {},
   "source": [
    "Regresja logistyczna"
   ]
  },
  {
   "cell_type": "code",
   "execution_count": 49,
   "id": "b1d007d8",
   "metadata": {},
   "outputs": [],
   "source": [
    "from sklearn.linear_model import LogisticRegression\n",
    "from sklearn.metrics import accuracy_score, classification_report, confusion_matrix\n",
    "\n",
    "model_reg_log = LogisticRegression(max_iter=1000) \n",
    "\n",
    "model_reg_log.fit(X_train, y_train)\n",
    "y_pred_reg_log = model_reg_log.predict(X_test)"
   ]
  },
  {
   "cell_type": "code",
   "execution_count": null,
   "id": "957863a0",
   "metadata": {},
   "outputs": [
    {
     "name": "stdout",
     "output_type": "stream",
     "text": [
      "Accuracy: 0.4973\n",
      "Classification Report:\n",
      "              precision    recall  f1-score   support\n",
      "\n",
      "           0       0.49      0.48      0.49      1989\n",
      "           1       0.50      0.52      0.51      2011\n",
      "\n",
      "    accuracy                           0.50      4000\n",
      "   macro avg       0.50      0.50      0.50      4000\n",
      "weighted avg       0.50      0.50      0.50      4000\n",
      "\n",
      "Confusion Matrix:\n",
      "[[ 949 1040]\n",
      " [ 971 1040]]\n"
     ]
    }
   ],
   "source": [
    "accuracy_reg_log = accuracy_score(y_test, y_pred_reg_log)\n",
    "print(f\"Accuracy: {accuracy_reg_log:.4f}\")\n",
    "\n",
    "# Raport klasyfikacji \n",
    "print(\"Classification Report:\")\n",
    "print(classification_report(y_test, y_pred_reg_log))\n",
    "\n",
    "# Macierz pomyłek\n",
    "cm_reg_log = confusion_matrix(y_test, y_pred_reg_log)\n",
    "print(\"Confusion Matrix:\")\n",
    "print(cm_reg_log)"
   ]
  },
  {
   "cell_type": "code",
   "execution_count": null,
   "id": "047375e0",
   "metadata": {},
   "outputs": [],
   "source": []
  }
 ],
 "metadata": {
  "kernelspec": {
   "display_name": "new_env",
   "language": "python",
   "name": "python3"
  },
  "language_info": {
   "codemirror_mode": {
    "name": "ipython",
    "version": 3
   },
   "file_extension": ".py",
   "mimetype": "text/x-python",
   "name": "python",
   "nbconvert_exporter": "python",
   "pygments_lexer": "ipython3",
   "version": "3.13.2"
  }
 },
 "nbformat": 4,
 "nbformat_minor": 5
}
