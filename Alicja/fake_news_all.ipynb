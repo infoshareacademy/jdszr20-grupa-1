{
 "cells": [
  {
   "cell_type": "markdown",
   "id": "35ede08ddeb50863",
   "metadata": {},
   "source": [
    "### Data import"
   ]
  },
  {
   "cell_type": "code",
   "execution_count": 1,
   "id": "initial_id",
   "metadata": {
    "collapsed": true
   },
   "outputs": [],
   "source": [
    "import pandas as pd"
   ]
  },
  {
   "cell_type": "code",
   "execution_count": 2,
   "id": "9c582535",
   "metadata": {},
   "outputs": [
    {
     "name": "stdout",
     "output_type": "stream",
     "text": [
      "(20865, 2)\n"
     ]
    },
    {
     "data": {
      "text/html": [
       "<div>\n",
       "<style scoped>\n",
       "    .dataframe tbody tr th:only-of-type {\n",
       "        vertical-align: middle;\n",
       "    }\n",
       "\n",
       "    .dataframe tbody tr th {\n",
       "        vertical-align: top;\n",
       "    }\n",
       "\n",
       "    .dataframe thead th {\n",
       "        text-align: right;\n",
       "    }\n",
       "</style>\n",
       "<table border=\"1\" class=\"dataframe\">\n",
       "  <thead>\n",
       "    <tr style=\"text-align: right;\">\n",
       "      <th></th>\n",
       "      <th>text</th>\n",
       "      <th>fake</th>\n",
       "    </tr>\n",
       "  </thead>\n",
       "  <tbody>\n",
       "    <tr>\n",
       "      <th>0</th>\n",
       "      <td>While serving as U.S. Vice President, Henry A....</td>\n",
       "      <td>0</td>\n",
       "    </tr>\n",
       "    <tr>\n",
       "      <th>1</th>\n",
       "      <td>A 1964 campaign ad for President Lyndon B. Joh...</td>\n",
       "      <td>0</td>\n",
       "    </tr>\n",
       "    <tr>\n",
       "      <th>2</th>\n",
       "      <td>Fifty Republican former national security offi...</td>\n",
       "      <td>0</td>\n",
       "    </tr>\n",
       "    <tr>\n",
       "      <th>3</th>\n",
       "      <td>Elon Musk deleted a tweet where he called the ...</td>\n",
       "      <td>0</td>\n",
       "    </tr>\n",
       "    <tr>\n",
       "      <th>4</th>\n",
       "      <td>Texas Lt. Gov. Dan Patrick said COVID-19 socia...</td>\n",
       "      <td>0</td>\n",
       "    </tr>\n",
       "  </tbody>\n",
       "</table>\n",
       "</div>"
      ],
      "text/plain": [
       "                                                text  fake\n",
       "0  While serving as U.S. Vice President, Henry A....     0\n",
       "1  A 1964 campaign ad for President Lyndon B. Joh...     0\n",
       "2  Fifty Republican former national security offi...     0\n",
       "3  Elon Musk deleted a tweet where he called the ...     0\n",
       "4  Texas Lt. Gov. Dan Patrick said COVID-19 socia...     0"
      ]
     },
     "execution_count": 2,
     "metadata": {},
     "output_type": "execute_result"
    }
   ],
   "source": [
    "a = pd.read_csv('C:\\\\Users\\\\Alicja\\\\Desktop\\\\nauka\\\\jdszr20-grupa-1\\\\data_for_modeling\\\\ClaimsKG_for_modeling.csv')\n",
    "print(a.shape)\n",
    "a.head()"
   ]
  },
  {
   "cell_type": "code",
   "execution_count": 3,
   "id": "5468cea6",
   "metadata": {},
   "outputs": [
    {
     "name": "stdout",
     "output_type": "stream",
     "text": [
      "(20000, 2)\n"
     ]
    },
    {
     "data": {
      "text/html": [
       "<div>\n",
       "<style scoped>\n",
       "    .dataframe tbody tr th:only-of-type {\n",
       "        vertical-align: middle;\n",
       "    }\n",
       "\n",
       "    .dataframe tbody tr th {\n",
       "        vertical-align: top;\n",
       "    }\n",
       "\n",
       "    .dataframe thead th {\n",
       "        text-align: right;\n",
       "    }\n",
       "</style>\n",
       "<table border=\"1\" class=\"dataframe\">\n",
       "  <thead>\n",
       "    <tr style=\"text-align: right;\">\n",
       "      <th></th>\n",
       "      <th>text</th>\n",
       "      <th>fake</th>\n",
       "    </tr>\n",
       "  </thead>\n",
       "  <tbody>\n",
       "    <tr>\n",
       "      <th>0</th>\n",
       "      <td>Foreign Democrat final. more tax development b...</td>\n",
       "      <td>0</td>\n",
       "    </tr>\n",
       "    <tr>\n",
       "      <th>1</th>\n",
       "      <td>To offer down resource great point. probably g...</td>\n",
       "      <td>1</td>\n",
       "    </tr>\n",
       "    <tr>\n",
       "      <th>2</th>\n",
       "      <td>Himself church myself carry. them identify for...</td>\n",
       "      <td>1</td>\n",
       "    </tr>\n",
       "    <tr>\n",
       "      <th>3</th>\n",
       "      <td>You unit its should. phone which item yard Rep...</td>\n",
       "      <td>1</td>\n",
       "    </tr>\n",
       "    <tr>\n",
       "      <th>4</th>\n",
       "      <td>Billion believe employee summer how. wonder my...</td>\n",
       "      <td>1</td>\n",
       "    </tr>\n",
       "  </tbody>\n",
       "</table>\n",
       "</div>"
      ],
      "text/plain": [
       "                                                text  fake\n",
       "0  Foreign Democrat final. more tax development b...     0\n",
       "1  To offer down resource great point. probably g...     1\n",
       "2  Himself church myself carry. them identify for...     1\n",
       "3  You unit its should. phone which item yard Rep...     1\n",
       "4  Billion believe employee summer how. wonder my...     1"
      ]
     },
     "execution_count": 3,
     "metadata": {},
     "output_type": "execute_result"
    }
   ],
   "source": [
    "b = pd.read_csv('C:\\\\Users\\\\Alicja\\\\Desktop\\\\nauka\\\\jdszr20-grupa-1\\\\data_for_modeling\\\\fake-news-detection-for_modeling.csv')\n",
    "b = b.rename(columns={\"title_text\": \"text\"})\n",
    "print(b.shape)\n",
    "b.head()"
   ]
  },
  {
   "cell_type": "code",
   "execution_count": 4,
   "id": "662c3f81",
   "metadata": {},
   "outputs": [
    {
     "name": "stdout",
     "output_type": "stream",
     "text": [
      "(9998, 2)\n"
     ]
    },
    {
     "data": {
      "text/html": [
       "<div>\n",
       "<style scoped>\n",
       "    .dataframe tbody tr th:only-of-type {\n",
       "        vertical-align: middle;\n",
       "    }\n",
       "\n",
       "    .dataframe tbody tr th {\n",
       "        vertical-align: top;\n",
       "    }\n",
       "\n",
       "    .dataframe thead th {\n",
       "        text-align: right;\n",
       "    }\n",
       "</style>\n",
       "<table border=\"1\" class=\"dataframe\">\n",
       "  <thead>\n",
       "    <tr style=\"text-align: right;\">\n",
       "      <th></th>\n",
       "      <th>text</th>\n",
       "      <th>fake</th>\n",
       "    </tr>\n",
       "  </thead>\n",
       "  <tbody>\n",
       "    <tr>\n",
       "      <th>0</th>\n",
       "      <td>Says the Annies List political group supports ...</td>\n",
       "      <td>1</td>\n",
       "    </tr>\n",
       "    <tr>\n",
       "      <th>1</th>\n",
       "      <td>Hillary Clinton agrees with John McCain \"by vo...</td>\n",
       "      <td>0</td>\n",
       "    </tr>\n",
       "    <tr>\n",
       "      <th>2</th>\n",
       "      <td>Health care reform legislation is likely to ma...</td>\n",
       "      <td>1</td>\n",
       "    </tr>\n",
       "    <tr>\n",
       "      <th>3</th>\n",
       "      <td>The Chicago Bears have had more starting quart...</td>\n",
       "      <td>0</td>\n",
       "    </tr>\n",
       "    <tr>\n",
       "      <th>4</th>\n",
       "      <td>Jim Dunnam has not lived in the district he re...</td>\n",
       "      <td>1</td>\n",
       "    </tr>\n",
       "  </tbody>\n",
       "</table>\n",
       "</div>"
      ],
      "text/plain": [
       "                                                text  fake\n",
       "0  Says the Annies List political group supports ...     1\n",
       "1  Hillary Clinton agrees with John McCain \"by vo...     0\n",
       "2  Health care reform legislation is likely to ma...     1\n",
       "3  The Chicago Bears have had more starting quart...     0\n",
       "4  Jim Dunnam has not lived in the district he re...     1"
      ]
     },
     "execution_count": 4,
     "metadata": {},
     "output_type": "execute_result"
    }
   ],
   "source": [
    "c = pd.read_csv('C:\\\\Users\\\\Alicja\\\\Desktop\\\\nauka\\\\jdszr20-grupa-1\\\\data_for_modeling\\\\LIAR_for_modeling.csv')\n",
    "print(c.shape)\n",
    "c.head()"
   ]
  },
  {
   "cell_type": "code",
   "execution_count": 5,
   "id": "581e9a0f",
   "metadata": {},
   "outputs": [
    {
     "name": "stdout",
     "output_type": "stream",
     "text": [
      "(72134, 2)\n"
     ]
    },
    {
     "data": {
      "text/html": [
       "<div>\n",
       "<style scoped>\n",
       "    .dataframe tbody tr th:only-of-type {\n",
       "        vertical-align: middle;\n",
       "    }\n",
       "\n",
       "    .dataframe tbody tr th {\n",
       "        vertical-align: top;\n",
       "    }\n",
       "\n",
       "    .dataframe thead th {\n",
       "        text-align: right;\n",
       "    }\n",
       "</style>\n",
       "<table border=\"1\" class=\"dataframe\">\n",
       "  <thead>\n",
       "    <tr style=\"text-align: right;\">\n",
       "      <th></th>\n",
       "      <th>text</th>\n",
       "      <th>fake</th>\n",
       "    </tr>\n",
       "  </thead>\n",
       "  <tbody>\n",
       "    <tr>\n",
       "      <th>0</th>\n",
       "      <td>LAW ENFORCEMENT ON HIGH ALERT Following Threat...</td>\n",
       "      <td>0</td>\n",
       "    </tr>\n",
       "    <tr>\n",
       "      <th>1</th>\n",
       "      <td>Did they post their votes for Hillary already?</td>\n",
       "      <td>0</td>\n",
       "    </tr>\n",
       "    <tr>\n",
       "      <th>2</th>\n",
       "      <td>UNBELIEVABLE! OBAMA’S ATTORNEY GENERAL SAYS MO...</td>\n",
       "      <td>0</td>\n",
       "    </tr>\n",
       "    <tr>\n",
       "      <th>3</th>\n",
       "      <td>Bobby Jindal, raised Hindu, uses story of Chri...</td>\n",
       "      <td>1</td>\n",
       "    </tr>\n",
       "    <tr>\n",
       "      <th>4</th>\n",
       "      <td>SATAN 2: Russia unvelis an image of its terrif...</td>\n",
       "      <td>0</td>\n",
       "    </tr>\n",
       "  </tbody>\n",
       "</table>\n",
       "</div>"
      ],
      "text/plain": [
       "                                                text  fake\n",
       "0  LAW ENFORCEMENT ON HIGH ALERT Following Threat...     0\n",
       "1     Did they post their votes for Hillary already?     0\n",
       "2  UNBELIEVABLE! OBAMA’S ATTORNEY GENERAL SAYS MO...     0\n",
       "3  Bobby Jindal, raised Hindu, uses story of Chri...     1\n",
       "4  SATAN 2: Russia unvelis an image of its terrif...     0"
      ]
     },
     "execution_count": 5,
     "metadata": {},
     "output_type": "execute_result"
    }
   ],
   "source": [
    "d = pd.read_csv('C:\\\\Users\\\\Alicja\\\\Desktop\\\\nauka\\\\jdszr20-grupa-1\\\\data_for_modeling\\\\WELFake_clean.csv')\n",
    "print(d.shape)\n",
    "d.head()"
   ]
  },
  {
   "cell_type": "code",
   "execution_count": 6,
   "id": "e83a990a",
   "metadata": {},
   "outputs": [
    {
     "name": "stdout",
     "output_type": "stream",
     "text": [
      "(43963, 2)\n"
     ]
    },
    {
     "data": {
      "text/html": [
       "<div>\n",
       "<style scoped>\n",
       "    .dataframe tbody tr th:only-of-type {\n",
       "        vertical-align: middle;\n",
       "    }\n",
       "\n",
       "    .dataframe tbody tr th {\n",
       "        vertical-align: top;\n",
       "    }\n",
       "\n",
       "    .dataframe thead th {\n",
       "        text-align: right;\n",
       "    }\n",
       "</style>\n",
       "<table border=\"1\" class=\"dataframe\">\n",
       "  <thead>\n",
       "    <tr style=\"text-align: right;\">\n",
       "      <th></th>\n",
       "      <th>text</th>\n",
       "      <th>fake</th>\n",
       "    </tr>\n",
       "  </thead>\n",
       "  <tbody>\n",
       "    <tr>\n",
       "      <th>0</th>\n",
       "      <td>As U.S. budget fight looms, Republicans flip t...</td>\n",
       "      <td>0</td>\n",
       "    </tr>\n",
       "    <tr>\n",
       "      <th>1</th>\n",
       "      <td>U.S. military to accept transgender recruits o...</td>\n",
       "      <td>0</td>\n",
       "    </tr>\n",
       "    <tr>\n",
       "      <th>2</th>\n",
       "      <td>Senior U.S. Republican senator: 'Let Mr. Muell...</td>\n",
       "      <td>0</td>\n",
       "    </tr>\n",
       "    <tr>\n",
       "      <th>3</th>\n",
       "      <td>FBI Russia probe helped by Australian diplomat...</td>\n",
       "      <td>0</td>\n",
       "    </tr>\n",
       "    <tr>\n",
       "      <th>4</th>\n",
       "      <td>Trump wants Postal Service to charge 'much mor...</td>\n",
       "      <td>0</td>\n",
       "    </tr>\n",
       "  </tbody>\n",
       "</table>\n",
       "</div>"
      ],
      "text/plain": [
       "                                                text  fake\n",
       "0  As U.S. budget fight looms, Republicans flip t...     0\n",
       "1  U.S. military to accept transgender recruits o...     0\n",
       "2  Senior U.S. Republican senator: 'Let Mr. Muell...     0\n",
       "3  FBI Russia probe helped by Australian diplomat...     0\n",
       "4  Trump wants Postal Service to charge 'much mor...     0"
      ]
     },
     "execution_count": 6,
     "metadata": {},
     "output_type": "execute_result"
    }
   ],
   "source": [
    "e=pd.read_csv('C:\\\\Users\\\\Alicja\\\\Desktop\\\\nauka\\\\_data_analysis\\\\true_fake.csv')\n",
    "print(e.shape)\n",
    "e.head()"
   ]
  },
  {
   "cell_type": "markdown",
   "id": "a74bf61a",
   "metadata": {},
   "source": [
    "ŁĄCZENIE"
   ]
  },
  {
   "cell_type": "code",
   "execution_count": 7,
   "id": "0f22ad75",
   "metadata": {},
   "outputs": [
    {
     "name": "stdout",
     "output_type": "stream",
     "text": [
      "(166960, 2)\n",
      "                                                text  fake\n",
      "0  While serving as U.S. Vice President, Henry A....     0\n",
      "1  A 1964 campaign ad for President Lyndon B. Joh...     0\n",
      "2  Fifty Republican former national security offi...     0\n",
      "3  Elon Musk deleted a tweet where he called the ...     0\n",
      "4  Texas Lt. Gov. Dan Patrick said COVID-19 socia...     0\n"
     ]
    }
   ],
   "source": [
    "df = pd.concat([a, b, c, d, e], axis=0).reset_index(drop=True)\n",
    "\n",
    "print(df.shape)\n",
    "print(df.head())"
   ]
  },
  {
   "cell_type": "markdown",
   "id": "bc1086f433ae548",
   "metadata": {},
   "source": [
    "## Data preparation"
   ]
  },
  {
   "cell_type": "code",
   "execution_count": 8,
   "id": "8840ac35",
   "metadata": {},
   "outputs": [
    {
     "name": "stdout",
     "output_type": "stream",
     "text": [
      "(166960, 2)\n",
      "<class 'pandas.core.frame.DataFrame'>\n",
      "RangeIndex: 166960 entries, 0 to 166959\n",
      "Data columns (total 2 columns):\n",
      " #   Column  Non-Null Count   Dtype \n",
      "---  ------  --------------   ----- \n",
      " 0   text    166960 non-null  object\n",
      " 1   fake    166960 non-null  int64 \n",
      "dtypes: int64(1), object(1)\n",
      "memory usage: 2.5+ MB\n",
      "None\n"
     ]
    }
   ],
   "source": [
    "print(df.shape)\n",
    "print(df.info()) "
   ]
  },
  {
   "cell_type": "code",
   "execution_count": 9,
   "id": "0343fe03",
   "metadata": {},
   "outputs": [
    {
     "name": "stdout",
     "output_type": "stream",
     "text": [
      "text    0\n",
      "fake    0\n",
      "dtype: int64\n"
     ]
    }
   ],
   "source": [
    "print(df.isnull().sum())"
   ]
  },
  {
   "cell_type": "code",
   "execution_count": 10,
   "id": "bb167691",
   "metadata": {},
   "outputs": [
    {
     "data": {
      "text/html": [
       "<div>\n",
       "<style scoped>\n",
       "    .dataframe tbody tr th:only-of-type {\n",
       "        vertical-align: middle;\n",
       "    }\n",
       "\n",
       "    .dataframe tbody tr th {\n",
       "        vertical-align: top;\n",
       "    }\n",
       "\n",
       "    .dataframe thead th {\n",
       "        text-align: right;\n",
       "    }\n",
       "</style>\n",
       "<table border=\"1\" class=\"dataframe\">\n",
       "  <thead>\n",
       "    <tr style=\"text-align: right;\">\n",
       "      <th></th>\n",
       "      <th>text</th>\n",
       "      <th>fake</th>\n",
       "    </tr>\n",
       "  </thead>\n",
       "  <tbody>\n",
       "    <tr>\n",
       "      <th>0</th>\n",
       "      <td>While serving as U.S. Vice President, Henry A....</td>\n",
       "      <td>0</td>\n",
       "    </tr>\n",
       "    <tr>\n",
       "      <th>1</th>\n",
       "      <td>A 1964 campaign ad for President Lyndon B. Joh...</td>\n",
       "      <td>0</td>\n",
       "    </tr>\n",
       "    <tr>\n",
       "      <th>2</th>\n",
       "      <td>Fifty Republican former national security offi...</td>\n",
       "      <td>0</td>\n",
       "    </tr>\n",
       "    <tr>\n",
       "      <th>3</th>\n",
       "      <td>Elon Musk deleted a tweet where he called the ...</td>\n",
       "      <td>0</td>\n",
       "    </tr>\n",
       "    <tr>\n",
       "      <th>4</th>\n",
       "      <td>Texas Lt. Gov. Dan Patrick said COVID-19 socia...</td>\n",
       "      <td>0</td>\n",
       "    </tr>\n",
       "    <tr>\n",
       "      <th>...</th>\n",
       "      <td>...</td>\n",
       "      <td>...</td>\n",
       "    </tr>\n",
       "    <tr>\n",
       "      <th>166955</th>\n",
       "      <td>McPain: John McCain Furious That Iran Treated ...</td>\n",
       "      <td>1</td>\n",
       "    </tr>\n",
       "    <tr>\n",
       "      <th>166956</th>\n",
       "      <td>JUSTICE? Yahoo Settles E-mail Privacy Class-ac...</td>\n",
       "      <td>1</td>\n",
       "    </tr>\n",
       "    <tr>\n",
       "      <th>166957</th>\n",
       "      <td>Sunnistan: US and Allied ‘Safe Zone’ Plan to T...</td>\n",
       "      <td>1</td>\n",
       "    </tr>\n",
       "    <tr>\n",
       "      <th>166958</th>\n",
       "      <td>How to Blow $700 Million: Al Jazeera America F...</td>\n",
       "      <td>1</td>\n",
       "    </tr>\n",
       "    <tr>\n",
       "      <th>166959</th>\n",
       "      <td>10 U.S. Navy Sailors Held by Iranian Military ...</td>\n",
       "      <td>1</td>\n",
       "    </tr>\n",
       "  </tbody>\n",
       "</table>\n",
       "<p>166960 rows × 2 columns</p>\n",
       "</div>"
      ],
      "text/plain": [
       "                                                     text  fake\n",
       "0       While serving as U.S. Vice President, Henry A....     0\n",
       "1       A 1964 campaign ad for President Lyndon B. Joh...     0\n",
       "2       Fifty Republican former national security offi...     0\n",
       "3       Elon Musk deleted a tweet where he called the ...     0\n",
       "4       Texas Lt. Gov. Dan Patrick said COVID-19 socia...     0\n",
       "...                                                   ...   ...\n",
       "166955  McPain: John McCain Furious That Iran Treated ...     1\n",
       "166956  JUSTICE? Yahoo Settles E-mail Privacy Class-ac...     1\n",
       "166957  Sunnistan: US and Allied ‘Safe Zone’ Plan to T...     1\n",
       "166958  How to Blow $700 Million: Al Jazeera America F...     1\n",
       "166959  10 U.S. Navy Sailors Held by Iranian Military ...     1\n",
       "\n",
       "[166960 rows x 2 columns]"
      ]
     },
     "execution_count": 10,
     "metadata": {},
     "output_type": "execute_result"
    }
   ],
   "source": [
    "df"
   ]
  },
  {
   "cell_type": "markdown",
   "id": "78af0a2c",
   "metadata": {},
   "source": [
    "MODELING\n"
   ]
  },
  {
   "cell_type": "code",
   "execution_count": 11,
   "id": "6ea66be9e46e93c",
   "metadata": {
    "ExecuteTime": {
     "end_time": "2025-08-23T18:57:26.171902Z",
     "start_time": "2025-08-23T18:57:26.160540Z"
    }
   },
   "outputs": [
    {
     "data": {
      "text/html": [
       "<div>\n",
       "<style scoped>\n",
       "    .dataframe tbody tr th:only-of-type {\n",
       "        vertical-align: middle;\n",
       "    }\n",
       "\n",
       "    .dataframe tbody tr th {\n",
       "        vertical-align: top;\n",
       "    }\n",
       "\n",
       "    .dataframe thead th {\n",
       "        text-align: right;\n",
       "    }\n",
       "</style>\n",
       "<table border=\"1\" class=\"dataframe\">\n",
       "  <thead>\n",
       "    <tr style=\"text-align: right;\">\n",
       "      <th></th>\n",
       "      <th>text</th>\n",
       "      <th>fake</th>\n",
       "    </tr>\n",
       "  </thead>\n",
       "  <tbody>\n",
       "    <tr>\n",
       "      <th>0</th>\n",
       "      <td>While serving as U.S. Vice President, Henry A....</td>\n",
       "      <td>0</td>\n",
       "    </tr>\n",
       "    <tr>\n",
       "      <th>1</th>\n",
       "      <td>A 1964 campaign ad for President Lyndon B. Joh...</td>\n",
       "      <td>0</td>\n",
       "    </tr>\n",
       "    <tr>\n",
       "      <th>2</th>\n",
       "      <td>Fifty Republican former national security offi...</td>\n",
       "      <td>0</td>\n",
       "    </tr>\n",
       "    <tr>\n",
       "      <th>3</th>\n",
       "      <td>Elon Musk deleted a tweet where he called the ...</td>\n",
       "      <td>0</td>\n",
       "    </tr>\n",
       "    <tr>\n",
       "      <th>4</th>\n",
       "      <td>Texas Lt. Gov. Dan Patrick said COVID-19 socia...</td>\n",
       "      <td>0</td>\n",
       "    </tr>\n",
       "  </tbody>\n",
       "</table>\n",
       "</div>"
      ],
      "text/plain": [
       "                                                text  fake\n",
       "0  While serving as U.S. Vice President, Henry A....     0\n",
       "1  A 1964 campaign ad for President Lyndon B. Joh...     0\n",
       "2  Fifty Republican former national security offi...     0\n",
       "3  Elon Musk deleted a tweet where he called the ...     0\n",
       "4  Texas Lt. Gov. Dan Patrick said COVID-19 socia...     0"
      ]
     },
     "execution_count": 11,
     "metadata": {},
     "output_type": "execute_result"
    }
   ],
   "source": [
    "df_modeling = df\n",
    "df_modeling.head()"
   ]
  },
  {
   "cell_type": "markdown",
   "id": "64eee24a",
   "metadata": {},
   "source": [
    "stopwords NLTK +prepocess"
   ]
  },
  {
   "cell_type": "code",
   "execution_count": 12,
   "id": "20bfffbe",
   "metadata": {},
   "outputs": [
    {
     "name": "stderr",
     "output_type": "stream",
     "text": [
      "[nltk_data] Downloading package stopwords to\n",
      "[nltk_data]     C:\\Users\\Alicja\\AppData\\Roaming\\nltk_data...\n",
      "[nltk_data]   Package stopwords is already up-to-date!\n",
      "[nltk_data] Downloading package wordnet to\n",
      "[nltk_data]     C:\\Users\\Alicja\\AppData\\Roaming\\nltk_data...\n",
      "[nltk_data]   Package wordnet is already up-to-date!\n"
     ]
    },
    {
     "data": {
      "text/html": [
       "<div>\n",
       "<style scoped>\n",
       "    .dataframe tbody tr th:only-of-type {\n",
       "        vertical-align: middle;\n",
       "    }\n",
       "\n",
       "    .dataframe tbody tr th {\n",
       "        vertical-align: top;\n",
       "    }\n",
       "\n",
       "    .dataframe thead th {\n",
       "        text-align: right;\n",
       "    }\n",
       "</style>\n",
       "<table border=\"1\" class=\"dataframe\">\n",
       "  <thead>\n",
       "    <tr style=\"text-align: right;\">\n",
       "      <th></th>\n",
       "      <th>text</th>\n",
       "      <th>fake</th>\n",
       "      <th>Lemmatized Text</th>\n",
       "    </tr>\n",
       "  </thead>\n",
       "  <tbody>\n",
       "    <tr>\n",
       "      <th>0</th>\n",
       "      <td>While serving as U.S. Vice President, Henry A....</td>\n",
       "      <td>0</td>\n",
       "      <td>[serve, us, vice, president, henry, wallace, w...</td>\n",
       "    </tr>\n",
       "    <tr>\n",
       "      <th>1</th>\n",
       "      <td>A 1964 campaign ad for President Lyndon B. Joh...</td>\n",
       "      <td>0</td>\n",
       "      <td>[campaign, ad, president, lyndon, b, johnson, ...</td>\n",
       "    </tr>\n",
       "    <tr>\n",
       "      <th>2</th>\n",
       "      <td>Fifty Republican former national security offi...</td>\n",
       "      <td>0</td>\n",
       "      <td>[fifty, republican, former, national, security...</td>\n",
       "    </tr>\n",
       "    <tr>\n",
       "      <th>3</th>\n",
       "      <td>Elon Musk deleted a tweet where he called the ...</td>\n",
       "      <td>0</td>\n",
       "      <td>[elon, musk, delete, tweet, call, mastodon, so...</td>\n",
       "    </tr>\n",
       "    <tr>\n",
       "      <th>4</th>\n",
       "      <td>Texas Lt. Gov. Dan Patrick said COVID-19 socia...</td>\n",
       "      <td>0</td>\n",
       "      <td>[texas, lt, gov, dan, patrick, say, covid, soc...</td>\n",
       "    </tr>\n",
       "  </tbody>\n",
       "</table>\n",
       "</div>"
      ],
      "text/plain": [
       "                                                text  fake  \\\n",
       "0  While serving as U.S. Vice President, Henry A....     0   \n",
       "1  A 1964 campaign ad for President Lyndon B. Joh...     0   \n",
       "2  Fifty Republican former national security offi...     0   \n",
       "3  Elon Musk deleted a tweet where he called the ...     0   \n",
       "4  Texas Lt. Gov. Dan Patrick said COVID-19 socia...     0   \n",
       "\n",
       "                                     Lemmatized Text  \n",
       "0  [serve, us, vice, president, henry, wallace, w...  \n",
       "1  [campaign, ad, president, lyndon, b, johnson, ...  \n",
       "2  [fifty, republican, former, national, security...  \n",
       "3  [elon, musk, delete, tweet, call, mastodon, so...  \n",
       "4  [texas, lt, gov, dan, patrick, say, covid, soc...  "
      ]
     },
     "execution_count": 12,
     "metadata": {},
     "output_type": "execute_result"
    }
   ],
   "source": [
    "import pandas as pd\n",
    "import nltk\n",
    "import re\n",
    "from nltk.corpus import stopwords\n",
    "from nltk.stem import WordNetLemmatizer\n",
    "\n",
    "nltk.download('stopwords')\n",
    "nltk.download('wordnet')\n",
    "\n",
    "stop_words = set(stopwords.words('english'))\n",
    "lemmatizer = WordNetLemmatizer()\n",
    "\n",
    "def full_preprocess(text):\n",
    "    text = str(text)\n",
    "    \n",
    "    # 1. Tokenizacja po spacji i usuwanie znaków niealfabetycznych\n",
    "    tokens = [re.sub(r'[^a-zA-Z]', '', word) for word in text.split()]\n",
    "    \n",
    "    # 2. Usuwanie pustych tokenów i stopwords\n",
    "    tokens = [word for word in tokens if word and word.lower() not in stop_words]\n",
    "    \n",
    "    # 3. Lematyzacja\n",
    "    lemmatized = [lemmatizer.lemmatize(token.lower(), pos='v') for token in tokens]\n",
    "    \n",
    "    return lemmatized\n",
    "\n",
    "\n",
    "df_modeling['Lemmatized Text'] = df_modeling['text'].apply(full_preprocess)\n",
    "\n",
    "df_modeling.head()"
   ]
  },
  {
   "cell_type": "code",
   "execution_count": 13,
   "id": "dede8ba6",
   "metadata": {},
   "outputs": [
    {
     "name": "stdout",
     "output_type": "stream",
     "text": [
      "Top 15 słów w Fake:\n",
      "         Word   Count\n",
      "0         say  283959\n",
      "1       trump  206855\n",
      "2       state   99870\n",
      "3       would   89676\n",
      "4          us   84397\n",
      "5   president   79433\n",
      "6      people   72660\n",
      "7          mr   72352\n",
      "8         new   69267\n",
      "9        make   69214\n",
      "10        one   68911\n",
      "11         go   61714\n",
      "12       time   61141\n",
      "13       take   55722\n",
      "14       also   54601\n",
      "\n",
      "Top 15 słów w Real:\n",
      "         Word   Count\n",
      "0         say  205067\n",
      "1       trump  176700\n",
      "2          us  103416\n",
      "3       state   87837\n",
      "4       would   77807\n",
      "5      people   67958\n",
      "6   president   66811\n",
      "7         one   59862\n",
      "8        make   59568\n",
      "9          go   54356\n",
      "10    clinton   51002\n",
      "11        new   50972\n",
      "12       take   49025\n",
      "13       time   47632\n",
      "14       also   46933\n"
     ]
    }
   ],
   "source": [
    "from collections import Counter\n",
    "\n",
    "def most_common_words(tokens_series, n=15):\n",
    "    all_tokens = [token for tokens in tokens_series for token in tokens]\n",
    "    counter = Counter(all_tokens)\n",
    "    return pd.DataFrame(counter.most_common(n), columns=['Word', 'Count'])\n",
    "\n",
    "fake_top15 = most_common_words(df_modeling[df_modeling['fake']==1]['Lemmatized Text'], n=15)\n",
    "print(\"Top 15 słów w Fake:\")\n",
    "print(fake_top15)\n",
    "\n",
    "real_top15 = most_common_words(df_modeling[df_modeling['fake']==0]['Lemmatized Text'], n=15)\n",
    "print(\"\\nTop 15 słów w Real:\")\n",
    "print(real_top15)"
   ]
  },
  {
   "cell_type": "code",
   "execution_count": 14,
   "id": "7dddd09c",
   "metadata": {},
   "outputs": [],
   "source": [
    "from sklearn.feature_extraction.text import TfidfVectorizer\n",
    "\n",
    "corpus = df_modeling['Lemmatized Text'].apply(lambda tokens: ' '.join(tokens))\n",
    "\n",
    "tfidf = TfidfVectorizer()\n",
    "X = tfidf.fit_transform(corpus)  \n"
   ]
  },
  {
   "cell_type": "code",
   "execution_count": 15,
   "id": "41c7f6c8",
   "metadata": {},
   "outputs": [
    {
     "name": "stdout",
     "output_type": "stream",
     "text": [
      "Liczba kolumn: 323573\n"
     ]
    }
   ],
   "source": [
    "num_features = X.shape[1]\n",
    "print(f\"Liczba kolumn: {num_features}\")"
   ]
  },
  {
   "cell_type": "markdown",
   "id": "9e32ace1",
   "metadata": {},
   "source": [
    "podział na zbiór treningowy i testowy"
   ]
  },
  {
   "cell_type": "code",
   "execution_count": 16,
   "id": "2d434b8a",
   "metadata": {},
   "outputs": [],
   "source": [
    "y = df_modeling['fake']\n",
    "\n",
    "\n",
    "from sklearn.model_selection import train_test_split\n",
    "\n",
    "X_train, X_test, y_train, y_test = train_test_split(X, y, test_size=0.2, random_state=42, stratify=y)"
   ]
  },
  {
   "cell_type": "code",
   "execution_count": 17,
   "id": "b97e379e",
   "metadata": {},
   "outputs": [
    {
     "name": "stdout",
     "output_type": "stream",
     "text": [
      "Rozmiar zbioru treningowego: 133568\n",
      "Rozmiar zbioru testowego: 33392\n"
     ]
    }
   ],
   "source": [
    "print(f\"Rozmiar zbioru treningowego: {X_train.shape[0]}\")\n",
    "print(f\"Rozmiar zbioru testowego: {X_test.shape[0]}\")"
   ]
  },
  {
   "cell_type": "markdown",
   "id": "faebd337",
   "metadata": {},
   "source": [
    "Regresja logistyczna"
   ]
  },
  {
   "cell_type": "code",
   "execution_count": 18,
   "id": "b1d007d8",
   "metadata": {},
   "outputs": [],
   "source": [
    "from sklearn.linear_model import LogisticRegression\n",
    "from sklearn.metrics import accuracy_score, classification_report, confusion_matrix\n",
    "\n",
    "model_reg_log = LogisticRegression(max_iter=1000) \n",
    "\n",
    "model_reg_log.fit(X_train, y_train)\n",
    "y_pred_reg_log = model_reg_log.predict(X_test)"
   ]
  },
  {
   "cell_type": "code",
   "execution_count": 19,
   "id": "957863a0",
   "metadata": {},
   "outputs": [
    {
     "name": "stdout",
     "output_type": "stream",
     "text": [
      "Accuracy: 0.5555\n",
      "Classification Report:\n",
      "              precision    recall  f1-score   support\n",
      "\n",
      "           0       0.55      0.55      0.55     16500\n",
      "           1       0.56      0.56      0.56     16892\n",
      "\n",
      "    accuracy                           0.56     33392\n",
      "   macro avg       0.56      0.56      0.56     33392\n",
      "weighted avg       0.56      0.56      0.56     33392\n",
      "\n",
      "Confusion Matrix:\n",
      "[[9102 7398]\n",
      " [7445 9447]]\n"
     ]
    }
   ],
   "source": [
    "accuracy_reg_log = accuracy_score(y_test, y_pred_reg_log)\n",
    "print(f\"Accuracy: {accuracy_reg_log:.4f}\")\n",
    "\n",
    "# Raport klasyfikacji \n",
    "print(\"Classification Report:\")\n",
    "print(classification_report(y_test, y_pred_reg_log))\n",
    "\n",
    "# Macierz pomyłek\n",
    "cm_reg_log = confusion_matrix(y_test, y_pred_reg_log)\n",
    "print(\"Confusion Matrix:\")\n",
    "print(cm_reg_log)"
   ]
  },
  {
   "cell_type": "code",
   "execution_count": 27,
   "id": "0d78752f",
   "metadata": {},
   "outputs": [
    {
     "name": "stdout",
     "output_type": "stream",
     "text": [
      "Decision Tree - Accuracy: 0.5832\n",
      "Classification Report:\n",
      "              precision    recall  f1-score   support\n",
      "\n",
      "           0       0.58      0.58      0.58     16500\n",
      "           1       0.59      0.58      0.59     16892\n",
      "\n",
      "    accuracy                           0.58     33392\n",
      "   macro avg       0.58      0.58      0.58     33392\n",
      "weighted avg       0.58      0.58      0.58     33392\n",
      "\n",
      "Confusion Matrix:\n",
      "[[9643 6857]\n",
      " [7061 9831]]\n"
     ]
    }
   ],
   "source": [
    "from sklearn.tree import DecisionTreeClassifier\n",
    "from sklearn.metrics import accuracy_score, classification_report, confusion_matrix\n",
    "\n",
    "# Model drzewa decyzyjnego\n",
    "model_tree = DecisionTreeClassifier(random_state=42)\n",
    "model_tree.fit(X_train, y_train)\n",
    "\n",
    "y_pred_tree = model_tree.predict(X_test)\n",
    "accuracy_tree = accuracy_score(y_test, y_pred_tree)\n",
    "\n",
    "print(f\"Decision Tree - Accuracy: {accuracy_tree:.4f}\")\n",
    "print(\"Classification Report:\")\n",
    "print(classification_report(y_test, y_pred_tree))\n",
    "print(\"Confusion Matrix:\")\n",
    "print(confusion_matrix(y_test, y_pred_tree))"
   ]
  },
  {
   "cell_type": "code",
   "execution_count": 28,
   "id": "b304e713",
   "metadata": {},
   "outputs": [
    {
     "name": "stdout",
     "output_type": "stream",
     "text": [
      "Random Forest - Accuracy: 0.5095\n",
      "Classification Report:\n",
      "              precision    recall  f1-score   support\n",
      "\n",
      "           0       0.50      0.51      0.51     16500\n",
      "           1       0.52      0.51      0.51     16892\n",
      "\n",
      "    accuracy                           0.51     33392\n",
      "   macro avg       0.51      0.51      0.51     33392\n",
      "weighted avg       0.51      0.51      0.51     33392\n",
      "\n",
      "Confusion Matrix:\n",
      "[[8392 8108]\n",
      " [8271 8621]]\n"
     ]
    }
   ],
   "source": [
    "from sklearn.ensemble import RandomForestClassifier\n",
    "\n",
    "# Model lasu losowego\n",
    "model_rf = RandomForestClassifier(n_estimators=100, random_state=42)\n",
    "model_rf.fit(X_train, y_train)\n",
    "\n",
    "y_pred_rf = model_rf.predict(X_test)\n",
    "accuracy_rf = accuracy_score(y_test, y_pred_rf)\n",
    "\n",
    "print(f\"Random Forest - Accuracy: {accuracy_rf:.4f}\")\n",
    "print(\"Classification Report:\")\n",
    "print(classification_report(y_test, y_pred_rf))\n",
    "print(\"Confusion Matrix:\")\n",
    "print(confusion_matrix(y_test, y_pred_rf))"
   ]
  },
  {
   "cell_type": "code",
   "execution_count": null,
   "id": "8878a95b",
   "metadata": {},
   "outputs": [],
   "source": [
    "# from sklearn.svm import SVC\n",
    "\n",
    "# model_svm = SVC()\n",
    "# model_svm.fit(X_train, y_train)\n",
    "\n",
    "# y_pred_svm = model_svm.predict(X_test)\n",
    "# accuracy_svm = accuracy_score(y_test, y_pred_svm)\n",
    "\n",
    "# print(f\"SVM - Accuracy: {accuracy_svm:.4f}\")\n",
    "# print(\"Classification Report:\")\n",
    "# print(classification_report(y_test, y_pred_svm))\n",
    "# print(\"Confusion Matrix:\")\n",
    "# print(confusion_matrix(y_test, y_pred_svm))"
   ]
  },
  {
   "cell_type": "code",
   "execution_count": null,
   "id": "46c93bda",
   "metadata": {},
   "outputs": [],
   "source": [
    "# SVM - Accuracy: 0.4642\n",
    "# Classification Report:\n",
    "#               precision    recall  f1-score   support\n",
    "\n",
    "#            0       0.46      0.44      0.45     16500\n",
    "#            1       0.47      0.48      0.48     16892\n",
    "\n",
    "#     accuracy                           0.46     33392\n",
    "#    macro avg       0.46      0.46      0.46     33392\n",
    "# weighted avg       0.46      0.46      0.46     33392\n",
    "\n",
    "# Confusion Matrix:\n",
    "# [[7321 9179]\n",
    "#  [8714 8178]]\n",
    "\n",
    "# SVM STRASZNIE DŁUGO SIĘ KRĘCI"
   ]
  },
  {
   "cell_type": "code",
   "execution_count": 30,
   "id": "668e5179",
   "metadata": {},
   "outputs": [
    {
     "name": "stdout",
     "output_type": "stream",
     "text": [
      "KNN - Accuracy: 0.4717\n",
      "Classification Report:\n",
      "              precision    recall  f1-score   support\n",
      "\n",
      "           0       0.48      0.86      0.62     16500\n",
      "           1       0.40      0.09      0.15     16892\n",
      "\n",
      "    accuracy                           0.47     33392\n",
      "   macro avg       0.44      0.48      0.38     33392\n",
      "weighted avg       0.44      0.47      0.38     33392\n",
      "\n",
      "Confusion Matrix:\n",
      "[[14202  2298]\n",
      " [15342  1550]]\n"
     ]
    }
   ],
   "source": [
    "from sklearn.neighbors import KNeighborsClassifier\n",
    "\n",
    "model_knn = KNeighborsClassifier(n_neighbors=5)\n",
    "model_knn.fit(X_train, y_train)\n",
    "\n",
    "y_pred_knn = model_knn.predict(X_test)\n",
    "accuracy_knn = accuracy_score(y_test, y_pred_knn)\n",
    "\n",
    "print(f\"KNN - Accuracy: {accuracy_knn:.4f}\")\n",
    "print(\"Classification Report:\")\n",
    "print(classification_report(y_test, y_pred_knn))\n",
    "print(\"Confusion Matrix:\")\n",
    "print(confusion_matrix(y_test, y_pred_knn))"
   ]
  },
  {
   "cell_type": "code",
   "execution_count": 31,
   "id": "f701f3a2",
   "metadata": {},
   "outputs": [
    {
     "name": "stderr",
     "output_type": "stream",
     "text": [
      "c:\\Users\\Alicja\\anaconda3\\envs\\new_env\\Lib\\site-packages\\xgboost\\training.py:183: UserWarning: [00:01:35] WARNING: C:\\actions-runner\\_work\\xgboost\\xgboost\\src\\learner.cc:738: \n",
      "Parameters: { \"use_label_encoder\" } are not used.\n",
      "\n",
      "  bst.update(dtrain, iteration=i, fobj=obj)\n"
     ]
    },
    {
     "name": "stdout",
     "output_type": "stream",
     "text": [
      "XGBoost - Accuracy: 0.6242\n",
      "Classification Report:\n",
      "              precision    recall  f1-score   support\n",
      "\n",
      "           0       0.60      0.69      0.65     16500\n",
      "           1       0.65      0.56      0.60     16892\n",
      "\n",
      "    accuracy                           0.62     33392\n",
      "   macro avg       0.63      0.62      0.62     33392\n",
      "weighted avg       0.63      0.62      0.62     33392\n",
      "\n",
      "Confusion Matrix:\n",
      "[[11421  5079]\n",
      " [ 7470  9422]]\n"
     ]
    }
   ],
   "source": [
    "from xgboost import XGBClassifier\n",
    "from sklearn.metrics import accuracy_score, classification_report, confusion_matrix\n",
    "\n",
    "# Model XGBoost\n",
    "model_xgb = XGBClassifier(use_label_encoder=False, eval_metric=\"logloss\", random_state=42)\n",
    "model_xgb.fit(X_train, y_train)\n",
    "\n",
    "y_pred_xgb = model_xgb.predict(X_test)\n",
    "accuracy_xgb = accuracy_score(y_test, y_pred_xgb)\n",
    "\n",
    "print(f\"XGBoost - Accuracy: {accuracy_xgb:.4f}\")\n",
    "print(\"Classification Report:\")\n",
    "print(classification_report(y_test, y_pred_xgb))\n",
    "print(\"Confusion Matrix:\")\n",
    "print(confusion_matrix(y_test, y_pred_xgb))"
   ]
  },
  {
   "cell_type": "code",
   "execution_count": 32,
   "id": "047375e0",
   "metadata": {},
   "outputs": [],
   "source": [
    "# from sklearn.linear_model import LogisticRegression\n",
    "# from sklearn.tree import DecisionTreeClassifier\n",
    "# from sklearn.ensemble import RandomForestClassifier\n",
    "# from sklearn.svm import SVC\n",
    "# from sklearn.neighbors import KNeighborsClassifier\n",
    "# from sklearn.metrics import accuracy_score, classification_report, confusion_matrix\n",
    "# import pandas as pd\n",
    "\n",
    "# # Słownik modeli do przetestowania\n",
    "# models = {\n",
    "#     \"Logistic Regression\": LogisticRegression(max_iter=1000),\n",
    "#     \"Decision Tree\": DecisionTreeClassifier(),\n",
    "#     \"Random Forest\": RandomForestClassifier(),\n",
    "#     \"SVM\": SVC(),\n",
    "#     \"KNN\": KNeighborsClassifier()\n",
    "# }\n",
    "\n",
    "# # Lista na wyniki\n",
    "# results = []\n",
    "\n",
    "# # Pętla po modelach\n",
    "# for name, model in models.items():\n",
    "#     model.fit(X_train, y_train)\n",
    "#     y_pred = model.predict(X_test)\n",
    "\n",
    "#     acc = accuracy_score(y_test, y_pred)\n",
    "#     results.append({\"Model\": name, \"Accuracy\": acc})\n",
    "\n",
    "#     print(f\"\\n{name}\")\n",
    "#     print(\"Accuracy:\", acc)\n",
    "#     print(\"Confusion Matrix:\\n\", confusion_matrix(y_test, y_pred))\n",
    "#     print(\"Classification Report:\\n\", classification_report(y_test, y_pred))\n",
    "\n",
    "# # Podsumowanie w tabeli\n",
    "# df_results = pd.DataFrame(results).sort_values(by=\"Accuracy\", ascending=False)\n",
    "# print(\"\\n📊 Podsumowanie:\")\n",
    "# print(df_results)"
   ]
  },
  {
   "cell_type": "code",
   "execution_count": 33,
   "id": "9f9e7467",
   "metadata": {},
   "outputs": [],
   "source": [
    "# from sklearn.linear_model import LogisticRegression\n",
    "# from sklearn.tree import DecisionTreeClassifier\n",
    "# from sklearn.ensemble import RandomForestClassifier\n",
    "# from sklearn.svm import SVC\n",
    "# from sklearn.neighbors import KNeighborsClassifier\n",
    "# from sklearn.metrics import accuracy_score, classification_report, confusion_matrix, roc_curve, auc\n",
    "# import pandas as pd\n",
    "# import matplotlib.pyplot as plt\n",
    "\n",
    "# # Modele do przetestowania\n",
    "# models = {\n",
    "#     \"Logistic Regression\": LogisticRegression(max_iter=1000),\n",
    "#     \"Decision Tree\": DecisionTreeClassifier(),\n",
    "#     \"Random Forest\": RandomForestClassifier(),\n",
    "#     \"SVM\": SVC(probability=True),  # ważne: probability=True dla ROC\n",
    "#     \"KNN\": KNeighborsClassifier()\n",
    "# }\n",
    "\n",
    "# # Wyniki\n",
    "# results = []\n",
    "\n",
    "# # Wykres ROC\n",
    "# plt.figure(figsize=(8,6))\n",
    "\n",
    "# for name, model in models.items():\n",
    "#     model.fit(X_train, y_train)\n",
    "#     y_pred = model.predict(X_test)\n",
    "#     y_proba = model.predict_proba(X_test)[:,1]  # potrzebne do ROC\n",
    "\n",
    "#     acc = accuracy_score(y_test, y_pred)\n",
    "#     results.append({\"Model\": name, \"Accuracy\": acc})\n",
    "\n",
    "#     print(f\"\\n{name}\")\n",
    "#     print(\"Accuracy:\", acc)\n",
    "#     print(\"Confusion Matrix:\\n\", confusion_matrix(y_test, y_pred))\n",
    "#     print(\"Classification Report:\\n\", classification_report(y_test, y_pred))\n",
    "\n",
    "#     # Krzywa ROC\n",
    "#     fpr, tpr, _ = roc_curve(y_test, y_proba)\n",
    "#     roc_auc = auc(fpr, tpr)\n",
    "#     plt.plot(fpr, tpr, label=f\"{name} (AUC = {roc_auc:.2f})\")\n",
    "\n",
    "# # Linia referencyjna\n",
    "# plt.plot([0,1], [0,1], 'k--', label=\"Random guess\")\n",
    "\n",
    "# plt.xlabel(\"False Positive Rate\")\n",
    "# plt.ylabel(\"True Positive Rate\")\n",
    "# plt.title(\"ROC Curve - Porównanie modeli\")\n",
    "# plt.legend()\n",
    "# plt.show()\n",
    "\n",
    "# # Podsumowanie w tabeli\n",
    "# df_results = pd.DataFrame(results).sort_values(by=\"Accuracy\", ascending=False)\n",
    "# print(\"\\n📊 Podsumowanie:\")\n",
    "# print(df_results)q1"
   ]
  }
 ],
 "metadata": {
  "kernelspec": {
   "display_name": "new_env",
   "language": "python",
   "name": "python3"
  },
  "language_info": {
   "codemirror_mode": {
    "name": "ipython",
    "version": 3
   },
   "file_extension": ".py",
   "mimetype": "text/x-python",
   "name": "python",
   "nbconvert_exporter": "python",
   "pygments_lexer": "ipython3",
   "version": "3.13.2"
  }
 },
 "nbformat": 4,
 "nbformat_minor": 5
}
