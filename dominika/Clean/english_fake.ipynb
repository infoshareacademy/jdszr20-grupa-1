{
 "cells": [
  {
   "cell_type": "code",
   "execution_count": 1,
   "id": "9485620e",
   "metadata": {},
   "outputs": [],
   "source": [
    "%load_ext autoreload\n",
    "%autoreload 2"
   ]
  },
  {
   "cell_type": "code",
   "execution_count": 2,
   "id": "40238696",
   "metadata": {},
   "outputs": [
    {
     "name": "stdout",
     "output_type": "stream",
     "text": [
      "Path to dataset files: /Users/dominikakokoryk/.cache/kagglehub/datasets/evilspirit05/english-fake-news-dataset/versions/4\n"
     ]
    },
    {
     "data": {
      "text/plain": [
       "'../data/english'"
      ]
     },
     "execution_count": 2,
     "metadata": {},
     "output_type": "execute_result"
    }
   ],
   "source": [
    "import kagglehub\n",
    "# Download latest version\n",
    "path = kagglehub.dataset_download(\"evilspirit05/english-fake-news-dataset\")\n",
    "print(\"Path to dataset files:\", path)\n",
    "import shutil\n",
    "shutil.copytree(path, '../data/english', dirs_exist_ok=True)"
   ]
  },
  {
   "cell_type": "code",
   "execution_count": 3,
   "id": "5f4178af",
   "metadata": {},
   "outputs": [],
   "source": [
    "import pandas as pd\n",
    "import numpy as np\n",
    "import matplotlib.pyplot as plt"
   ]
  },
  {
   "cell_type": "code",
   "execution_count": 4,
   "id": "7d62fa55",
   "metadata": {},
   "outputs": [],
   "source": [
    "df_final = pd.read_csv(\"../data/english/final_en.csv\")\n",
    "df = pd.read_csv('../data/english/enclean_fake_news.csv')"
   ]
  },
  {
   "cell_type": "markdown",
   "id": "81ad7959",
   "metadata": {},
   "source": [
    "#### enclean_fake_news.csv"
   ]
  },
  {
   "cell_type": "code",
   "execution_count": 5,
   "id": "8f716899",
   "metadata": {},
   "outputs": [
    {
     "data": {
      "text/html": [
       "<div>\n",
       "<style scoped>\n",
       "    .dataframe tbody tr th:only-of-type {\n",
       "        vertical-align: middle;\n",
       "    }\n",
       "\n",
       "    .dataframe tbody tr th {\n",
       "        vertical-align: top;\n",
       "    }\n",
       "\n",
       "    .dataframe thead th {\n",
       "        text-align: right;\n",
       "    }\n",
       "</style>\n",
       "<table border=\"1\" class=\"dataframe\">\n",
       "  <thead>\n",
       "    <tr style=\"text-align: right;\">\n",
       "      <th></th>\n",
       "      <th>label</th>\n",
       "      <th>text</th>\n",
       "    </tr>\n",
       "  </thead>\n",
       "  <tbody>\n",
       "    <tr>\n",
       "      <th>0</th>\n",
       "      <td>1</td>\n",
       "      <td>wow huckabee ask nancy pelosi if shes racist o...</td>\n",
       "    </tr>\n",
       "    <tr>\n",
       "      <th>1</th>\n",
       "      <td>1</td>\n",
       "      <td>wikileaks why be the clinton scooby van fit wi...</td>\n",
       "    </tr>\n",
       "    <tr>\n",
       "      <th>2</th>\n",
       "      <td>1</td>\n",
       "      <td>thai government take action against monk over ...</td>\n",
       "    </tr>\n",
       "    <tr>\n",
       "      <th>3</th>\n",
       "      <td>1</td>\n",
       "      <td>responsible gun owner who have never fire one ...</td>\n",
       "    </tr>\n",
       "    <tr>\n",
       "      <th>4</th>\n",
       "      <td>1</td>\n",
       "      <td>stark und schön zugleich stark und schön zugle...</td>\n",
       "    </tr>\n",
       "  </tbody>\n",
       "</table>\n",
       "</div>"
      ],
      "text/plain": [
       "   label                                               text\n",
       "0      1  wow huckabee ask nancy pelosi if shes racist o...\n",
       "1      1  wikileaks why be the clinton scooby van fit wi...\n",
       "2      1  thai government take action against monk over ...\n",
       "3      1  responsible gun owner who have never fire one ...\n",
       "4      1  stark und schön zugleich stark und schön zugle..."
      ]
     },
     "execution_count": 5,
     "metadata": {},
     "output_type": "execute_result"
    }
   ],
   "source": [
    "df.head()"
   ]
  },
  {
   "cell_type": "code",
   "execution_count": 6,
   "id": "c41328ed",
   "metadata": {},
   "outputs": [
    {
     "data": {
      "text/plain": [
       "(11276, 2)"
      ]
     },
     "execution_count": 6,
     "metadata": {},
     "output_type": "execute_result"
    }
   ],
   "source": [
    "df.shape"
   ]
  },
  {
   "cell_type": "markdown",
   "id": "11d406e1",
   "metadata": {},
   "source": [
    "#### final_en.csv"
   ]
  },
  {
   "cell_type": "code",
   "execution_count": 7,
   "id": "bce2d87a",
   "metadata": {},
   "outputs": [
    {
     "data": {
      "text/html": [
       "<div>\n",
       "<style scoped>\n",
       "    .dataframe tbody tr th:only-of-type {\n",
       "        vertical-align: middle;\n",
       "    }\n",
       "\n",
       "    .dataframe tbody tr th {\n",
       "        vertical-align: top;\n",
       "    }\n",
       "\n",
       "    .dataframe thead th {\n",
       "        text-align: right;\n",
       "    }\n",
       "</style>\n",
       "<table border=\"1\" class=\"dataframe\">\n",
       "  <thead>\n",
       "    <tr style=\"text-align: right;\">\n",
       "      <th></th>\n",
       "      <th>title</th>\n",
       "      <th>text</th>\n",
       "      <th>lebel</th>\n",
       "    </tr>\n",
       "  </thead>\n",
       "  <tbody>\n",
       "    <tr>\n",
       "      <th>0</th>\n",
       "      <td>Trump backs off praise of Russia's Putin after...</td>\n",
       "      <td>HENDERSON, Nev. (Reuters) - U.S. Republican pr...</td>\n",
       "      <td>1</td>\n",
       "    </tr>\n",
       "    <tr>\n",
       "      <th>1</th>\n",
       "      <td>Trump's funding request for U.S. border wall h...</td>\n",
       "      <td>WASHINGTON (Reuters) - President Donald Trump’...</td>\n",
       "      <td>1</td>\n",
       "    </tr>\n",
       "    <tr>\n",
       "      <th>2</th>\n",
       "      <td>As Votes For Trump Went Up, Canada’s Immigrat...</td>\n",
       "      <td>Well, sad to say, it s a sure chance the next ...</td>\n",
       "      <td>0</td>\n",
       "    </tr>\n",
       "    <tr>\n",
       "      <th>3</th>\n",
       "      <td>U.S. Navy, shipbuilders ready for Trump's expa...</td>\n",
       "      <td>SIMI VALLEY, Calif. (Reuters) - The U.S. arms ...</td>\n",
       "      <td>1</td>\n",
       "    </tr>\n",
       "    <tr>\n",
       "      <th>4</th>\n",
       "      <td>Trump defends DACA move, urges Congress to ena...</td>\n",
       "      <td>WASHINGTON (Reuters) - President Donald Trump ...</td>\n",
       "      <td>1</td>\n",
       "    </tr>\n",
       "  </tbody>\n",
       "</table>\n",
       "</div>"
      ],
      "text/plain": [
       "                                               title  \\\n",
       "0  Trump backs off praise of Russia's Putin after...   \n",
       "1  Trump's funding request for U.S. border wall h...   \n",
       "2   As Votes For Trump Went Up, Canada’s Immigrat...   \n",
       "3  U.S. Navy, shipbuilders ready for Trump's expa...   \n",
       "4  Trump defends DACA move, urges Congress to ena...   \n",
       "\n",
       "                                                text  lebel  \n",
       "0  HENDERSON, Nev. (Reuters) - U.S. Republican pr...      1  \n",
       "1  WASHINGTON (Reuters) - President Donald Trump’...      1  \n",
       "2  Well, sad to say, it s a sure chance the next ...      0  \n",
       "3  SIMI VALLEY, Calif. (Reuters) - The U.S. arms ...      1  \n",
       "4  WASHINGTON (Reuters) - President Donald Trump ...      1  "
      ]
     },
     "execution_count": 7,
     "metadata": {},
     "output_type": "execute_result"
    }
   ],
   "source": [
    "df_final.head()"
   ]
  },
  {
   "cell_type": "code",
   "execution_count": 8,
   "id": "b2a58baa",
   "metadata": {},
   "outputs": [
    {
     "data": {
      "text/plain": [
       "(10000, 3)"
      ]
     },
     "execution_count": 8,
     "metadata": {},
     "output_type": "execute_result"
    }
   ],
   "source": [
    "df_final.shape"
   ]
  },
  {
   "cell_type": "code",
   "execution_count": 9,
   "id": "84c67d40",
   "metadata": {},
   "outputs": [
    {
     "data": {
      "text/plain": [
       "title    0\n",
       "text     0\n",
       "lebel    0\n",
       "dtype: int64"
      ]
     },
     "execution_count": 9,
     "metadata": {},
     "output_type": "execute_result"
    }
   ],
   "source": [
    "df = df_final\n",
    "df.isna().sum()"
   ]
  },
  {
   "cell_type": "code",
   "execution_count": 10,
   "id": "442c80bd",
   "metadata": {},
   "outputs": [
    {
     "data": {
      "text/plain": [
       "title    object\n",
       "text     object\n",
       "lebel     int64\n",
       "dtype: object"
      ]
     },
     "execution_count": 10,
     "metadata": {},
     "output_type": "execute_result"
    }
   ],
   "source": [
    "df.dtypes"
   ]
  },
  {
   "cell_type": "code",
   "execution_count": 11,
   "id": "cd3c3932",
   "metadata": {},
   "outputs": [
    {
     "data": {
      "text/plain": [
       "{0, 1}"
      ]
     },
     "execution_count": 11,
     "metadata": {},
     "output_type": "execute_result"
    }
   ],
   "source": [
    "set(df['lebel'].values)"
   ]
  },
  {
   "cell_type": "code",
   "execution_count": 12,
   "id": "14f26690",
   "metadata": {},
   "outputs": [
    {
     "data": {
      "text/html": [
       "<div>\n",
       "<style scoped>\n",
       "    .dataframe tbody tr th:only-of-type {\n",
       "        vertical-align: middle;\n",
       "    }\n",
       "\n",
       "    .dataframe tbody tr th {\n",
       "        vertical-align: top;\n",
       "    }\n",
       "\n",
       "    .dataframe thead th {\n",
       "        text-align: right;\n",
       "    }\n",
       "</style>\n",
       "<table border=\"1\" class=\"dataframe\">\n",
       "  <thead>\n",
       "    <tr style=\"text-align: right;\">\n",
       "      <th></th>\n",
       "      <th>title</th>\n",
       "      <th>text</th>\n",
       "      <th>fake</th>\n",
       "    </tr>\n",
       "  </thead>\n",
       "  <tbody>\n",
       "    <tr>\n",
       "      <th>0</th>\n",
       "      <td>Trump backs off praise of Russia's Putin after...</td>\n",
       "      <td>HENDERSON, Nev. (Reuters) - U.S. Republican pr...</td>\n",
       "      <td>0</td>\n",
       "    </tr>\n",
       "    <tr>\n",
       "      <th>1</th>\n",
       "      <td>Trump's funding request for U.S. border wall h...</td>\n",
       "      <td>WASHINGTON (Reuters) - President Donald Trump’...</td>\n",
       "      <td>0</td>\n",
       "    </tr>\n",
       "    <tr>\n",
       "      <th>2</th>\n",
       "      <td>As Votes For Trump Went Up, Canada’s Immigrat...</td>\n",
       "      <td>Well, sad to say, it s a sure chance the next ...</td>\n",
       "      <td>1</td>\n",
       "    </tr>\n",
       "    <tr>\n",
       "      <th>3</th>\n",
       "      <td>U.S. Navy, shipbuilders ready for Trump's expa...</td>\n",
       "      <td>SIMI VALLEY, Calif. (Reuters) - The U.S. arms ...</td>\n",
       "      <td>0</td>\n",
       "    </tr>\n",
       "    <tr>\n",
       "      <th>4</th>\n",
       "      <td>Trump defends DACA move, urges Congress to ena...</td>\n",
       "      <td>WASHINGTON (Reuters) - President Donald Trump ...</td>\n",
       "      <td>0</td>\n",
       "    </tr>\n",
       "    <tr>\n",
       "      <th>...</th>\n",
       "      <td>...</td>\n",
       "      <td>...</td>\n",
       "      <td>...</td>\n",
       "    </tr>\n",
       "    <tr>\n",
       "      <th>9995</th>\n",
       "      <td>ESTABLISHMENT GOP END TIMES? Why Republican Ca...</td>\n",
       "      <td>In the real world, if your boss is damaging yo...</td>\n",
       "      <td>1</td>\n",
       "    </tr>\n",
       "    <tr>\n",
       "      <th>9996</th>\n",
       "      <td>Republican tax fight complicates plan to pass ...</td>\n",
       "      <td>WASHINGTON (Reuters) - A budget plan crucial t...</td>\n",
       "      <td>0</td>\n",
       "    </tr>\n",
       "    <tr>\n",
       "      <th>9997</th>\n",
       "      <td>Nigeria offers to meet militants after ceasefi...</td>\n",
       "      <td>ABUJA (Reuters) - The minister for Nigeria s o...</td>\n",
       "      <td>0</td>\n",
       "    </tr>\n",
       "    <tr>\n",
       "      <th>9998</th>\n",
       "      <td>Mike Pence: Trump Is Probably Going To Tortur...</td>\n",
       "      <td>On Face The Nation, Mike Pence showed exactly ...</td>\n",
       "      <td>1</td>\n",
       "    </tr>\n",
       "    <tr>\n",
       "      <th>9999</th>\n",
       "      <td>CNN FIRES BLACK DEM Party Chair: New Wikileaks...</td>\n",
       "      <td>You just can t make this up! CNN fires black D...</td>\n",
       "      <td>1</td>\n",
       "    </tr>\n",
       "  </tbody>\n",
       "</table>\n",
       "<p>10000 rows × 3 columns</p>\n",
       "</div>"
      ],
      "text/plain": [
       "                                                  title  \\\n",
       "0     Trump backs off praise of Russia's Putin after...   \n",
       "1     Trump's funding request for U.S. border wall h...   \n",
       "2      As Votes For Trump Went Up, Canada’s Immigrat...   \n",
       "3     U.S. Navy, shipbuilders ready for Trump's expa...   \n",
       "4     Trump defends DACA move, urges Congress to ena...   \n",
       "...                                                 ...   \n",
       "9995  ESTABLISHMENT GOP END TIMES? Why Republican Ca...   \n",
       "9996  Republican tax fight complicates plan to pass ...   \n",
       "9997  Nigeria offers to meet militants after ceasefi...   \n",
       "9998   Mike Pence: Trump Is Probably Going To Tortur...   \n",
       "9999  CNN FIRES BLACK DEM Party Chair: New Wikileaks...   \n",
       "\n",
       "                                                   text  fake  \n",
       "0     HENDERSON, Nev. (Reuters) - U.S. Republican pr...     0  \n",
       "1     WASHINGTON (Reuters) - President Donald Trump’...     0  \n",
       "2     Well, sad to say, it s a sure chance the next ...     1  \n",
       "3     SIMI VALLEY, Calif. (Reuters) - The U.S. arms ...     0  \n",
       "4     WASHINGTON (Reuters) - President Donald Trump ...     0  \n",
       "...                                                 ...   ...  \n",
       "9995  In the real world, if your boss is damaging yo...     1  \n",
       "9996  WASHINGTON (Reuters) - A budget plan crucial t...     0  \n",
       "9997  ABUJA (Reuters) - The minister for Nigeria s o...     0  \n",
       "9998  On Face The Nation, Mike Pence showed exactly ...     1  \n",
       "9999  You just can t make this up! CNN fires black D...     1  \n",
       "\n",
       "[10000 rows x 3 columns]"
      ]
     },
     "execution_count": 12,
     "metadata": {},
     "output_type": "execute_result"
    }
   ],
   "source": [
    "df_eng = df.rename(columns={'lebel': 'fake'})\n",
    "df_eng['fake'] = (df_eng['fake'] + 1) % 2\n",
    "df_eng.head()\n",
    "df_eng"
   ]
  },
  {
   "cell_type": "code",
   "execution_count": 13,
   "id": "f522c2fd",
   "metadata": {},
   "outputs": [
    {
     "data": {
      "text/plain": [
       "title    0\n",
       "text     0\n",
       "fake     0\n",
       "dtype: int64"
      ]
     },
     "execution_count": 13,
     "metadata": {},
     "output_type": "execute_result"
    }
   ],
   "source": [
    "df_eng.isna().sum()"
   ]
  },
  {
   "cell_type": "code",
   "execution_count": 14,
   "id": "4803ff3c",
   "metadata": {},
   "outputs": [],
   "source": [
    "df_eng['combined_text'] = (\n",
    "    df_eng['title'].fillna('').astype(str).str.strip()\n",
    "    + ' '\n",
    "    + df_eng['text'].fillna('').astype(str).str.strip()\n",
    ").str.replace(r'\\s+', ' ', regex=True).str.strip()"
   ]
  },
  {
   "cell_type": "code",
   "execution_count": 15,
   "id": "b3cad258",
   "metadata": {},
   "outputs": [
    {
     "data": {
      "text/plain": [
       "0       Trump backs off praise of Russia's Putin after...\n",
       "1       Trump's funding request for U.S. border wall h...\n",
       "2       As Votes For Trump Went Up, Canada’s Immigrati...\n",
       "3       U.S. Navy, shipbuilders ready for Trump's expa...\n",
       "4       Trump defends DACA move, urges Congress to ena...\n",
       "                              ...                        \n",
       "9995    ESTABLISHMENT GOP END TIMES? Why Republican Ca...\n",
       "9996    Republican tax fight complicates plan to pass ...\n",
       "9997    Nigeria offers to meet militants after ceasefi...\n",
       "9998    Mike Pence: Trump Is Probably Going To Torture...\n",
       "9999    CNN FIRES BLACK DEM Party Chair: New Wikileaks...\n",
       "Name: combined_text, Length: 10000, dtype: object"
      ]
     },
     "execution_count": 15,
     "metadata": {},
     "output_type": "execute_result"
    }
   ],
   "source": [
    "df_eng['combined_text']"
   ]
  },
  {
   "cell_type": "code",
   "execution_count": 16,
   "id": "405d7e6a",
   "metadata": {},
   "outputs": [
    {
     "data": {
      "text/plain": [
       "0"
      ]
     },
     "execution_count": 16,
     "metadata": {},
     "output_type": "execute_result"
    }
   ],
   "source": [
    "df_eng['combined_text'].isna().sum()"
   ]
  },
  {
   "cell_type": "code",
   "execution_count": 17,
   "id": "bf15dca1",
   "metadata": {},
   "outputs": [
    {
     "data": {
      "text/html": [
       "<div>\n",
       "<style scoped>\n",
       "    .dataframe tbody tr th:only-of-type {\n",
       "        vertical-align: middle;\n",
       "    }\n",
       "\n",
       "    .dataframe tbody tr th {\n",
       "        vertical-align: top;\n",
       "    }\n",
       "\n",
       "    .dataframe thead th {\n",
       "        text-align: right;\n",
       "    }\n",
       "</style>\n",
       "<table border=\"1\" class=\"dataframe\">\n",
       "  <thead>\n",
       "    <tr style=\"text-align: right;\">\n",
       "      <th></th>\n",
       "      <th>title</th>\n",
       "      <th>text</th>\n",
       "      <th>fake</th>\n",
       "      <th>combined_text</th>\n",
       "    </tr>\n",
       "  </thead>\n",
       "  <tbody>\n",
       "  </tbody>\n",
       "</table>\n",
       "</div>"
      ],
      "text/plain": [
       "Empty DataFrame\n",
       "Columns: [title, text, fake, combined_text]\n",
       "Index: []"
      ]
     },
     "execution_count": 17,
     "metadata": {},
     "output_type": "execute_result"
    }
   ],
   "source": [
    "df_eng[df_eng['combined_text'] == \"\"]"
   ]
  },
  {
   "cell_type": "code",
   "execution_count": 18,
   "id": "5d670d0d",
   "metadata": {},
   "outputs": [
    {
     "data": {
      "text/html": [
       "<div>\n",
       "<style scoped>\n",
       "    .dataframe tbody tr th:only-of-type {\n",
       "        vertical-align: middle;\n",
       "    }\n",
       "\n",
       "    .dataframe tbody tr th {\n",
       "        vertical-align: top;\n",
       "    }\n",
       "\n",
       "    .dataframe thead th {\n",
       "        text-align: right;\n",
       "    }\n",
       "</style>\n",
       "<table border=\"1\" class=\"dataframe\">\n",
       "  <thead>\n",
       "    <tr style=\"text-align: right;\">\n",
       "      <th></th>\n",
       "      <th>title</th>\n",
       "      <th>text</th>\n",
       "      <th>fake</th>\n",
       "      <th>combined_text</th>\n",
       "    </tr>\n",
       "  </thead>\n",
       "  <tbody>\n",
       "    <tr>\n",
       "      <th>0</th>\n",
       "      <td>Trump backs off praise of Russia's Putin after...</td>\n",
       "      <td>HENDERSON, Nev. (Reuters) - U.S. Republican pr...</td>\n",
       "      <td>0</td>\n",
       "      <td>Trump backs off praise of Russia's Putin after...</td>\n",
       "    </tr>\n",
       "    <tr>\n",
       "      <th>1</th>\n",
       "      <td>Trump's funding request for U.S. border wall h...</td>\n",
       "      <td>WASHINGTON (Reuters) - President Donald Trump’...</td>\n",
       "      <td>0</td>\n",
       "      <td>Trump's funding request for U.S. border wall h...</td>\n",
       "    </tr>\n",
       "    <tr>\n",
       "      <th>2</th>\n",
       "      <td>As Votes For Trump Went Up, Canada’s Immigrat...</td>\n",
       "      <td>Well, sad to say, it s a sure chance the next ...</td>\n",
       "      <td>1</td>\n",
       "      <td>As Votes For Trump Went Up, Canada’s Immigrati...</td>\n",
       "    </tr>\n",
       "    <tr>\n",
       "      <th>3</th>\n",
       "      <td>U.S. Navy, shipbuilders ready for Trump's expa...</td>\n",
       "      <td>SIMI VALLEY, Calif. (Reuters) - The U.S. arms ...</td>\n",
       "      <td>0</td>\n",
       "      <td>U.S. Navy, shipbuilders ready for Trump's expa...</td>\n",
       "    </tr>\n",
       "    <tr>\n",
       "      <th>4</th>\n",
       "      <td>Trump defends DACA move, urges Congress to ena...</td>\n",
       "      <td>WASHINGTON (Reuters) - President Donald Trump ...</td>\n",
       "      <td>0</td>\n",
       "      <td>Trump defends DACA move, urges Congress to ena...</td>\n",
       "    </tr>\n",
       "    <tr>\n",
       "      <th>...</th>\n",
       "      <td>...</td>\n",
       "      <td>...</td>\n",
       "      <td>...</td>\n",
       "      <td>...</td>\n",
       "    </tr>\n",
       "    <tr>\n",
       "      <th>9995</th>\n",
       "      <td>ESTABLISHMENT GOP END TIMES? Why Republican Ca...</td>\n",
       "      <td>In the real world, if your boss is damaging yo...</td>\n",
       "      <td>1</td>\n",
       "      <td>ESTABLISHMENT GOP END TIMES? Why Republican Ca...</td>\n",
       "    </tr>\n",
       "    <tr>\n",
       "      <th>9996</th>\n",
       "      <td>Republican tax fight complicates plan to pass ...</td>\n",
       "      <td>WASHINGTON (Reuters) - A budget plan crucial t...</td>\n",
       "      <td>0</td>\n",
       "      <td>Republican tax fight complicates plan to pass ...</td>\n",
       "    </tr>\n",
       "    <tr>\n",
       "      <th>9997</th>\n",
       "      <td>Nigeria offers to meet militants after ceasefi...</td>\n",
       "      <td>ABUJA (Reuters) - The minister for Nigeria s o...</td>\n",
       "      <td>0</td>\n",
       "      <td>Nigeria offers to meet militants after ceasefi...</td>\n",
       "    </tr>\n",
       "    <tr>\n",
       "      <th>9998</th>\n",
       "      <td>Mike Pence: Trump Is Probably Going To Tortur...</td>\n",
       "      <td>On Face The Nation, Mike Pence showed exactly ...</td>\n",
       "      <td>1</td>\n",
       "      <td>Mike Pence: Trump Is Probably Going To Torture...</td>\n",
       "    </tr>\n",
       "    <tr>\n",
       "      <th>9999</th>\n",
       "      <td>CNN FIRES BLACK DEM Party Chair: New Wikileaks...</td>\n",
       "      <td>You just can t make this up! CNN fires black D...</td>\n",
       "      <td>1</td>\n",
       "      <td>CNN FIRES BLACK DEM Party Chair: New Wikileaks...</td>\n",
       "    </tr>\n",
       "  </tbody>\n",
       "</table>\n",
       "<p>10000 rows × 4 columns</p>\n",
       "</div>"
      ],
      "text/plain": [
       "                                                  title  \\\n",
       "0     Trump backs off praise of Russia's Putin after...   \n",
       "1     Trump's funding request for U.S. border wall h...   \n",
       "2      As Votes For Trump Went Up, Canada’s Immigrat...   \n",
       "3     U.S. Navy, shipbuilders ready for Trump's expa...   \n",
       "4     Trump defends DACA move, urges Congress to ena...   \n",
       "...                                                 ...   \n",
       "9995  ESTABLISHMENT GOP END TIMES? Why Republican Ca...   \n",
       "9996  Republican tax fight complicates plan to pass ...   \n",
       "9997  Nigeria offers to meet militants after ceasefi...   \n",
       "9998   Mike Pence: Trump Is Probably Going To Tortur...   \n",
       "9999  CNN FIRES BLACK DEM Party Chair: New Wikileaks...   \n",
       "\n",
       "                                                   text  fake  \\\n",
       "0     HENDERSON, Nev. (Reuters) - U.S. Republican pr...     0   \n",
       "1     WASHINGTON (Reuters) - President Donald Trump’...     0   \n",
       "2     Well, sad to say, it s a sure chance the next ...     1   \n",
       "3     SIMI VALLEY, Calif. (Reuters) - The U.S. arms ...     0   \n",
       "4     WASHINGTON (Reuters) - President Donald Trump ...     0   \n",
       "...                                                 ...   ...   \n",
       "9995  In the real world, if your boss is damaging yo...     1   \n",
       "9996  WASHINGTON (Reuters) - A budget plan crucial t...     0   \n",
       "9997  ABUJA (Reuters) - The minister for Nigeria s o...     0   \n",
       "9998  On Face The Nation, Mike Pence showed exactly ...     1   \n",
       "9999  You just can t make this up! CNN fires black D...     1   \n",
       "\n",
       "                                          combined_text  \n",
       "0     Trump backs off praise of Russia's Putin after...  \n",
       "1     Trump's funding request for U.S. border wall h...  \n",
       "2     As Votes For Trump Went Up, Canada’s Immigrati...  \n",
       "3     U.S. Navy, shipbuilders ready for Trump's expa...  \n",
       "4     Trump defends DACA move, urges Congress to ena...  \n",
       "...                                                 ...  \n",
       "9995  ESTABLISHMENT GOP END TIMES? Why Republican Ca...  \n",
       "9996  Republican tax fight complicates plan to pass ...  \n",
       "9997  Nigeria offers to meet militants after ceasefi...  \n",
       "9998  Mike Pence: Trump Is Probably Going To Torture...  \n",
       "9999  CNN FIRES BLACK DEM Party Chair: New Wikileaks...  \n",
       "\n",
       "[10000 rows x 4 columns]"
      ]
     },
     "execution_count": 18,
     "metadata": {},
     "output_type": "execute_result"
    }
   ],
   "source": [
    "df_eng"
   ]
  },
  {
   "cell_type": "code",
   "execution_count": 19,
   "id": "d613413e",
   "metadata": {},
   "outputs": [],
   "source": [
    "df_eng['text'] = df_eng['combined_text']"
   ]
  },
  {
   "cell_type": "code",
   "execution_count": 20,
   "id": "0f6319bd",
   "metadata": {},
   "outputs": [
    {
     "data": {
      "text/plain": [
       "(10000, 2)"
      ]
     },
     "execution_count": 20,
     "metadata": {},
     "output_type": "execute_result"
    }
   ],
   "source": [
    "df_short = df_eng[['text', 'fake']]\n",
    "df_short.shape"
   ]
  },
  {
   "cell_type": "code",
   "execution_count": 21,
   "id": "d929fc9c",
   "metadata": {},
   "outputs": [
    {
     "data": {
      "text/html": [
       "<div>\n",
       "<style scoped>\n",
       "    .dataframe tbody tr th:only-of-type {\n",
       "        vertical-align: middle;\n",
       "    }\n",
       "\n",
       "    .dataframe tbody tr th {\n",
       "        vertical-align: top;\n",
       "    }\n",
       "\n",
       "    .dataframe thead th {\n",
       "        text-align: right;\n",
       "    }\n",
       "</style>\n",
       "<table border=\"1\" class=\"dataframe\">\n",
       "  <thead>\n",
       "    <tr style=\"text-align: right;\">\n",
       "      <th></th>\n",
       "      <th>text</th>\n",
       "      <th>fake</th>\n",
       "    </tr>\n",
       "  </thead>\n",
       "  <tbody>\n",
       "    <tr>\n",
       "      <th>0</th>\n",
       "      <td>Trump backs off praise of Russia's Putin after...</td>\n",
       "      <td>0</td>\n",
       "    </tr>\n",
       "    <tr>\n",
       "      <th>1</th>\n",
       "      <td>Trump's funding request for U.S. border wall h...</td>\n",
       "      <td>0</td>\n",
       "    </tr>\n",
       "    <tr>\n",
       "      <th>2</th>\n",
       "      <td>As Votes For Trump Went Up, Canada’s Immigrati...</td>\n",
       "      <td>1</td>\n",
       "    </tr>\n",
       "    <tr>\n",
       "      <th>3</th>\n",
       "      <td>U.S. Navy, shipbuilders ready for Trump's expa...</td>\n",
       "      <td>0</td>\n",
       "    </tr>\n",
       "    <tr>\n",
       "      <th>4</th>\n",
       "      <td>Trump defends DACA move, urges Congress to ena...</td>\n",
       "      <td>0</td>\n",
       "    </tr>\n",
       "    <tr>\n",
       "      <th>...</th>\n",
       "      <td>...</td>\n",
       "      <td>...</td>\n",
       "    </tr>\n",
       "    <tr>\n",
       "      <th>9995</th>\n",
       "      <td>ESTABLISHMENT GOP END TIMES? Why Republican Ca...</td>\n",
       "      <td>1</td>\n",
       "    </tr>\n",
       "    <tr>\n",
       "      <th>9996</th>\n",
       "      <td>Republican tax fight complicates plan to pass ...</td>\n",
       "      <td>0</td>\n",
       "    </tr>\n",
       "    <tr>\n",
       "      <th>9997</th>\n",
       "      <td>Nigeria offers to meet militants after ceasefi...</td>\n",
       "      <td>0</td>\n",
       "    </tr>\n",
       "    <tr>\n",
       "      <th>9998</th>\n",
       "      <td>Mike Pence: Trump Is Probably Going To Torture...</td>\n",
       "      <td>1</td>\n",
       "    </tr>\n",
       "    <tr>\n",
       "      <th>9999</th>\n",
       "      <td>CNN FIRES BLACK DEM Party Chair: New Wikileaks...</td>\n",
       "      <td>1</td>\n",
       "    </tr>\n",
       "  </tbody>\n",
       "</table>\n",
       "<p>10000 rows × 2 columns</p>\n",
       "</div>"
      ],
      "text/plain": [
       "                                                   text  fake\n",
       "0     Trump backs off praise of Russia's Putin after...     0\n",
       "1     Trump's funding request for U.S. border wall h...     0\n",
       "2     As Votes For Trump Went Up, Canada’s Immigrati...     1\n",
       "3     U.S. Navy, shipbuilders ready for Trump's expa...     0\n",
       "4     Trump defends DACA move, urges Congress to ena...     0\n",
       "...                                                 ...   ...\n",
       "9995  ESTABLISHMENT GOP END TIMES? Why Republican Ca...     1\n",
       "9996  Republican tax fight complicates plan to pass ...     0\n",
       "9997  Nigeria offers to meet militants after ceasefi...     0\n",
       "9998  Mike Pence: Trump Is Probably Going To Torture...     1\n",
       "9999  CNN FIRES BLACK DEM Party Chair: New Wikileaks...     1\n",
       "\n",
       "[10000 rows x 2 columns]"
      ]
     },
     "execution_count": 21,
     "metadata": {},
     "output_type": "execute_result"
    }
   ],
   "source": [
    "df_short"
   ]
  },
  {
   "cell_type": "code",
   "execution_count": 22,
   "id": "67479b34",
   "metadata": {},
   "outputs": [],
   "source": [
    "df_short = df_short.drop_duplicates(ignore_index=True)"
   ]
  },
  {
   "cell_type": "code",
   "execution_count": 23,
   "id": "6585d408",
   "metadata": {},
   "outputs": [
    {
     "data": {
      "text/html": [
       "<div>\n",
       "<style scoped>\n",
       "    .dataframe tbody tr th:only-of-type {\n",
       "        vertical-align: middle;\n",
       "    }\n",
       "\n",
       "    .dataframe tbody tr th {\n",
       "        vertical-align: top;\n",
       "    }\n",
       "\n",
       "    .dataframe thead th {\n",
       "        text-align: right;\n",
       "    }\n",
       "</style>\n",
       "<table border=\"1\" class=\"dataframe\">\n",
       "  <thead>\n",
       "    <tr style=\"text-align: right;\">\n",
       "      <th></th>\n",
       "      <th>text</th>\n",
       "      <th>fake</th>\n",
       "    </tr>\n",
       "  </thead>\n",
       "  <tbody>\n",
       "    <tr>\n",
       "      <th>0</th>\n",
       "      <td>Trump backs off praise of Russia's Putin after...</td>\n",
       "      <td>0</td>\n",
       "    </tr>\n",
       "    <tr>\n",
       "      <th>1</th>\n",
       "      <td>Trump's funding request for U.S. border wall h...</td>\n",
       "      <td>0</td>\n",
       "    </tr>\n",
       "    <tr>\n",
       "      <th>2</th>\n",
       "      <td>As Votes For Trump Went Up, Canada’s Immigrati...</td>\n",
       "      <td>1</td>\n",
       "    </tr>\n",
       "    <tr>\n",
       "      <th>3</th>\n",
       "      <td>U.S. Navy, shipbuilders ready for Trump's expa...</td>\n",
       "      <td>0</td>\n",
       "    </tr>\n",
       "    <tr>\n",
       "      <th>4</th>\n",
       "      <td>Trump defends DACA move, urges Congress to ena...</td>\n",
       "      <td>0</td>\n",
       "    </tr>\n",
       "    <tr>\n",
       "      <th>...</th>\n",
       "      <td>...</td>\n",
       "      <td>...</td>\n",
       "    </tr>\n",
       "    <tr>\n",
       "      <th>9724</th>\n",
       "      <td>ESTABLISHMENT GOP END TIMES? Why Republican Ca...</td>\n",
       "      <td>1</td>\n",
       "    </tr>\n",
       "    <tr>\n",
       "      <th>9725</th>\n",
       "      <td>Republican tax fight complicates plan to pass ...</td>\n",
       "      <td>0</td>\n",
       "    </tr>\n",
       "    <tr>\n",
       "      <th>9726</th>\n",
       "      <td>Nigeria offers to meet militants after ceasefi...</td>\n",
       "      <td>0</td>\n",
       "    </tr>\n",
       "    <tr>\n",
       "      <th>9727</th>\n",
       "      <td>Mike Pence: Trump Is Probably Going To Torture...</td>\n",
       "      <td>1</td>\n",
       "    </tr>\n",
       "    <tr>\n",
       "      <th>9728</th>\n",
       "      <td>CNN FIRES BLACK DEM Party Chair: New Wikileaks...</td>\n",
       "      <td>1</td>\n",
       "    </tr>\n",
       "  </tbody>\n",
       "</table>\n",
       "<p>9729 rows × 2 columns</p>\n",
       "</div>"
      ],
      "text/plain": [
       "                                                   text  fake\n",
       "0     Trump backs off praise of Russia's Putin after...     0\n",
       "1     Trump's funding request for U.S. border wall h...     0\n",
       "2     As Votes For Trump Went Up, Canada’s Immigrati...     1\n",
       "3     U.S. Navy, shipbuilders ready for Trump's expa...     0\n",
       "4     Trump defends DACA move, urges Congress to ena...     0\n",
       "...                                                 ...   ...\n",
       "9724  ESTABLISHMENT GOP END TIMES? Why Republican Ca...     1\n",
       "9725  Republican tax fight complicates plan to pass ...     0\n",
       "9726  Nigeria offers to meet militants after ceasefi...     0\n",
       "9727  Mike Pence: Trump Is Probably Going To Torture...     1\n",
       "9728  CNN FIRES BLACK DEM Party Chair: New Wikileaks...     1\n",
       "\n",
       "[9729 rows x 2 columns]"
      ]
     },
     "execution_count": 23,
     "metadata": {},
     "output_type": "execute_result"
    }
   ],
   "source": [
    "df_short"
   ]
  },
  {
   "cell_type": "code",
   "execution_count": 24,
   "id": "26280e70",
   "metadata": {},
   "outputs": [],
   "source": [
    "df_short.to_csv('../../data_for_modeling/English_fake_for_modeling.csv', index=False)"
   ]
  },
  {
   "cell_type": "code",
   "execution_count": 25,
   "id": "6a431d09",
   "metadata": {},
   "outputs": [
    {
     "data": {
      "text/html": [
       "<div>\n",
       "<style scoped>\n",
       "    .dataframe tbody tr th:only-of-type {\n",
       "        vertical-align: middle;\n",
       "    }\n",
       "\n",
       "    .dataframe tbody tr th {\n",
       "        vertical-align: top;\n",
       "    }\n",
       "\n",
       "    .dataframe thead th {\n",
       "        text-align: right;\n",
       "    }\n",
       "</style>\n",
       "<table border=\"1\" class=\"dataframe\">\n",
       "  <thead>\n",
       "    <tr style=\"text-align: right;\">\n",
       "      <th></th>\n",
       "      <th>text</th>\n",
       "      <th>fake</th>\n",
       "    </tr>\n",
       "  </thead>\n",
       "  <tbody>\n",
       "    <tr>\n",
       "      <th>0</th>\n",
       "      <td>Trump backs off praise of Russia's Putin after...</td>\n",
       "      <td>0</td>\n",
       "    </tr>\n",
       "    <tr>\n",
       "      <th>1</th>\n",
       "      <td>Trump's funding request for U.S. border wall h...</td>\n",
       "      <td>0</td>\n",
       "    </tr>\n",
       "    <tr>\n",
       "      <th>2</th>\n",
       "      <td>As Votes For Trump Went Up, Canada’s Immigrati...</td>\n",
       "      <td>1</td>\n",
       "    </tr>\n",
       "    <tr>\n",
       "      <th>3</th>\n",
       "      <td>U.S. Navy, shipbuilders ready for Trump's expa...</td>\n",
       "      <td>0</td>\n",
       "    </tr>\n",
       "    <tr>\n",
       "      <th>4</th>\n",
       "      <td>Trump defends DACA move, urges Congress to ena...</td>\n",
       "      <td>0</td>\n",
       "    </tr>\n",
       "    <tr>\n",
       "      <th>...</th>\n",
       "      <td>...</td>\n",
       "      <td>...</td>\n",
       "    </tr>\n",
       "    <tr>\n",
       "      <th>9724</th>\n",
       "      <td>ESTABLISHMENT GOP END TIMES? Why Republican Ca...</td>\n",
       "      <td>1</td>\n",
       "    </tr>\n",
       "    <tr>\n",
       "      <th>9725</th>\n",
       "      <td>Republican tax fight complicates plan to pass ...</td>\n",
       "      <td>0</td>\n",
       "    </tr>\n",
       "    <tr>\n",
       "      <th>9726</th>\n",
       "      <td>Nigeria offers to meet militants after ceasefi...</td>\n",
       "      <td>0</td>\n",
       "    </tr>\n",
       "    <tr>\n",
       "      <th>9727</th>\n",
       "      <td>Mike Pence: Trump Is Probably Going To Torture...</td>\n",
       "      <td>1</td>\n",
       "    </tr>\n",
       "    <tr>\n",
       "      <th>9728</th>\n",
       "      <td>CNN FIRES BLACK DEM Party Chair: New Wikileaks...</td>\n",
       "      <td>1</td>\n",
       "    </tr>\n",
       "  </tbody>\n",
       "</table>\n",
       "<p>9729 rows × 2 columns</p>\n",
       "</div>"
      ],
      "text/plain": [
       "                                                   text  fake\n",
       "0     Trump backs off praise of Russia's Putin after...     0\n",
       "1     Trump's funding request for U.S. border wall h...     0\n",
       "2     As Votes For Trump Went Up, Canada’s Immigrati...     1\n",
       "3     U.S. Navy, shipbuilders ready for Trump's expa...     0\n",
       "4     Trump defends DACA move, urges Congress to ena...     0\n",
       "...                                                 ...   ...\n",
       "9724  ESTABLISHMENT GOP END TIMES? Why Republican Ca...     1\n",
       "9725  Republican tax fight complicates plan to pass ...     0\n",
       "9726  Nigeria offers to meet militants after ceasefi...     0\n",
       "9727  Mike Pence: Trump Is Probably Going To Torture...     1\n",
       "9728  CNN FIRES BLACK DEM Party Chair: New Wikileaks...     1\n",
       "\n",
       "[9729 rows x 2 columns]"
      ]
     },
     "execution_count": 25,
     "metadata": {},
     "output_type": "execute_result"
    }
   ],
   "source": [
    "df_short"
   ]
  },
  {
   "cell_type": "markdown",
   "id": "9a053991",
   "metadata": {},
   "source": [
    "## EDA"
   ]
  },
  {
   "cell_type": "code",
   "execution_count": 32,
   "id": "b3ebb7d6",
   "metadata": {},
   "outputs": [],
   "source": [
    "import ninja_utils"
   ]
  },
  {
   "cell_type": "code",
   "execution_count": 33,
   "id": "fba19794",
   "metadata": {},
   "outputs": [
    {
     "data": {
      "image/png": "[encoded data removed]",
      "text/plain": [
       "<Figure size 640x480 with 1 Axes>"
      ]
     },
     "metadata": {},
     "output_type": "display_data"
    },
    {
     "data": {
      "image/png": "[encoded data removed]",
      "text/plain": [
       "<Figure size 600x400 with 1 Axes>"
      ]
     },
     "metadata": {},
     "output_type": "display_data"
    },
    {
     "data": {
      "image/png": "[encoded data removed]",
      "text/plain": [
       "<Figure size 600x400 with 1 Axes>"
      ]
     },
     "metadata": {},
     "output_type": "display_data"
    },
    {
     "data": {
      "image/png": "[encoded data removed]",
      "text/plain": [
       "<Figure size 1500x600 with 3 Axes>"
      ]
     },
     "metadata": {},
     "output_type": "display_data"
    }
   ],
   "source": [
    "ninja_utils.plot_plots_dataset(df_short)"
   ]
  },
  {
   "cell_type": "code",
   "execution_count": null,
   "id": "fe1b1fb1",
   "metadata": {},
   "outputs": [],
   "source": []
  }
 ],
 "metadata": {
  "kernelspec": {
   "display_name": "base",
   "language": "python",
   "name": "python3"
  },
  "language_info": {
   "codemirror_mode": {
    "name": "ipython",
    "version": 3
   },
   "file_extension": ".py",
   "mimetype": "text/x-python",
   "name": "python",
   "nbconvert_exporter": "python",
   "pygments_lexer": "ipython3",
   "version": "3.12.7"
  }
 },
 "nbformat": 4,
 "nbformat_minor": 5
}
