{
 "cells": [
  {
   "cell_type": "code",
   "execution_count": 1,
   "id": "4810317d",
   "metadata": {},
   "outputs": [],
   "source": [
    "%load_ext autoreload\n",
    "%autoreload 2"
   ]
  },
  {
   "cell_type": "code",
   "execution_count": 4,
   "id": "0215d7f1",
   "metadata": {},
   "outputs": [],
   "source": [
    "import sys\n",
    "sys.path.append(\"..\")\n",
    "import scripts.data_utils as dutils"
   ]
  },
  {
   "cell_type": "code",
   "execution_count": null,
   "id": "9c13fc8b",
   "metadata": {},
   "outputs": [
    {
     "data": {
      "text/html": [
       "<div>\n",
       "<style scoped>\n",
       "    .dataframe tbody tr th:only-of-type {\n",
       "        vertical-align: middle;\n",
       "    }\n",
       "\n",
       "    .dataframe tbody tr th {\n",
       "        vertical-align: top;\n",
       "    }\n",
       "\n",
       "    .dataframe thead th {\n",
       "        text-align: right;\n",
       "    }\n",
       "</style>\n",
       "<table border=\"1\" class=\"dataframe\">\n",
       "  <thead>\n",
       "    <tr style=\"text-align: right;\">\n",
       "      <th></th>\n",
       "      <th>text</th>\n",
       "      <th>fake</th>\n",
       "    </tr>\n",
       "  </thead>\n",
       "  <tbody>\n",
       "    <tr>\n",
       "      <th>0</th>\n",
       "      <td>While serving as U.S. Vice President, Henry A....</td>\n",
       "      <td>0</td>\n",
       "    </tr>\n",
       "    <tr>\n",
       "      <th>1</th>\n",
       "      <td>A 1964 campaign ad for President Lyndon B. Joh...</td>\n",
       "      <td>0</td>\n",
       "    </tr>\n",
       "    <tr>\n",
       "      <th>2</th>\n",
       "      <td>Fifty Republican former national security offi...</td>\n",
       "      <td>0</td>\n",
       "    </tr>\n",
       "    <tr>\n",
       "      <th>3</th>\n",
       "      <td>Elon Musk deleted a tweet where he called the ...</td>\n",
       "      <td>0</td>\n",
       "    </tr>\n",
       "    <tr>\n",
       "      <th>4</th>\n",
       "      <td>Texas Lt. Gov. Dan Patrick said COVID-19 socia...</td>\n",
       "      <td>0</td>\n",
       "    </tr>\n",
       "  </tbody>\n",
       "</table>\n",
       "</div>"
      ],
      "text/plain": [
       "                                                text  fake\n",
       "0  While serving as U.S. Vice President, Henry A....     0\n",
       "1  A 1964 campaign ad for President Lyndon B. Joh...     0\n",
       "2  Fifty Republican former national security offi...     0\n",
       "3  Elon Musk deleted a tweet where he called the ...     0\n",
       "4  Texas Lt. Gov. Dan Patrick said COVID-19 socia...     0"
      ]
     },
     "execution_count": 2,
     "metadata": {},
     "output_type": "execute_result"
    }
   ],
   "source": [
    "\n",
    "\n",
    "daaaaa = dutils.combine_datasets_and_export()\n",
    "daaaaa.head()"
   ]
  },
  {
   "cell_type": "code",
   "execution_count": 3,
   "id": "84a8cda5",
   "metadata": {},
   "outputs": [
    {
     "data": {
      "text/plain": [
       "(140276, 2)"
      ]
     },
     "execution_count": 3,
     "metadata": {},
     "output_type": "execute_result"
    }
   ],
   "source": [
    "daaaaa.shape"
   ]
  },
  {
   "cell_type": "code",
   "execution_count": 6,
   "id": "e18aad95",
   "metadata": {},
   "outputs": [
    {
     "data": {
      "text/plain": [
       "(102223, 2)"
      ]
     },
     "execution_count": 6,
     "metadata": {},
     "output_type": "execute_result"
    }
   ],
   "source": [
    "bbbb = dutils.load_datasets(\n",
    "    min_words=5,\n",
    "    max_words=500\n",
    ")\n",
    "bbbb.shape"
   ]
  },
  {
   "cell_type": "code",
   "execution_count": 8,
   "id": "33b98834",
   "metadata": {},
   "outputs": [
    {
     "data": {
      "text/plain": [
       "(45369, 2)"
      ]
     },
     "execution_count": 8,
     "metadata": {},
     "output_type": "execute_result"
    }
   ],
   "source": [
    "ccc = dutils.load_dataset_sample()\n",
    "ccc.shape"
   ]
  },
  {
   "cell_type": "code",
   "execution_count": null,
   "id": "161623c0",
   "metadata": {},
   "outputs": [],
   "source": []
  }
 ],
 "metadata": {
  "kernelspec": {
   "display_name": "base",
   "language": "python",
   "name": "python3"
  },
  "language_info": {
   "codemirror_mode": {
    "name": "ipython",
    "version": 3
   },
   "file_extension": ".py",
   "mimetype": "text/x-python",
   "name": "python",
   "nbconvert_exporter": "python",
   "pygments_lexer": "ipython3",
   "version": "3.12.7"
  }
 },
 "nbformat": 4,
 "nbformat_minor": 5
}
