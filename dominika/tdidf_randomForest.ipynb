{
 "cells": [
  {
   "cell_type": "markdown",
   "id": "8f4e3bd8",
   "metadata": {},
   "source": [
    "## analiza Random forest"
   ]
  },
  {
   "cell_type": "code",
   "execution_count": 5,
   "id": "04bfa428",
   "metadata": {},
   "outputs": [],
   "source": [
    "%load_ext autoreload\n",
    "%autoreload 2\n",
    "random_state = 42\n",
    "import sys\n",
    "sys.path.append(\"..\")\n",
    "import scripts.data_utils as dutils"
   ]
  },
  {
   "cell_type": "code",
   "execution_count": 1,
   "id": "5adcd800",
   "metadata": {},
   "outputs": [],
   "source": [
    "import pandas as pd\n",
    "import numpy as np\n",
    "from sklearn.feature_extraction.text import TfidfVectorizer\n",
    "from sklearn.model_selection import train_test_split\n",
    "from sklearn.linear_model import LogisticRegression\n",
    "from sklearn.ensemble import RandomForestClassifier\n",
    "from sklearn.svm import SVC\n",
    "from xgboost import XGBClassifier\n",
    "from catboost import CatBoostClassifier\n",
    "from lightgbm import LGBMClassifier\n",
    "from sklearn.metrics import classification_report, accuracy_score, confusion_matrix, precision_score, recall_score, f1_score    \n",
    "import matplotlib.pyplot as plt\n",
    "import seaborn as sns\n",
    "from sklearn.model_selection import GridSearchCV\n",
    "from sklearn.feature_extraction.text import TfidfVectorizer"
   ]
  },
  {
   "cell_type": "code",
   "execution_count": 2,
   "id": "a4534f60",
   "metadata": {},
   "outputs": [
    {
     "data": {
      "text/html": [
       "<div>\n",
       "<style scoped>\n",
       "    .dataframe tbody tr th:only-of-type {\n",
       "        vertical-align: middle;\n",
       "    }\n",
       "\n",
       "    .dataframe tbody tr th {\n",
       "        vertical-align: top;\n",
       "    }\n",
       "\n",
       "    .dataframe thead th {\n",
       "        text-align: right;\n",
       "    }\n",
       "</style>\n",
       "<table border=\"1\" class=\"dataframe\">\n",
       "  <thead>\n",
       "    <tr style=\"text-align: right;\">\n",
       "      <th></th>\n",
       "      <th>text</th>\n",
       "      <th>fake</th>\n",
       "    </tr>\n",
       "  </thead>\n",
       "  <tbody>\n",
       "    <tr>\n",
       "      <th>0</th>\n",
       "      <td>A video showing a smokenado, a tornado-shaped ...</td>\n",
       "      <td>0</td>\n",
       "    </tr>\n",
       "    <tr>\n",
       "      <th>1</th>\n",
       "      <td>Photograph shows a breast rash caused by South...</td>\n",
       "      <td>1</td>\n",
       "    </tr>\n",
       "    <tr>\n",
       "      <th>2</th>\n",
       "      <td>Pfizer CEO is still not vaccinated</td>\n",
       "      <td>1</td>\n",
       "    </tr>\n",
       "    <tr>\n",
       "      <th>3</th>\n",
       "      <td>Steven Seagal receives Russian citizenship on ...</td>\n",
       "      <td>0</td>\n",
       "    </tr>\n",
       "    <tr>\n",
       "      <th>4</th>\n",
       "      <td>Mitt Romney drove to Canada with the family do...</td>\n",
       "      <td>0</td>\n",
       "    </tr>\n",
       "  </tbody>\n",
       "</table>\n",
       "</div>"
      ],
      "text/plain": [
       "                                                text  fake\n",
       "0  A video showing a smokenado, a tornado-shaped ...     0\n",
       "1  Photograph shows a breast rash caused by South...     1\n",
       "2                 Pfizer CEO is still not vaccinated     1\n",
       "3  Steven Seagal receives Russian citizenship on ...     0\n",
       "4  Mitt Romney drove to Canada with the family do...     0"
      ]
     },
     "execution_count": 2,
     "metadata": {},
     "output_type": "execute_result"
    }
   ],
   "source": [
    "data = pd.read_csv('../data_for_modeling/dataset_sample_30_percent.csv')\n",
    "data.head()"
   ]
  },
  {
   "cell_type": "code",
   "execution_count": 3,
   "id": "89caa02e",
   "metadata": {},
   "outputs": [],
   "source": [
    "# wybrany wczesniej vectorizer\n",
    "vectorizer = TfidfVectorizer(ngram_range=(1, 3), max_features=5000, min_df=7, max_df=0.7)"
   ]
  },
  {
   "cell_type": "code",
   "execution_count": 6,
   "id": "59a822ef",
   "metadata": {},
   "outputs": [],
   "source": [
    "rf = RandomForestClassifier(random_state=random_state)"
   ]
  },
  {
   "cell_type": "code",
   "execution_count": 7,
   "id": "04dea473",
   "metadata": {},
   "outputs": [],
   "source": [
    "X_train, X_test, y_train, y_test = train_test_split(data['text'], data['fake'], test_size=0.2, random_state=random_state, stratify=data['fake'])\n",
    "\n",
    "vectorizer.fit(X_train)\n",
    "X_train_vec = vectorizer.transform(X_train)\n",
    "X_test_vec = vectorizer.transform(X_test)"
   ]
  },
  {
   "cell_type": "markdown",
   "id": "d50d54ec",
   "metadata": {},
   "source": [
    "## szukamy hiperparametrów"
   ]
  },
  {
   "cell_type": "code",
   "execution_count": null,
   "id": "4d547552",
   "metadata": {},
   "outputs": [
    {
     "name": "stdout",
     "output_type": "stream",
     "text": [
      "Fitting 3 folds for each of 12 candidates, totalling 36 fits\n",
      "[CV] END max_depth=10, min_samples_split=5, n_estimators=100; total time=   0.9s\n",
      "[CV] END max_depth=10, min_samples_split=5, n_estimators=100; total time=   0.9s\n",
      "[CV] END max_depth=10, min_samples_split=5, n_estimators=100; total time=   0.9s\n",
      "[CV] END max_depth=10, min_samples_split=2, n_estimators=100; total time=   1.1s\n",
      "[CV] END max_depth=10, min_samples_split=2, n_estimators=100; total time=   1.0s\n",
      "[CV] END max_depth=10, min_samples_split=2, n_estimators=100; total time=   1.1s\n",
      "[CV] END max_depth=10, min_samples_split=5, n_estimators=200; total time=   1.9s\n",
      "[CV] END max_depth=10, min_samples_split=2, n_estimators=200; total time=   2.2s\n",
      "[CV] END max_depth=10, min_samples_split=2, n_estimators=200; total time=   2.2s\n",
      "[CV] END max_depth=10, min_samples_split=2, n_estimators=200; total time=   2.2s\n",
      "[CV] END max_depth=10, min_samples_split=5, n_estimators=200; total time=   1.8s\n",
      "[CV] END max_depth=10, min_samples_split=5, n_estimators=200; total time=   1.9s\n",
      "[CV] END max_depth=50, min_samples_split=5, n_estimators=100; total time=   4.1s\n",
      "[CV] END max_depth=50, min_samples_split=5, n_estimators=100; total time=   4.4s\n",
      "[CV] END max_depth=50, min_samples_split=5, n_estimators=100; total time=   4.1s\n",
      "[CV] END max_depth=50, min_samples_split=2, n_estimators=100; total time=   9.6s\n",
      "[CV] END max_depth=50, min_samples_split=2, n_estimators=100; total time=   9.6s\n",
      "[CV] END max_depth=50, min_samples_split=2, n_estimators=100; total time=   9.9s\n",
      "[CV] END max_depth=50, min_samples_split=5, n_estimators=200; total time=   8.4s\n",
      "[CV] END max_depth=50, min_samples_split=5, n_estimators=200; total time=   8.3s\n",
      "[CV] END max_depth=50, min_samples_split=5, n_estimators=200; total time=   8.2s\n",
      "[CV] END max_depth=50, min_samples_split=2, n_estimators=200; total time=  20.0s\n",
      "[CV] END max_depth=50, min_samples_split=2, n_estimators=200; total time=  19.3s\n",
      "[CV] END max_depth=50, min_samples_split=2, n_estimators=200; total time=  20.2s\n",
      "[CV] END max_depth=None, min_samples_split=5, n_estimators=100; total time=   8.2s\n",
      "[CV] END max_depth=None, min_samples_split=5, n_estimators=100; total time=   8.2s\n",
      "[CV] END max_depth=None, min_samples_split=5, n_estimators=100; total time=   8.2s\n",
      "[CV] END max_depth=None, min_samples_split=2, n_estimators=100; total time=  23.3s\n",
      "[CV] END max_depth=None, min_samples_split=2, n_estimators=100; total time=  22.4s\n",
      "[CV] END max_depth=None, min_samples_split=2, n_estimators=100; total time=  22.5s\n",
      "[CV] END max_depth=None, min_samples_split=5, n_estimators=200; total time=  15.5s\n",
      "[CV] END max_depth=None, min_samples_split=5, n_estimators=200; total time=  15.2s\n",
      "[CV] END max_depth=None, min_samples_split=5, n_estimators=200; total time=  13.1s\n",
      "[CV] END max_depth=None, min_samples_split=2, n_estimators=200; total time=  36.8s\n",
      "[CV] END max_depth=None, min_samples_split=2, n_estimators=200; total time=  37.8s\n",
      "[CV] END max_depth=None, min_samples_split=2, n_estimators=200; total time=  35.1s\n",
      "Najlepsze parametry: {'max_depth': None, 'min_samples_split': 2, 'n_estimators': 100}\n",
      "Najlepszy F1-score (walidacja krzyżowa): 0.5415\n",
      "\n",
      "Raport klasyfikacji na zbiorze testowym:\n",
      "              precision    recall  f1-score   support\n",
      "\n",
      "           0       0.56      0.61      0.58      1948\n",
      "           1       0.57      0.51      0.54      1941\n",
      "\n",
      "    accuracy                           0.56      3889\n",
      "   macro avg       0.56      0.56      0.56      3889\n",
      "weighted avg       0.56      0.56      0.56      3889\n",
      "\n"
     ]
    }
   ],
   "source": [
    "params_rf = {\n",
    "    'n_estimators': [100, 200],\n",
    "    'max_depth': [10, 50, None],\n",
    "    'min_samples_split': [2, 5],\n",
    "}\n",
    "\n",
    "params_rf = {\n",
    "    'n_estimators': [100, 200],\n",
    "    'max_depth': [10, 50, None],\n",
    "    'min_samples_split': [2, 5],\n",
    "}\n",
    "\n",
    "grid_rf = GridSearchCV(rf, params_rf, cv=3, scoring='f1', verbose=2, n_jobs=-1)\n",
    "grid_rf.fit(X_train_vec, y_train)\n",
    "\n",
    "print(f\"Najlepsze parametry: {grid_rf.best_params_}\")\n",
    "print(f\"Najlepszy F1-score (walidacja krzyżowa): {grid_rf.best_score_:.4f}\")\n",
    "\n",
    "y_pred_rf = grid_rf.predict(X_test_vec)\n",
    "print(\"\\nRaport klasyfikacji na zbiorze testowym:\")\n",
    "print(classification_report(y_test, y_pred_rf))"
   ]
  },
  {
   "cell_type": "code",
   "execution_count": 13,
   "id": "49d36a78",
   "metadata": {},
   "outputs": [
    {
     "name": "stdout",
     "output_type": "stream",
     "text": [
      "Accuracy: 0.5600\n",
      "Precision: 0.5661\n"
     ]
    }
   ],
   "source": [
    "print(f\"Accuracy: {accuracy_score(y_test, y_pred_rf):.4f}\")\n",
    "print(f\"Precision: {precision_score(y_test, y_pred_rf):.4f}\")\n"
   ]
  },
  {
   "cell_type": "code",
   "execution_count": 10,
   "id": "7fc02125",
   "metadata": {},
   "outputs": [
    {
     "data": {
      "image/png": "[encoded data removed]",
      "text/plain": [
       "<Figure size 640x480 with 2 Axes>"
      ]
     },
     "metadata": {},
     "output_type": "display_data"
    }
   ],
   "source": [
    "sns.heatmap(confusion_matrix(y_test, y_pred_rf), annot=True, fmt='d', cmap='Blues')\n",
    "plt.xlabel('Predicted')\n",
    "plt.ylabel('Actual')\n",
    "plt.title('Confusion Matrix for Random Forest')\n",
    "plt.show()"
   ]
  },
  {
   "cell_type": "code",
   "execution_count": null,
   "id": "cacd4140",
   "metadata": {},
   "outputs": [],
   "source": []
  }
 ],
 "metadata": {
  "kernelspec": {
   "display_name": "base",
   "language": "python",
   "name": "python3"
  },
  "language_info": {
   "codemirror_mode": {
    "name": "ipython",
    "version": 3
   },
   "file_extension": ".py",
   "mimetype": "text/x-python",
   "name": "python",
   "nbconvert_exporter": "python",
   "pygments_lexer": "ipython3",
   "version": "3.12.7"
  }
 },
 "nbformat": 4,
 "nbformat_minor": 5
}
