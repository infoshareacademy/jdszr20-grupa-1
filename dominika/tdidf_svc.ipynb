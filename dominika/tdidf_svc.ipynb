{
 "cells": [
  {
   "cell_type": "markdown",
   "id": "c3768490",
   "metadata": {},
   "source": [
    "## analiza SVC"
   ]
  },
  {
   "cell_type": "code",
   "execution_count": 1,
   "id": "81513e5d",
   "metadata": {},
   "outputs": [],
   "source": [
    "%load_ext autoreload\n",
    "%autoreload 2\n",
    "random_state = 42\n",
    "import sys\n",
    "sys.path.append(\"..\")\n",
    "import scripts.data_utils as dutils"
   ]
  },
  {
   "cell_type": "code",
   "execution_count": 2,
   "id": "e88ccf8c",
   "metadata": {},
   "outputs": [],
   "source": [
    "import pandas as pd\n",
    "import numpy as np\n",
    "from sklearn.feature_extraction.text import TfidfVectorizer\n",
    "from sklearn.model_selection import train_test_split\n",
    "from sklearn.linear_model import LogisticRegression\n",
    "from sklearn.ensemble import RandomForestClassifier\n",
    "from sklearn.svm import SVC\n",
    "from xgboost import XGBClassifier\n",
    "from catboost import CatBoostClassifier\n",
    "from lightgbm import LGBMClassifier\n",
    "from sklearn.metrics import classification_report, accuracy_score, confusion_matrix, precision_score, recall_score, f1_score    \n",
    "import matplotlib.pyplot as plt\n",
    "import seaborn as sns\n",
    "from sklearn.model_selection import GridSearchCV\n",
    "from sklearn.feature_extraction.text import TfidfVectorizer"
   ]
  },
  {
   "cell_type": "code",
   "execution_count": 3,
   "id": "2b1f40f4",
   "metadata": {},
   "outputs": [
    {
     "data": {
      "text/html": [
       "<div>\n",
       "<style scoped>\n",
       "    .dataframe tbody tr th:only-of-type {\n",
       "        vertical-align: middle;\n",
       "    }\n",
       "\n",
       "    .dataframe tbody tr th {\n",
       "        vertical-align: top;\n",
       "    }\n",
       "\n",
       "    .dataframe thead th {\n",
       "        text-align: right;\n",
       "    }\n",
       "</style>\n",
       "<table border=\"1\" class=\"dataframe\">\n",
       "  <thead>\n",
       "    <tr style=\"text-align: right;\">\n",
       "      <th></th>\n",
       "      <th>text</th>\n",
       "      <th>fake</th>\n",
       "    </tr>\n",
       "  </thead>\n",
       "  <tbody>\n",
       "    <tr>\n",
       "      <th>0</th>\n",
       "      <td>A video showing a smokenado, a tornado-shaped ...</td>\n",
       "      <td>0</td>\n",
       "    </tr>\n",
       "    <tr>\n",
       "      <th>1</th>\n",
       "      <td>Photograph shows a breast rash caused by South...</td>\n",
       "      <td>1</td>\n",
       "    </tr>\n",
       "    <tr>\n",
       "      <th>2</th>\n",
       "      <td>Pfizer CEO is still not vaccinated</td>\n",
       "      <td>1</td>\n",
       "    </tr>\n",
       "    <tr>\n",
       "      <th>3</th>\n",
       "      <td>Steven Seagal receives Russian citizenship on ...</td>\n",
       "      <td>0</td>\n",
       "    </tr>\n",
       "    <tr>\n",
       "      <th>4</th>\n",
       "      <td>Mitt Romney drove to Canada with the family do...</td>\n",
       "      <td>0</td>\n",
       "    </tr>\n",
       "  </tbody>\n",
       "</table>\n",
       "</div>"
      ],
      "text/plain": [
       "                                                text  fake\n",
       "0  A video showing a smokenado, a tornado-shaped ...     0\n",
       "1  Photograph shows a breast rash caused by South...     1\n",
       "2                 Pfizer CEO is still not vaccinated     1\n",
       "3  Steven Seagal receives Russian citizenship on ...     0\n",
       "4  Mitt Romney drove to Canada with the family do...     0"
      ]
     },
     "execution_count": 3,
     "metadata": {},
     "output_type": "execute_result"
    }
   ],
   "source": [
    "data = pd.read_csv('../data_for_modeling/dataset_sample_30_percent.csv')\n",
    "data.head()"
   ]
  },
  {
   "cell_type": "code",
   "execution_count": 4,
   "id": "51430013",
   "metadata": {},
   "outputs": [],
   "source": [
    "# wybrany wczesniej vectorizer\n",
    "vectorizer = TfidfVectorizer(ngram_range=(1, 3), max_features=5000, min_df=7, max_df=0.7)"
   ]
  },
  {
   "cell_type": "code",
   "execution_count": 6,
   "id": "52d739c6",
   "metadata": {},
   "outputs": [],
   "source": [
    "X_train, X_test, y_train, y_test = train_test_split(data['text'], data['fake'], test_size=0.2, random_state=random_state, stratify=data['fake'])\n",
    "\n",
    "vectorizer.fit(X_train)\n",
    "X_train_vec = vectorizer.transform(X_train)\n",
    "X_test_vec = vectorizer.transform(X_test)"
   ]
  },
  {
   "cell_type": "code",
   "execution_count": 5,
   "id": "c0f365d3",
   "metadata": {},
   "outputs": [],
   "source": [
    "svc = SVC(random_state=random_state)"
   ]
  },
  {
   "cell_type": "markdown",
   "id": "cc6cdaab",
   "metadata": {},
   "source": [
    "## szukamy hiperparametrów"
   ]
  },
  {
   "cell_type": "code",
   "execution_count": 8,
   "id": "bda3dbab",
   "metadata": {},
   "outputs": [
    {
     "name": "stdout",
     "output_type": "stream",
     "text": [
      "Fitting 3 folds for each of 4 candidates, totalling 12 fits\n",
      "[CV] END .................................C=1, kernel=linear; total time= 1.0min\n",
      "[CV] END .................................C=1, kernel=linear; total time= 1.0min\n",
      "[CV] END .................................C=1, kernel=linear; total time= 1.0min\n",
      "[CV] END ....................................C=1, kernel=rbf; total time= 1.1min\n",
      "[CV] END ....................................C=1, kernel=rbf; total time= 1.1min\n",
      "[CV] END ....................................C=1, kernel=rbf; total time= 1.1min\n",
      "[CV] END ................................C=10, kernel=linear; total time= 1.2min\n",
      "[CV] END ................................C=10, kernel=linear; total time= 1.2min\n",
      "[CV] END ................................C=10, kernel=linear; total time= 1.2min\n",
      "[CV] END ...................................C=10, kernel=rbf; total time= 2.3min\n",
      "[CV] END ...................................C=10, kernel=rbf; total time= 1.9min\n",
      "[CV] END ...................................C=10, kernel=rbf; total time= 2.0min\n",
      "Najlepsze parametry: {'C': 1, 'kernel': 'linear'}\n",
      "Najlepszy F1-score (walidacja krzyżowa): 0.5551\n",
      "Accuracy na zbiorze testowym: 0.5680\n",
      "\n",
      "Raport klasyfikacji na zbiorze testowym:\n",
      "              precision    recall  f1-score   support\n",
      "\n",
      "           0       0.56      0.60      0.58      1948\n",
      "           1       0.57      0.54      0.55      1941\n",
      "\n",
      "    accuracy                           0.57      3889\n",
      "   macro avg       0.57      0.57      0.57      3889\n",
      "weighted avg       0.57      0.57      0.57      3889\n",
      "\n"
     ]
    }
   ],
   "source": [
    "params_svc = {\n",
    "    'C': [1, 10],\n",
    "    'kernel': ['linear', 'rbf']\n",
    "}\n",
    "\n",
    "grid_svc = GridSearchCV(svc, params_svc, cv=3, scoring='f1', verbose=2, n_jobs=-1)\n",
    "grid_svc.fit(X_train_vec, y_train)\n",
    "\n",
    "# Wyniki\n",
    "print(f\"Najlepsze parametry: {grid_svc.best_params_}\")\n",
    "print(f\"Najlepszy F1-score (walidacja krzyżowa): {grid_svc.best_score_:.4f}\")\n",
    "\n",
    "# Ocena na zbiorze testowym\n",
    "y_pred_svc = grid_svc.predict(X_test_vec)\n",
    "print(f\"Accuracy na zbiorze testowym: {accuracy_score(y_test, y_pred_svc):.4f}\")\n",
    "print(\"\\nRaport klasyfikacji na zbiorze testowym:\")\n",
    "print(classification_report(y_test, y_pred_svc))"
   ]
  },
  {
   "cell_type": "code",
   "execution_count": 9,
   "id": "0d79bc3e",
   "metadata": {},
   "outputs": [
    {
     "data": {
      "image/png": "[encoded data removed]",
      "text/plain": [
       "<Figure size 640x480 with 2 Axes>"
      ]
     },
     "metadata": {},
     "output_type": "display_data"
    }
   ],
   "source": [
    "sns.heatmap(confusion_matrix(y_test, y_pred_svc), annot=True, fmt='d', cmap='Blues')\n",
    "plt.xlabel('Predicted')\n",
    "plt.ylabel('Actual')\n",
    "plt.title('Confusion Matrix for SVC')\n",
    "plt.show()"
   ]
  },
  {
   "cell_type": "code",
   "execution_count": 10,
   "id": "7a523d6b",
   "metadata": {},
   "outputs": [
    {
     "name": "stdout",
     "output_type": "stream",
     "text": [
      "Precision: 0.5716\n"
     ]
    }
   ],
   "source": [
    "print(f\"Precision: {precision_score(y_test, y_pred_svc):.4f}\")\n"
   ]
  },
  {
   "cell_type": "code",
   "execution_count": 11,
   "id": "5c71c9a3",
   "metadata": {},
   "outputs": [
    {
     "name": "stdout",
     "output_type": "stream",
     "text": [
      "Fitting 3 folds for each of 14 candidates, totalling 42 fits\n",
      "[CV] END ..............C=1, class_weight=None, kernel=linear; total time= 1.0min\n",
      "[CV] END ............C=0.1, class_weight=None, kernel=linear; total time= 1.1min\n",
      "[CV] END ............C=0.1, class_weight=None, kernel=linear; total time= 1.1min\n",
      "[CV] END ............C=0.1, class_weight=None, kernel=linear; total time= 1.1min\n",
      "[CV] END ..........C=1, class_weight=balanced, kernel=linear; total time= 1.1min\n",
      "[CV] END ..........C=1, class_weight=balanced, kernel=linear; total time= 1.1min\n",
      "[CV] END ..........C=1, class_weight=balanced, kernel=linear; total time= 1.1min\n",
      "[CV] END ........C=0.1, class_weight=balanced, kernel=linear; total time= 1.2min\n",
      "[CV] END ........C=0.1, class_weight=balanced, kernel=linear; total time= 1.2min\n",
      "[CV] END ........C=0.1, class_weight=balanced, kernel=linear; total time= 1.2min\n",
      "[CV] END ..............C=1, class_weight=None, kernel=linear; total time= 1.2min\n",
      "[CV] END ..............C=1, class_weight=None, kernel=linear; total time= 1.2min\n",
      "[CV] END .........C=10, class_weight=balanced, kernel=linear; total time= 1.4min\n",
      "[CV] END .........C=10, class_weight=balanced, kernel=linear; total time= 1.4min\n",
      "[CV] END .............C=10, class_weight=None, kernel=linear; total time= 1.4min\n",
      "[CV] END .............C=10, class_weight=None, kernel=linear; total time= 1.4min\n",
      "[CV] END .........C=10, class_weight=balanced, kernel=linear; total time= 1.4min\n",
      "[CV] END .............C=10, class_weight=None, kernel=linear; total time= 1.4min\n",
      "[CV] END C=1, class_weight=balanced, gamma=scale, kernel=rbf; total time= 1.5min\n",
      "[CV] END C=1, class_weight=balanced, gamma=scale, kernel=rbf; total time= 1.5min\n",
      "[CV] END C=1, class_weight=balanced, gamma=scale, kernel=rbf; total time= 1.5min\n",
      "[CV] END ....C=1, class_weight=balanced, gamma=1, kernel=rbf; total time= 1.5min\n",
      "[CV] END ....C=1, class_weight=None, gamma=scale, kernel=rbf; total time= 1.2min\n",
      "[CV] END ....C=1, class_weight=None, gamma=scale, kernel=rbf; total time= 1.2min\n",
      "[CV] END ....C=1, class_weight=None, gamma=scale, kernel=rbf; total time= 1.2min\n",
      "[CV] END ........C=1, class_weight=None, gamma=1, kernel=rbf; total time= 1.2min\n",
      "[CV] END ........C=1, class_weight=None, gamma=1, kernel=rbf; total time= 1.2min\n",
      "[CV] END ........C=1, class_weight=None, gamma=1, kernel=rbf; total time= 1.2min\n",
      "[CV] END ....C=1, class_weight=balanced, gamma=1, kernel=rbf; total time= 1.5min\n",
      "[CV] END ....C=1, class_weight=balanced, gamma=1, kernel=rbf; total time= 1.5min\n",
      "[CV] END C=10, class_weight=balanced, gamma=scale, kernel=rbf; total time= 3.2min\n",
      "[CV] END C=10, class_weight=balanced, gamma=scale, kernel=rbf; total time= 3.2min\n",
      "[CV] END ...C=10, class_weight=balanced, gamma=1, kernel=rbf; total time= 3.2min\n",
      "[CV] END ...C=10, class_weight=balanced, gamma=1, kernel=rbf; total time= 3.2min\n",
      "[CV] END C=10, class_weight=balanced, gamma=scale, kernel=rbf; total time= 3.2min\n",
      "[CV] END ...C=10, class_weight=balanced, gamma=1, kernel=rbf; total time= 3.2min\n",
      "[CV] END ...C=10, class_weight=None, gamma=scale, kernel=rbf; total time= 3.1min\n",
      "[CV] END ...C=10, class_weight=None, gamma=scale, kernel=rbf; total time= 3.1min\n",
      "[CV] END .......C=10, class_weight=None, gamma=1, kernel=rbf; total time= 3.2min\n",
      "[CV] END ...C=10, class_weight=None, gamma=scale, kernel=rbf; total time= 3.2min\n",
      "[CV] END .......C=10, class_weight=None, gamma=1, kernel=rbf; total time= 1.9min\n",
      "[CV] END .......C=10, class_weight=None, gamma=1, kernel=rbf; total time= 1.9min\n",
      "\n",
      "--- Wyniki dla rozszerzonego strojenia SVC ---\n",
      "Najlepsze parametry: {'C': 1, 'class_weight': 'balanced', 'kernel': 'linear'}\n",
      "Najlepszy F1-score (walidacja krzyżowa): 0.5561\n",
      "Accuracy: 0.5680\n",
      "Precision: 0.5714\n",
      "\n",
      "Raport klasyfikacji na zbiorze testowym:\n",
      "              precision    recall  f1-score   support\n",
      "\n",
      "           0       0.57      0.60      0.58      1948\n",
      "           1       0.57      0.54      0.55      1941\n",
      "\n",
      "    accuracy                           0.57      3889\n",
      "   macro avg       0.57      0.57      0.57      3889\n",
      "weighted avg       0.57      0.57      0.57      3889\n",
      "\n"
     ]
    }
   ],
   "source": [
    "# wiecej paramsow\n",
    "svc = SVC(random_state=random_state)\n",
    "\n",
    "params_svc_advanced = [\n",
    "    {\n",
    "        'kernel': ['linear'],\n",
    "        'C': [0.1, 1, 10],\n",
    "        'class_weight': ['balanced', None]\n",
    "    },\n",
    "    {\n",
    "        'kernel': ['rbf'],\n",
    "        'C': [1, 10],\n",
    "        'gamma': ['scale', 1],\n",
    "        'class_weight': ['balanced', None]\n",
    "    }\n",
    "]\n",
    "\n",
    "grid_svc_adv = GridSearchCV(svc, params_svc_advanced, cv=3, scoring='f1', verbose=2, n_jobs=-1)\n",
    "grid_svc_adv.fit(X_train_vec, y_train)\n",
    "\n",
    "print(\"\\n--- Wyniki dla rozszerzonego strojenia SVC ---\")\n",
    "print(f\"Najlepsze parametry: {grid_svc_adv.best_params_}\")\n",
    "print(f\"Najlepszy F1-score (walidacja krzyżowa): {grid_svc_adv.best_score_:.4f}\")\n",
    "\n",
    "y_pred_svc_adv = grid_svc_adv.predict(X_test_vec)\n",
    "print(f\"Accuracy: {accuracy_score(y_test, y_pred_svc_adv):.4f}\")\n",
    "print(f\"Precision: {precision_score(y_test, y_pred_svc_adv):.4f}\")\n",
    "print(\"\\nRaport klasyfikacji na zbiorze testowym:\")\n",
    "print(classification_report(y_test, y_pred_svc_adv))"
   ]
  },
  {
   "cell_type": "code",
   "execution_count": 12,
   "id": "f2886ef1",
   "metadata": {},
   "outputs": [
    {
     "data": {
      "image/png": "[encoded data removed]",
      "text/plain": [
       "<Figure size 640x480 with 2 Axes>"
      ]
     },
     "metadata": {},
     "output_type": "display_data"
    }
   ],
   "source": [
    "sns.heatmap(confusion_matrix(y_test, y_pred_svc), annot=True, fmt='d', cmap='Blues')\n",
    "plt.xlabel('Predicted')\n",
    "plt.ylabel('Actual')\n",
    "plt.title('Confusion Matrix for SVC')\n",
    "plt.show()"
   ]
  },
  {
   "cell_type": "markdown",
   "id": "fb4d3cbf",
   "metadata": {},
   "source": [
    "### poly?"
   ]
  },
  {
   "cell_type": "code",
   "execution_count": 14,
   "id": "13f1226d",
   "metadata": {},
   "outputs": [
    {
     "name": "stdout",
     "output_type": "stream",
     "text": [
      "Fitting 3 folds for each of 8 candidates, totalling 24 fits\n",
      "[CV] END ...C=1, coef0=0, degree=2, gamma=scale, kernel=poly; total time= 1.2min\n",
      "[CV] END ...C=1, coef0=0, degree=2, gamma=scale, kernel=poly; total time= 1.3min\n",
      "[CV] END ...C=1, coef0=0, degree=2, gamma=scale, kernel=poly; total time= 1.3min\n",
      "[CV] END ...C=1, coef0=0, degree=3, gamma=scale, kernel=poly; total time= 1.7min\n",
      "[CV] END ...C=1, coef0=0, degree=3, gamma=scale, kernel=poly; total time= 1.8min\n",
      "[CV] END ...C=1, coef0=1, degree=2, gamma=scale, kernel=poly; total time= 1.9min\n",
      "[CV] END ...C=1, coef0=1, degree=2, gamma=scale, kernel=poly; total time= 1.9min\n",
      "[CV] END ...C=1, coef0=1, degree=2, gamma=scale, kernel=poly; total time= 1.9min\n",
      "[CV] END ...C=1, coef0=0, degree=3, gamma=scale, kernel=poly; total time= 1.9min\n",
      "[CV] END ...C=1, coef0=1, degree=3, gamma=scale, kernel=poly; total time= 3.0min\n",
      "[CV] END ..C=10, coef0=0, degree=2, gamma=scale, kernel=poly; total time= 2.6min\n",
      "[CV] END ..C=10, coef0=0, degree=2, gamma=scale, kernel=poly; total time= 2.6min\n",
      "[CV] END ..C=10, coef0=0, degree=3, gamma=scale, kernel=poly; total time= 2.4min\n",
      "[CV] END ..C=10, coef0=0, degree=3, gamma=scale, kernel=poly; total time= 2.5min\n",
      "[CV] END ..C=10, coef0=0, degree=3, gamma=scale, kernel=poly; total time= 2.5min\n",
      "[CV] END ..C=10, coef0=0, degree=2, gamma=scale, kernel=poly; total time= 2.7min\n",
      "[CV] END ...C=1, coef0=1, degree=3, gamma=scale, kernel=poly; total time= 3.2min\n",
      "[CV] END ...C=1, coef0=1, degree=3, gamma=scale, kernel=poly; total time= 3.2min\n",
      "[CV] END ..C=10, coef0=1, degree=2, gamma=scale, kernel=poly; total time= 3.6min\n",
      "[CV] END ..C=10, coef0=1, degree=2, gamma=scale, kernel=poly; total time= 3.4min\n",
      "[CV] END ..C=10, coef0=1, degree=3, gamma=scale, kernel=poly; total time= 2.7min\n",
      "[CV] END ..C=10, coef0=1, degree=3, gamma=scale, kernel=poly; total time= 2.8min\n",
      "[CV] END ..C=10, coef0=1, degree=3, gamma=scale, kernel=poly; total time= 2.8min\n",
      "[CV] END ..C=10, coef0=1, degree=2, gamma=scale, kernel=poly; total time= 3.2min\n",
      "\n",
      "--- Wyniki dla SVC poly ---\n",
      "Najlepsze parametry: {'C': 10, 'coef0': 0, 'degree': 2, 'gamma': 'scale', 'kernel': 'poly'}\n",
      "Najlepszy F1-score (walidacja krzyżowa): 0.5482\n",
      "Accuracy: 0.5492\n",
      "Precision: 0.5489\n",
      "\n",
      "Raport klasyfikacji na zbiorze testowym:\n",
      "              precision    recall  f1-score   support\n",
      "\n",
      "           0       0.55      0.55      0.55      1948\n",
      "           1       0.55      0.54      0.55      1941\n",
      "\n",
      "    accuracy                           0.55      3889\n",
      "   macro avg       0.55      0.55      0.55      3889\n",
      "weighted avg       0.55      0.55      0.55      3889\n",
      "\n"
     ]
    }
   ],
   "source": [
    "svc = SVC(random_state=random_state)\n",
    "\n",
    "params_poly = {\n",
    "    'kernel': ['poly'],\n",
    "    'C': [1, 10],\n",
    "    'degree': [2, 3],\n",
    "    'gamma': ['scale'],\n",
    "    'coef0': [0, 1]\n",
    "}\n",
    "\n",
    "grid_svc_poly = GridSearchCV(svc, params_poly, cv=3, scoring='f1', verbose=2, n_jobs=-1)\n",
    "grid_svc_poly.fit(X_train_vec, y_train)\n",
    "\n",
    "print(\"\\n--- Wyniki dla SVC poly ---\")\n",
    "print(f\"Najlepsze parametry: {grid_svc_poly.best_params_}\")\n",
    "print(f\"Najlepszy F1-score (walidacja krzyżowa): {grid_svc_poly.best_score_:.4f}\")\n",
    "\n",
    "y_pred_svc_poly = grid_svc_poly.predict(X_test_vec)\n",
    "print(f\"Accuracy: {accuracy_score(y_test, y_pred_svc_poly):.4f}\")\n",
    "print(f\"Precision: {precision_score(y_test, y_pred_svc_poly):.4f}\")\n",
    "print(\"\\nRaport klasyfikacji na zbiorze testowym:\")\n",
    "print(classification_report(y_test, y_pred_svc_poly))"
   ]
  },
  {
   "cell_type": "code",
   "execution_count": 15,
   "id": "46f4b465",
   "metadata": {},
   "outputs": [
    {
     "data": {
      "image/png": "[encoded data removed]",
      "text/plain": [
       "<Figure size 640x480 with 2 Axes>"
      ]
     },
     "metadata": {},
     "output_type": "display_data"
    }
   ],
   "source": [
    "sns.heatmap(confusion_matrix(y_test, y_pred_svc_poly), annot=True, fmt='d', cmap='Blues')\n",
    "plt.xlabel('Predicted')\n",
    "plt.ylabel('Actual')\n",
    "plt.title('Confusion Matrix for SVC Poly')\n",
    "plt.show()"
   ]
  },
  {
   "cell_type": "code",
   "execution_count": null,
   "id": "5ddfe71b",
   "metadata": {},
   "outputs": [],
   "source": []
  }
 ],
 "metadata": {
  "kernelspec": {
   "display_name": "base",
   "language": "python",
   "name": "python3"
  },
  "language_info": {
   "codemirror_mode": {
    "name": "ipython",
    "version": 3
   },
   "file_extension": ".py",
   "mimetype": "text/x-python",
   "name": "python",
   "nbconvert_exporter": "python",
   "pygments_lexer": "ipython3",
   "version": "3.12.7"
  }
 },
 "nbformat": 4,
 "nbformat_minor": 5
}
