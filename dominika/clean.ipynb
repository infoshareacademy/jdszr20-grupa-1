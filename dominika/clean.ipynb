{
 "cells": [
  {
   "cell_type": "code",
   "execution_count": 36,
   "id": "967b5abc",
   "metadata": {},
   "outputs": [],
   "source": [
    "from sklearn.preprocessing import LabelEncoder\n",
    "import nltk\n",
    "from nltk.corpus import stopwords\n",
    "import re"
   ]
  },
  {
   "cell_type": "code",
   "execution_count": 37,
   "id": "76caf312",
   "metadata": {},
   "outputs": [],
   "source": [
    "from nltk.stem import WordNetLemmatizer"
   ]
  },
  {
   "cell_type": "code",
   "execution_count": 38,
   "id": "35cfba48",
   "metadata": {},
   "outputs": [],
   "source": [
    "from sklearn.feature_extraction.text import TfidfVectorizer"
   ]
  },
  {
   "cell_type": "code",
   "execution_count": 39,
   "id": "264d8ad2",
   "metadata": {},
   "outputs": [],
   "source": [
    "from sklearn.model_selection import train_test_split\n",
    "from sklearn.linear_model import LogisticRegression\n",
    "from sklearn.metrics import classification_report"
   ]
  },
  {
   "cell_type": "code",
   "execution_count": 40,
   "id": "feff257e",
   "metadata": {},
   "outputs": [
    {
     "name": "stderr",
     "output_type": "stream",
     "text": [
      "[nltk_data] Downloading package stopwords to\n",
      "[nltk_data]     /Users/dominikakokoryk/nltk_data...\n",
      "[nltk_data]   Package stopwords is already up-to-date!\n"
     ]
    }
   ],
   "source": [
    "nltk.download('stopwords')\n",
    "stop_words = set(stopwords.words('english'))"
   ]
  },
  {
   "cell_type": "markdown",
   "id": "74a5ebe1",
   "metadata": {},
   "source": [
    "## Modelowanie (funkcje)"
   ]
  },
  {
   "cell_type": "code",
   "execution_count": 41,
   "id": "c0011103",
   "metadata": {},
   "outputs": [],
   "source": [
    "def preprocess_text(message):\n",
    "    message = str(message)\n",
    "    tokens = message.split()\n",
    "    processed_tokens = []\n",
    "    for word in tokens:\n",
    "        # zmiana na małe litery\n",
    "        word_lower = word.lower()\n",
    "        # pomijamy stopwords\n",
    "        if word_lower in stop_words:\n",
    "            continue\n",
    "        # usuwamy znaki interpunkcyjne i nawiasy\n",
    "        word_clean = re.sub(r'[^a-zA-Z0-9]', '', word_lower)\n",
    "        if word_clean:  # jeśli coś zostało po oczyszczeniu\n",
    "            processed_tokens.append(word_clean)\n",
    "    return ' '.join(processed_tokens)"
   ]
  },
  {
   "cell_type": "code",
   "execution_count": 42,
   "id": "8eebd471",
   "metadata": {},
   "outputs": [],
   "source": [
    "def stopwords_removal(tokens):\n",
    "    filtered_text = [word for word in tokens if word not in stop_words]\n",
    "    return filtered_text"
   ]
  },
  {
   "cell_type": "code",
   "execution_count": 43,
   "id": "9b231e82",
   "metadata": {},
   "outputs": [],
   "source": [
    "def lemmatizing(tokens, lemmatizer):\n",
    "    lemmas = [lemmatizer.lemmatize(token, pos='v') for token in tokens]\n",
    "    # tagged = pos_tag(tokens)\n",
    "    # lemmas = [lemmatizer.lemmatize(token, pos='v' if tag.startswith('V') else 'n') for token, tag in tagged]\n",
    "    return lemmas"
   ]
  },
  {
   "cell_type": "code",
   "execution_count": 44,
   "id": "e6e92ab7",
   "metadata": {},
   "outputs": [],
   "source": [
    "def process_logistic_regression(df):\n",
    "    # column text - origin text\n",
    "    # column fake - 0 for true, 1 for fake news\n",
    "    df['processed_text'] = df['text'].apply(preprocess_text)\n",
    "    df['tokenized_text'] = df['processed_text'].apply(lambda document: nltk.word_tokenize(document))\n",
    "    df['filtered_token'] = df['tokenized_text'].apply(stopwords_removal)\n",
    "    lemmatizer = WordNetLemmatizer()\n",
    "    df['lemmatized_tokens'] = df['filtered_token'].apply(lambda x: lemmatizing(x, lemmatizer))\n",
    "    corpus = []\n",
    "    for tokens in df['lemmatized_tokens']:\n",
    "        document = ' '.join([word for word in tokens])\n",
    "        corpus.append(document)\n",
    "    tfidf = TfidfVectorizer()\n",
    "    X = tfidf.fit_transform(corpus)\n",
    "\n",
    "    y = df['fake']\n",
    "    X_train, X_test, y_train, y_test = train_test_split(X, y, test_size=0.2, random_state=42, stratify=y)\n",
    "    model = LogisticRegression()\n",
    "    model.fit(X_train, y_train)\n",
    "    y_pred = model.predict(X_test)\n",
    "    print(classification_report(y_test, y_pred))\n",
    "    return (model, tfidf)"
   ]
  },
  {
   "cell_type": "code",
   "execution_count": 45,
   "id": "7def1ee0",
   "metadata": {},
   "outputs": [],
   "source": [
    "import pandas as pd"
   ]
  },
  {
   "cell_type": "markdown",
   "id": "374534b9",
   "metadata": {},
   "source": [
    "## Import data"
   ]
  },
  {
   "cell_type": "code",
   "execution_count": null,
   "id": "80ac8686",
   "metadata": {},
   "outputs": [
    {
     "name": "stdout",
     "output_type": "stream",
     "text": [
      "Path to dataset files: /Users/dominikakokoryk/.cache/kagglehub/datasets/saurabhshahane/fake-news-classification/versions/77\n"
     ]
    },
    {
     "data": {
      "text/plain": [
       "'data/'"
      ]
     },
     "execution_count": 5,
     "metadata": {},
     "output_type": "execute_result"
    }
   ],
   "source": [
    "# import kagglehub\n",
    "# import shutil\n",
    "\n",
    "# # Download latest version\n",
    "# path = kagglehub.dataset_download(\"saurabhshahane/fake-news-classification\")\n",
    "\n",
    "# print(\"Path to dataset files:\", path)\n",
    "# shutil.copytree(path, 'data/')"
   ]
  },
  {
   "cell_type": "markdown",
   "id": "b4c85e64",
   "metadata": {},
   "source": [
    "## Clean data"
   ]
  },
  {
   "cell_type": "code",
   "execution_count": 7,
   "id": "e698beb7",
   "metadata": {},
   "outputs": [
    {
     "data": {
      "text/html": [
       "<div>\n",
       "<style scoped>\n",
       "    .dataframe tbody tr th:only-of-type {\n",
       "        vertical-align: middle;\n",
       "    }\n",
       "\n",
       "    .dataframe tbody tr th {\n",
       "        vertical-align: top;\n",
       "    }\n",
       "\n",
       "    .dataframe thead th {\n",
       "        text-align: right;\n",
       "    }\n",
       "</style>\n",
       "<table border=\"1\" class=\"dataframe\">\n",
       "  <thead>\n",
       "    <tr style=\"text-align: right;\">\n",
       "      <th></th>\n",
       "      <th>Unnamed: 0</th>\n",
       "      <th>title</th>\n",
       "      <th>text</th>\n",
       "      <th>label</th>\n",
       "    </tr>\n",
       "  </thead>\n",
       "  <tbody>\n",
       "    <tr>\n",
       "      <th>0</th>\n",
       "      <td>0</td>\n",
       "      <td>LAW ENFORCEMENT ON HIGH ALERT Following Threat...</td>\n",
       "      <td>No comment is expected from Barack Obama Membe...</td>\n",
       "      <td>1</td>\n",
       "    </tr>\n",
       "    <tr>\n",
       "      <th>1</th>\n",
       "      <td>1</td>\n",
       "      <td>NaN</td>\n",
       "      <td>Did they post their votes for Hillary already?</td>\n",
       "      <td>1</td>\n",
       "    </tr>\n",
       "    <tr>\n",
       "      <th>2</th>\n",
       "      <td>2</td>\n",
       "      <td>UNBELIEVABLE! OBAMA’S ATTORNEY GENERAL SAYS MO...</td>\n",
       "      <td>Now, most of the demonstrators gathered last ...</td>\n",
       "      <td>1</td>\n",
       "    </tr>\n",
       "    <tr>\n",
       "      <th>3</th>\n",
       "      <td>3</td>\n",
       "      <td>Bobby Jindal, raised Hindu, uses story of Chri...</td>\n",
       "      <td>A dozen politically active pastors came here f...</td>\n",
       "      <td>0</td>\n",
       "    </tr>\n",
       "    <tr>\n",
       "      <th>4</th>\n",
       "      <td>4</td>\n",
       "      <td>SATAN 2: Russia unvelis an image of its terrif...</td>\n",
       "      <td>The RS-28 Sarmat missile, dubbed Satan 2, will...</td>\n",
       "      <td>1</td>\n",
       "    </tr>\n",
       "  </tbody>\n",
       "</table>\n",
       "</div>"
      ],
      "text/plain": [
       "   Unnamed: 0                                              title  \\\n",
       "0           0  LAW ENFORCEMENT ON HIGH ALERT Following Threat...   \n",
       "1           1                                                NaN   \n",
       "2           2  UNBELIEVABLE! OBAMA’S ATTORNEY GENERAL SAYS MO...   \n",
       "3           3  Bobby Jindal, raised Hindu, uses story of Chri...   \n",
       "4           4  SATAN 2: Russia unvelis an image of its terrif...   \n",
       "\n",
       "                                                text  label  \n",
       "0  No comment is expected from Barack Obama Membe...      1  \n",
       "1     Did they post their votes for Hillary already?      1  \n",
       "2   Now, most of the demonstrators gathered last ...      1  \n",
       "3  A dozen politically active pastors came here f...      0  \n",
       "4  The RS-28 Sarmat missile, dubbed Satan 2, will...      1  "
      ]
     },
     "execution_count": 7,
     "metadata": {},
     "output_type": "execute_result"
    }
   ],
   "source": [
    "df_welfake = pd.read_csv(\"data/WELFake_Dataset.csv\")\n",
    "df_welfake.head()"
   ]
  },
  {
   "cell_type": "code",
   "execution_count": null,
   "id": "963d0d47",
   "metadata": {},
   "outputs": [
    {
     "data": {
      "text/html": [
       "<div>\n",
       "<style scoped>\n",
       "    .dataframe tbody tr th:only-of-type {\n",
       "        vertical-align: middle;\n",
       "    }\n",
       "\n",
       "    .dataframe tbody tr th {\n",
       "        vertical-align: top;\n",
       "    }\n",
       "\n",
       "    .dataframe thead th {\n",
       "        text-align: right;\n",
       "    }\n",
       "</style>\n",
       "<table border=\"1\" class=\"dataframe\">\n",
       "  <thead>\n",
       "    <tr style=\"text-align: right;\">\n",
       "      <th></th>\n",
       "      <th>Unnamed: 0</th>\n",
       "      <th>title</th>\n",
       "      <th>text</th>\n",
       "      <th>fake</th>\n",
       "    </tr>\n",
       "  </thead>\n",
       "  <tbody>\n",
       "    <tr>\n",
       "      <th>0</th>\n",
       "      <td>0</td>\n",
       "      <td>LAW ENFORCEMENT ON HIGH ALERT Following Threat...</td>\n",
       "      <td>No comment is expected from Barack Obama Membe...</td>\n",
       "      <td>0</td>\n",
       "    </tr>\n",
       "    <tr>\n",
       "      <th>1</th>\n",
       "      <td>1</td>\n",
       "      <td>NaN</td>\n",
       "      <td>Did they post their votes for Hillary already?</td>\n",
       "      <td>0</td>\n",
       "    </tr>\n",
       "    <tr>\n",
       "      <th>2</th>\n",
       "      <td>2</td>\n",
       "      <td>UNBELIEVABLE! OBAMA’S ATTORNEY GENERAL SAYS MO...</td>\n",
       "      <td>Now, most of the demonstrators gathered last ...</td>\n",
       "      <td>0</td>\n",
       "    </tr>\n",
       "    <tr>\n",
       "      <th>3</th>\n",
       "      <td>3</td>\n",
       "      <td>Bobby Jindal, raised Hindu, uses story of Chri...</td>\n",
       "      <td>A dozen politically active pastors came here f...</td>\n",
       "      <td>1</td>\n",
       "    </tr>\n",
       "    <tr>\n",
       "      <th>4</th>\n",
       "      <td>4</td>\n",
       "      <td>SATAN 2: Russia unvelis an image of its terrif...</td>\n",
       "      <td>The RS-28 Sarmat missile, dubbed Satan 2, will...</td>\n",
       "      <td>0</td>\n",
       "    </tr>\n",
       "  </tbody>\n",
       "</table>\n",
       "</div>"
      ],
      "text/plain": [
       "   Unnamed: 0                                              title  \\\n",
       "0           0  LAW ENFORCEMENT ON HIGH ALERT Following Threat...   \n",
       "1           1                                                NaN   \n",
       "2           2  UNBELIEVABLE! OBAMA’S ATTORNEY GENERAL SAYS MO...   \n",
       "3           3  Bobby Jindal, raised Hindu, uses story of Chri...   \n",
       "4           4  SATAN 2: Russia unvelis an image of its terrif...   \n",
       "\n",
       "                                                text  fake  \n",
       "0  No comment is expected from Barack Obama Membe...     0  \n",
       "1     Did they post their votes for Hillary already?     0  \n",
       "2   Now, most of the demonstrators gathered last ...     0  \n",
       "3  A dozen politically active pastors came here f...     1  \n",
       "4  The RS-28 Sarmat missile, dubbed Satan 2, will...     0  "
      ]
     },
     "execution_count": 8,
     "metadata": {},
     "output_type": "execute_result"
    }
   ],
   "source": [
    "df_welfake.rename(columns={'label': 'fake'}, inplace=True)\n",
    "df_welfake['fake'] = (df_welfake['fake'] + 1) % 2\n",
    "df_welfake.head()"
   ]
  },
  {
   "cell_type": "code",
   "execution_count": 9,
   "id": "ddd69de5",
   "metadata": {},
   "outputs": [
    {
     "data": {
      "text/plain": [
       "Unnamed: 0     int64\n",
       "title         object\n",
       "text          object\n",
       "fake           int64\n",
       "dtype: object"
      ]
     },
     "execution_count": 9,
     "metadata": {},
     "output_type": "execute_result"
    }
   ],
   "source": [
    "df_welfake.dtypes"
   ]
  },
  {
   "cell_type": "code",
   "execution_count": 10,
   "id": "e1013dee",
   "metadata": {},
   "outputs": [
    {
     "data": {
      "text/plain": [
       "Unnamed: 0      0\n",
       "title         558\n",
       "text           39\n",
       "fake            0\n",
       "dtype: int64"
      ]
     },
     "execution_count": 10,
     "metadata": {},
     "output_type": "execute_result"
    }
   ],
   "source": [
    "df_welfake.isna().sum()"
   ]
  },
  {
   "cell_type": "code",
   "execution_count": 13,
   "id": "71128600",
   "metadata": {},
   "outputs": [],
   "source": [
    "df_welfake['combined_text'] = (\n",
    "    df_welfake['title'].fillna('').astype(str).str.strip()\n",
    "    + ' '\n",
    "    + df_welfake['text'].fillna('').astype(str).str.strip()\n",
    ").str.replace(r'\\s+', ' ', regex=True).str.strip()\n",
    "\n",
    "# usuń wiersze, gdzie po sklejeniu nadal jest pusto\n",
    "df_welfake = df_welfake[df_welfake['combined_text'] != \"\"]\n"
   ]
  },
  {
   "cell_type": "code",
   "execution_count": 14,
   "id": "07311baf",
   "metadata": {},
   "outputs": [
    {
     "data": {
      "text/plain": [
       "Unnamed: 0         0\n",
       "title            558\n",
       "text              39\n",
       "fake               0\n",
       "combined_text      0\n",
       "dtype: int64"
      ]
     },
     "execution_count": 14,
     "metadata": {},
     "output_type": "execute_result"
    }
   ],
   "source": [
    "df_welfake.isna().sum()"
   ]
  },
  {
   "cell_type": "code",
   "execution_count": 26,
   "id": "28ac7e93",
   "metadata": {},
   "outputs": [
    {
     "data": {
      "text/html": [
       "<div>\n",
       "<style scoped>\n",
       "    .dataframe tbody tr th:only-of-type {\n",
       "        vertical-align: middle;\n",
       "    }\n",
       "\n",
       "    .dataframe tbody tr th {\n",
       "        vertical-align: top;\n",
       "    }\n",
       "\n",
       "    .dataframe thead th {\n",
       "        text-align: right;\n",
       "    }\n",
       "</style>\n",
       "<table border=\"1\" class=\"dataframe\">\n",
       "  <thead>\n",
       "    <tr style=\"text-align: right;\">\n",
       "      <th></th>\n",
       "      <th>Unnamed: 0</th>\n",
       "      <th>title</th>\n",
       "      <th>text</th>\n",
       "      <th>fake</th>\n",
       "      <th>combined_text</th>\n",
       "    </tr>\n",
       "  </thead>\n",
       "  <tbody>\n",
       "    <tr>\n",
       "      <th>50</th>\n",
       "      <td>50</td>\n",
       "      <td>American dream, revisited</td>\n",
       "      <td>by Pepe Escobar for the Strategic Culture Foun...</td>\n",
       "      <td>0</td>\n",
       "      <td>American dream, revisited by Pepe Escobar for ...</td>\n",
       "    </tr>\n",
       "    <tr>\n",
       "      <th>68</th>\n",
       "      <td>68</td>\n",
       "      <td>Michael Moore Owes Me $4.99</td>\n",
       "      <td>28, 2016 | Reviews   Michael Moore in New Yo...</td>\n",
       "      <td>0</td>\n",
       "      <td>Michael Moore Owes Me $4.99 28, 2016 | Reviews...</td>\n",
       "    </tr>\n",
       "    <tr>\n",
       "      <th>244</th>\n",
       "      <td>244</td>\n",
       "      <td>WORLD WAR 3 IS COMING</td>\n",
       "      <td>source Add To The Conversation Using Facebook ...</td>\n",
       "      <td>0</td>\n",
       "      <td>WORLD WAR 3 IS COMING source Add To The Conver...</td>\n",
       "    </tr>\n",
       "    <tr>\n",
       "      <th>266</th>\n",
       "      <td>266</td>\n",
       "      <td>Mrs. Weiner</td>\n",
       "      <td>Feds get a warrant to start search for classif...</td>\n",
       "      <td>0</td>\n",
       "      <td>Mrs. Weiner Feds get a warrant to start search...</td>\n",
       "    </tr>\n",
       "    <tr>\n",
       "      <th>505</th>\n",
       "      <td>505</td>\n",
       "      <td>Our Landfill Economy</td>\n",
       "      <td>Leave a reply Charles Hugh Smith – Corresponde...</td>\n",
       "      <td>0</td>\n",
       "      <td>Our Landfill Economy Leave a reply Charles Hug...</td>\n",
       "    </tr>\n",
       "    <tr>\n",
       "      <th>...</th>\n",
       "      <td>...</td>\n",
       "      <td>...</td>\n",
       "      <td>...</td>\n",
       "      <td>...</td>\n",
       "      <td>...</td>\n",
       "    </tr>\n",
       "    <tr>\n",
       "      <th>71530</th>\n",
       "      <td>71530</td>\n",
       "      <td>Voters Repudiate Clinton</td>\n",
       "      <td>Scott \\nIt’s really amazing to see how little ...</td>\n",
       "      <td>0</td>\n",
       "      <td>Voters Repudiate Clinton Scott It’s really ama...</td>\n",
       "    </tr>\n",
       "    <tr>\n",
       "      <th>71587</th>\n",
       "      <td>71587</td>\n",
       "      <td>OnPolitics | 's politics blog</td>\n",
       "      <td>Who has Trump appointed to his cabinet so far?...</td>\n",
       "      <td>1</td>\n",
       "      <td>OnPolitics | 's politics blog Who has Trump ap...</td>\n",
       "    </tr>\n",
       "    <tr>\n",
       "      <th>71763</th>\n",
       "      <td>71763</td>\n",
       "      <td>Televisión: lo más visto ayer</td>\n",
       "      <td>TVE \\nLa 1 de Televisión Española redondeó aye...</td>\n",
       "      <td>0</td>\n",
       "      <td>Televisión: lo más visto ayer TVE La 1 de Tele...</td>\n",
       "    </tr>\n",
       "    <tr>\n",
       "      <th>71853</th>\n",
       "      <td>71853</td>\n",
       "      <td>Кто любит Стивена Сигала?</td>\n",
       "      <td>Политика \\nПомните первые видеосалоны 1990-х, ...</td>\n",
       "      <td>0</td>\n",
       "      <td>Кто любит Стивена Сигала? Политика Помните пер...</td>\n",
       "    </tr>\n",
       "    <tr>\n",
       "      <th>72111</th>\n",
       "      <td>72111</td>\n",
       "      <td>Boiler Room EP #118</td>\n",
       "      <td>Tune in to the Alternate Current Radio Network...</td>\n",
       "      <td>0</td>\n",
       "      <td>Boiler Room EP #118 Tune in to the Alternate C...</td>\n",
       "    </tr>\n",
       "  </tbody>\n",
       "</table>\n",
       "<p>811 rows × 5 columns</p>\n",
       "</div>"
      ],
      "text/plain": [
       "       Unnamed: 0                          title  \\\n",
       "50             50      American dream, revisited   \n",
       "68             68    Michael Moore Owes Me $4.99   \n",
       "244           244          WORLD WAR 3 IS COMING   \n",
       "266           266                    Mrs. Weiner   \n",
       "505           505           Our Landfill Economy   \n",
       "...           ...                            ...   \n",
       "71530       71530       Voters Repudiate Clinton   \n",
       "71587       71587  OnPolitics | 's politics blog   \n",
       "71763       71763  Televisión: lo más visto ayer   \n",
       "71853       71853      Кто любит Стивена Сигала?   \n",
       "72111       72111            Boiler Room EP #118   \n",
       "\n",
       "                                                    text  fake  \\\n",
       "50     by Pepe Escobar for the Strategic Culture Foun...     0   \n",
       "68       28, 2016 | Reviews   Michael Moore in New Yo...     0   \n",
       "244    source Add To The Conversation Using Facebook ...     0   \n",
       "266    Feds get a warrant to start search for classif...     0   \n",
       "505    Leave a reply Charles Hugh Smith – Corresponde...     0   \n",
       "...                                                  ...   ...   \n",
       "71530  Scott \\nIt’s really amazing to see how little ...     0   \n",
       "71587  Who has Trump appointed to his cabinet so far?...     1   \n",
       "71763  TVE \\nLa 1 de Televisión Española redondeó aye...     0   \n",
       "71853  Политика \\nПомните первые видеосалоны 1990-х, ...     0   \n",
       "72111  Tune in to the Alternate Current Radio Network...     0   \n",
       "\n",
       "                                           combined_text  \n",
       "50     American dream, revisited by Pepe Escobar for ...  \n",
       "68     Michael Moore Owes Me $4.99 28, 2016 | Reviews...  \n",
       "244    WORLD WAR 3 IS COMING source Add To The Conver...  \n",
       "266    Mrs. Weiner Feds get a warrant to start search...  \n",
       "505    Our Landfill Economy Leave a reply Charles Hug...  \n",
       "...                                                  ...  \n",
       "71530  Voters Repudiate Clinton Scott It’s really ama...  \n",
       "71587  OnPolitics | 's politics blog Who has Trump ap...  \n",
       "71763  Televisión: lo más visto ayer TVE La 1 de Tele...  \n",
       "71853  Кто любит Стивена Сигала? Политика Помните пер...  \n",
       "72111  Boiler Room EP #118 Tune in to the Alternate C...  \n",
       "\n",
       "[811 rows x 5 columns]"
      ]
     },
     "execution_count": 26,
     "metadata": {},
     "output_type": "execute_result"
    }
   ],
   "source": [
    "mask = df_welfake['title'].str.len() < 30\n",
    "df_welfake[mask]"
   ]
  },
  {
   "cell_type": "code",
   "execution_count": 27,
   "id": "b8d8003c",
   "metadata": {},
   "outputs": [],
   "source": [
    "df_welfake['text'] = df_welfake['combined_text']"
   ]
  },
  {
   "cell_type": "code",
   "execution_count": 29,
   "id": "ea84529d",
   "metadata": {},
   "outputs": [
    {
     "data": {
      "text/plain": [
       "Unnamed: 0         0\n",
       "title            558\n",
       "text               0\n",
       "fake               0\n",
       "combined_text      0\n",
       "dtype: int64"
      ]
     },
     "execution_count": 29,
     "metadata": {},
     "output_type": "execute_result"
    }
   ],
   "source": [
    "df_welfake.isna().sum()"
   ]
  },
  {
   "cell_type": "code",
   "execution_count": 32,
   "id": "944b7419",
   "metadata": {},
   "outputs": [],
   "source": [
    "df_welfake[['text', 'fake']].to_csv('../data_for_modeling/WELFake_clean.csv', index=False)"
   ]
  },
  {
   "cell_type": "code",
   "execution_count": null,
   "id": "54e0674f",
   "metadata": {},
   "outputs": [],
   "source": [
    "mask = (df_welfake['text'].str.strip() == \"\")\n",
    "df_welfake[mask]"
   ]
  },
  {
   "cell_type": "code",
   "execution_count": 46,
   "id": "f7613a39",
   "metadata": {},
   "outputs": [
    {
     "name": "stdout",
     "output_type": "stream",
     "text": [
      "              precision    recall  f1-score   support\n",
      "\n",
      "           0       0.95      0.96      0.96      7421\n",
      "           1       0.96      0.95      0.95      7006\n",
      "\n",
      "    accuracy                           0.95     14427\n",
      "   macro avg       0.95      0.95      0.95     14427\n",
      "weighted avg       0.95      0.95      0.95     14427\n",
      "\n"
     ]
    }
   ],
   "source": [
    "(model, tfidf) = process_logistic_regression(df_welfake)"
   ]
  },
  {
   "cell_type": "code",
   "execution_count": 56,
   "id": "570133ab",
   "metadata": {},
   "outputs": [],
   "source": [
    "# lokalnie mam czyste dane z eda dla isot, bez tego nie pojdzie\n",
    "df_isot = pd.read_csv('clean_isot.csv')"
   ]
  },
  {
   "cell_type": "code",
   "execution_count": 49,
   "id": "2a393498",
   "metadata": {},
   "outputs": [
    {
     "data": {
      "text/html": [
       "<div>\n",
       "<style scoped>\n",
       "    .dataframe tbody tr th:only-of-type {\n",
       "        vertical-align: middle;\n",
       "    }\n",
       "\n",
       "    .dataframe tbody tr th {\n",
       "        vertical-align: top;\n",
       "    }\n",
       "\n",
       "    .dataframe thead th {\n",
       "        text-align: right;\n",
       "    }\n",
       "</style>\n",
       "<table border=\"1\" class=\"dataframe\">\n",
       "  <thead>\n",
       "    <tr style=\"text-align: right;\">\n",
       "      <th></th>\n",
       "      <th>title</th>\n",
       "      <th>text</th>\n",
       "      <th>fake</th>\n",
       "    </tr>\n",
       "  </thead>\n",
       "  <tbody>\n",
       "    <tr>\n",
       "      <th>12615</th>\n",
       "      <td>Scotland's Sturgeon says staying in EU customs...</td>\n",
       "      <td>EDINBURGH (Reuters) - Scotland s First Ministe...</td>\n",
       "      <td>0</td>\n",
       "    </tr>\n",
       "    <tr>\n",
       "      <th>33504</th>\n",
       "      <td>HILLARY BREAKS OUT Into Bizarre Fake Laughter ...</td>\n",
       "      <td>Remember when Hillary read the word  sigh  ins...</td>\n",
       "      <td>1</td>\n",
       "    </tr>\n",
       "    <tr>\n",
       "      <th>43368</th>\n",
       "      <td>PHILIPPINES: 2016 Washington’s Fury as Philipp...</td>\n",
       "      <td>Duterte takes clear lead in Philippine electi...</td>\n",
       "      <td>1</td>\n",
       "    </tr>\n",
       "    <tr>\n",
       "      <th>216</th>\n",
       "      <td>U.S. Treasury tax study slammed as 'fake math'...</td>\n",
       "      <td>WASHINGTON (Reuters) - The U.S. Treasury Depar...</td>\n",
       "      <td>0</td>\n",
       "    </tr>\n",
       "    <tr>\n",
       "      <th>15877</th>\n",
       "      <td>Serbia's president eyes early parliamentary vote</td>\n",
       "      <td>BELGRADE (Reuters) - Serbian President Aleksan...</td>\n",
       "      <td>0</td>\n",
       "    </tr>\n",
       "    <tr>\n",
       "      <th>38872</th>\n",
       "      <td>WATCH: West Virginia Governor Announces He’s L...</td>\n",
       "      <td>West Virginia Governor Jim Justice gave Trump ...</td>\n",
       "      <td>1</td>\n",
       "    </tr>\n",
       "    <tr>\n",
       "      <th>30909</th>\n",
       "      <td>THE CHIEF IS HERE! JOHN KELLY Surprises White ...</td>\n",
       "      <td>This is great! Gen. John Kelly surprised the W...</td>\n",
       "      <td>1</td>\n",
       "    </tr>\n",
       "    <tr>\n",
       "      <th>14205</th>\n",
       "      <td>Cambodia's opposition gives up posts after ban</td>\n",
       "      <td>PHNOM PENH (Reuters) - Elected officials of Ca...</td>\n",
       "      <td>0</td>\n",
       "    </tr>\n",
       "    <tr>\n",
       "      <th>19776</th>\n",
       "      <td>Lack of clear UK stance making Brexit talks to...</td>\n",
       "      <td>BERLIN (Reuters) - French Prime Minister Edoua...</td>\n",
       "      <td>0</td>\n",
       "    </tr>\n",
       "    <tr>\n",
       "      <th>30202</th>\n",
       "      <td>Oregon Right-Wing Terrorist Makes CHILLING Co...</td>\n",
       "      <td>If anyone questions whether or not the Bundy-l...</td>\n",
       "      <td>1</td>\n",
       "    </tr>\n",
       "  </tbody>\n",
       "</table>\n",
       "</div>"
      ],
      "text/plain": [
       "                                                   title  \\\n",
       "12615  Scotland's Sturgeon says staying in EU customs...   \n",
       "33504  HILLARY BREAKS OUT Into Bizarre Fake Laughter ...   \n",
       "43368  PHILIPPINES: 2016 Washington’s Fury as Philipp...   \n",
       "216    U.S. Treasury tax study slammed as 'fake math'...   \n",
       "15877   Serbia's president eyes early parliamentary vote   \n",
       "38872  WATCH: West Virginia Governor Announces He’s L...   \n",
       "30909  THE CHIEF IS HERE! JOHN KELLY Surprises White ...   \n",
       "14205     Cambodia's opposition gives up posts after ban   \n",
       "19776  Lack of clear UK stance making Brexit talks to...   \n",
       "30202   Oregon Right-Wing Terrorist Makes CHILLING Co...   \n",
       "\n",
       "                                                    text  fake  \n",
       "12615  EDINBURGH (Reuters) - Scotland s First Ministe...     0  \n",
       "33504  Remember when Hillary read the word  sigh  ins...     1  \n",
       "43368   Duterte takes clear lead in Philippine electi...     1  \n",
       "216    WASHINGTON (Reuters) - The U.S. Treasury Depar...     0  \n",
       "15877  BELGRADE (Reuters) - Serbian President Aleksan...     0  \n",
       "38872  West Virginia Governor Jim Justice gave Trump ...     1  \n",
       "30909  This is great! Gen. John Kelly surprised the W...     1  \n",
       "14205  PHNOM PENH (Reuters) - Elected officials of Ca...     0  \n",
       "19776  BERLIN (Reuters) - French Prime Minister Edoua...     0  \n",
       "30202  If anyone questions whether or not the Bundy-l...     1  "
      ]
     },
     "execution_count": 49,
     "metadata": {},
     "output_type": "execute_result"
    }
   ],
   "source": [
    "df_isot.sample(10)"
   ]
  },
  {
   "cell_type": "markdown",
   "id": "aa2433b8",
   "metadata": {},
   "source": [
    "## Predict"
   ]
  },
  {
   "cell_type": "code",
   "execution_count": 50,
   "id": "18cc9d08",
   "metadata": {},
   "outputs": [],
   "source": [
    "def predict_dataset(df, model, tfidf):\n",
    "    df['processed_text'] = df['text'].apply(preprocess_text)\n",
    "    df['tokenized_text'] = df['processed_text'].apply(lambda document: nltk.word_tokenize(document))\n",
    "    df['filtered_token'] = df['tokenized_text'].apply(stopwords_removal)\n",
    "    lemmatizer = WordNetLemmatizer()\n",
    "    df['lemmatized_tokens'] = df['filtered_token'].apply(lambda x: lemmatizing(x, lemmatizer))\n",
    "    corpus = []\n",
    "    for tokens in df['lemmatized_tokens']:\n",
    "        document = ' '.join([word for word in tokens])\n",
    "        corpus.append(document)\n",
    "    # tfidf = TfidfVectorizer()\n",
    "    X = tfidf.transform(corpus)\n",
    "\n",
    "    y = df['fake']\n",
    "    # X_train, X_test, y_train, y_test = train_test_split(X, y, test_size=0.2, random_state=42, stratify=y)\n",
    "    # model = LogisticRegression()\n",
    "    # model.fit(X_train, y_train)\n",
    "    y_pred = model.predict(X)\n",
    "    print(classification_report(y, y_pred))"
   ]
  },
  {
   "cell_type": "code",
   "execution_count": 51,
   "id": "4adeecda",
   "metadata": {},
   "outputs": [
    {
     "name": "stdout",
     "output_type": "stream",
     "text": [
      "              precision    recall  f1-score   support\n",
      "\n",
      "           0       0.00      0.00      0.00     21210\n",
      "           1       0.03      0.03      0.03     22753\n",
      "\n",
      "    accuracy                           0.02     43963\n",
      "   macro avg       0.02      0.02      0.02     43963\n",
      "weighted avg       0.02      0.02      0.02     43963\n",
      "\n"
     ]
    }
   ],
   "source": [
    "predict_dataset(df_isot, model, tfidf)"
   ]
  },
  {
   "cell_type": "code",
   "execution_count": 54,
   "id": "1dad8fea",
   "metadata": {},
   "outputs": [
    {
     "data": {
      "text/html": [
       "<div>\n",
       "<style scoped>\n",
       "    .dataframe tbody tr th:only-of-type {\n",
       "        vertical-align: middle;\n",
       "    }\n",
       "\n",
       "    .dataframe tbody tr th {\n",
       "        vertical-align: top;\n",
       "    }\n",
       "\n",
       "    .dataframe thead th {\n",
       "        text-align: right;\n",
       "    }\n",
       "</style>\n",
       "<table border=\"1\" class=\"dataframe\">\n",
       "  <thead>\n",
       "    <tr style=\"text-align: right;\">\n",
       "      <th></th>\n",
       "      <th>text</th>\n",
       "      <th>fake</th>\n",
       "    </tr>\n",
       "  </thead>\n",
       "  <tbody>\n",
       "    <tr>\n",
       "      <th>0</th>\n",
       "      <td>Says the Annies List political group supports ...</td>\n",
       "      <td>1</td>\n",
       "    </tr>\n",
       "    <tr>\n",
       "      <th>1</th>\n",
       "      <td>Hillary Clinton agrees with John McCain \"by vo...</td>\n",
       "      <td>0</td>\n",
       "    </tr>\n",
       "    <tr>\n",
       "      <th>2</th>\n",
       "      <td>Health care reform legislation is likely to ma...</td>\n",
       "      <td>1</td>\n",
       "    </tr>\n",
       "    <tr>\n",
       "      <th>3</th>\n",
       "      <td>The Chicago Bears have had more starting quart...</td>\n",
       "      <td>0</td>\n",
       "    </tr>\n",
       "    <tr>\n",
       "      <th>4</th>\n",
       "      <td>Jim Dunnam has not lived in the district he re...</td>\n",
       "      <td>1</td>\n",
       "    </tr>\n",
       "  </tbody>\n",
       "</table>\n",
       "</div>"
      ],
      "text/plain": [
       "                                                text  fake\n",
       "0  Says the Annies List political group supports ...     1\n",
       "1  Hillary Clinton agrees with John McCain \"by vo...     0\n",
       "2  Health care reform legislation is likely to ma...     1\n",
       "3  The Chicago Bears have had more starting quart...     0\n",
       "4  Jim Dunnam has not lived in the district he re...     1"
      ]
     },
     "execution_count": 54,
     "metadata": {},
     "output_type": "execute_result"
    }
   ],
   "source": [
    "df_liar = pd.read_csv('../data_for_modeling/LIAR_for_modeling.csv')\n",
    "df_liar.head()"
   ]
  },
  {
   "cell_type": "code",
   "execution_count": 55,
   "id": "0eccd825",
   "metadata": {},
   "outputs": [
    {
     "name": "stdout",
     "output_type": "stream",
     "text": [
      "              precision    recall  f1-score   support\n",
      "\n",
      "           0       0.44      0.84      0.58      4507\n",
      "           1       0.56      0.16      0.25      5657\n",
      "\n",
      "    accuracy                           0.46     10164\n",
      "   macro avg       0.50      0.50      0.42     10164\n",
      "weighted avg       0.51      0.46      0.40     10164\n",
      "\n"
     ]
    }
   ],
   "source": [
    "predict_dataset(df_liar, model, tfidf)"
   ]
  },
  {
   "cell_type": "code",
   "execution_count": null,
   "id": "b6263a20",
   "metadata": {},
   "outputs": [],
   "source": []
  }
 ],
 "metadata": {
  "kernelspec": {
   "display_name": "base",
   "language": "python",
   "name": "python3"
  },
  "language_info": {
   "codemirror_mode": {
    "name": "ipython",
    "version": 3
   },
   "file_extension": ".py",
   "mimetype": "text/x-python",
   "name": "python",
   "nbconvert_exporter": "python",
   "pygments_lexer": "ipython3",
   "version": "3.12.7"
  }
 },
 "nbformat": 4,
 "nbformat_minor": 5
}
