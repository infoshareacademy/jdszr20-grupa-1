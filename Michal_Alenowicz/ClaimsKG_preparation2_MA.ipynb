{
 "cells": [
  {
   "cell_type": "markdown",
   "id": "065dd258",
   "metadata": {},
   "source": [
    "#### Zbiór bardzo ciekawy, ale udostępniony w dziwnej formie (ogromny graf .ttl albo kulawy 'explorer' online z ograniczonym exportem) i mający dużo duplikatów. \n",
    "- usunąłem duplikaty\n",
    "- usunąłem teksty w językach innych niż EN (automatyczna detekcja 'langdetect', mam nadzieję, że zadziałała do końca)\n",
    "- usunąłem niewłaściwie sformułowane teksty z kategorii 'fake' (interpretacja zamiast rozpatrywanego twierdzenia)\n",
    "- Ostatecznie udało się wyciągnąć około 20K unikalnych wpisów, w miarę zbalansowane i wg mnie ciekawe\n",
    "- Teksty są przeważnie KRÓTKIE, ale to nie są nagłówki - raczej treściwe \"newsy\" w paru słowach\n",
    "- Z kolei kolumna \"headlines\" z tego zbioru była bezużyteczna, ponieważ są to tytuły \"recenzji\" z fact-checkerów - zupełnie co innego i często zdradzające werdykt"
   ]
  },
  {
   "cell_type": "code",
   "execution_count": 2,
   "id": "e546088c",
   "metadata": {},
   "outputs": [],
   "source": [
    "import pandas as pd\n",
    "import re\n",
    "import nltk\n",
    "import warnings\n",
    "import numpy as np \n",
    "import seaborn as sns\n",
    "import matplotlib.pyplot as plt\n",
    "from nltk.corpus import stopwords\n",
    "from sklearn.pipeline import Pipeline    \n",
    "from nltk.stem import WordNetLemmatizer\n",
    "from nltk.stem.porter import PorterStemmer\n",
    "from sklearn.naive_bayes import MultinomialNB\n",
    "from sklearn.linear_model import LogisticRegression\n",
    "from sklearn.ensemble import RandomForestClassifier\n",
    "from sklearn.neighbors import KNeighborsClassifier\n",
    "from sklearn.model_selection import cross_val_score\n",
    "from sklearn.model_selection import train_test_split\n",
    "from sklearn.feature_extraction.text import TfidfVectorizer\n",
    "from sklearn.metrics import precision_score, recall_score, classification_report, accuracy_score, f1_score"
   ]
  },
  {
   "cell_type": "code",
   "execution_count": 3,
   "id": "38b70f46",
   "metadata": {},
   "outputs": [
    {
     "name": "stderr",
     "output_type": "stream",
     "text": [
      "<>:1: SyntaxWarning: invalid escape sequence '\\C'\n",
      "<>:1: SyntaxWarning: invalid escape sequence '\\C'\n",
      "C:\\Users\\local\\AppData\\Local\\Temp\\ipykernel_8692\\1510327636.py:1: SyntaxWarning: invalid escape sequence '\\C'\n",
      "  df = pd.read_csv(\"ClaimsKG dataset\\ClaimsKG_SPARQL_query_results_ALL.csv\", on_bad_lines=\"warn\")\n"
     ]
    },
    {
     "data": {
      "text/html": [
       "<div>\n",
       "<style scoped>\n",
       "    .dataframe tbody tr th:only-of-type {\n",
       "        vertical-align: middle;\n",
       "    }\n",
       "\n",
       "    .dataframe tbody tr th {\n",
       "        vertical-align: top;\n",
       "    }\n",
       "\n",
       "    .dataframe thead th {\n",
       "        text-align: right;\n",
       "    }\n",
       "</style>\n",
       "<table border=\"1\" class=\"dataframe\">\n",
       "  <thead>\n",
       "    <tr style=\"text-align: right;\">\n",
       "      <th></th>\n",
       "      <th>text</th>\n",
       "      <th>label</th>\n",
       "      <th>source</th>\n",
       "    </tr>\n",
       "  </thead>\n",
       "  <tbody>\n",
       "    <tr>\n",
       "      <th>0</th>\n",
       "      <td>While serving as U.S. Vice President, Henry A....</td>\n",
       "      <td>True</td>\n",
       "      <td>snopes</td>\n",
       "    </tr>\n",
       "    <tr>\n",
       "      <th>1</th>\n",
       "      <td>A 1964 campaign ad for President Lyndon B. Joh...</td>\n",
       "      <td>True</td>\n",
       "      <td>snopes</td>\n",
       "    </tr>\n",
       "    <tr>\n",
       "      <th>2</th>\n",
       "      <td>Fifty Republican former national security offi...</td>\n",
       "      <td>True</td>\n",
       "      <td>snopes</td>\n",
       "    </tr>\n",
       "    <tr>\n",
       "      <th>3</th>\n",
       "      <td>Elon Musk deleted a tweet where he called the ...</td>\n",
       "      <td>True</td>\n",
       "      <td>snopes</td>\n",
       "    </tr>\n",
       "    <tr>\n",
       "      <th>4</th>\n",
       "      <td>Texas Lt. Gov. Dan Patrick said COVID-19 socia...</td>\n",
       "      <td>True</td>\n",
       "      <td>snopes</td>\n",
       "    </tr>\n",
       "  </tbody>\n",
       "</table>\n",
       "</div>"
      ],
      "text/plain": [
       "                                                text  label  source\n",
       "0  While serving as U.S. Vice President, Henry A....   True  snopes\n",
       "1  A 1964 campaign ad for President Lyndon B. Joh...   True  snopes\n",
       "2  Fifty Republican former national security offi...   True  snopes\n",
       "3  Elon Musk deleted a tweet where he called the ...   True  snopes\n",
       "4  Texas Lt. Gov. Dan Patrick said COVID-19 socia...   True  snopes"
      ]
     },
     "execution_count": 3,
     "metadata": {},
     "output_type": "execute_result"
    }
   ],
   "source": [
    "df = pd.read_csv(\"ClaimsKG dataset\\ClaimsKG_SPARQL_query_results_ALL.csv\", on_bad_lines=\"warn\")\n",
    "df.head()"
   ]
  },
  {
   "cell_type": "code",
   "execution_count": 4,
   "id": "61b29617",
   "metadata": {},
   "outputs": [
    {
     "name": "stdout",
     "output_type": "stream",
     "text": [
      "<class 'pandas.core.frame.DataFrame'>\n",
      "RangeIndex: 82654 entries, 0 to 82653\n",
      "Data columns (total 3 columns):\n",
      " #   Column  Non-Null Count  Dtype \n",
      "---  ------  --------------  ----- \n",
      " 0   text    82654 non-null  object\n",
      " 1   label   82654 non-null  bool  \n",
      " 2   source  82654 non-null  object\n",
      "dtypes: bool(1), object(2)\n",
      "memory usage: 1.3+ MB\n"
     ]
    }
   ],
   "source": [
    "df.info()"
   ]
  },
  {
   "cell_type": "code",
   "execution_count": 5,
   "id": "7edd36c7",
   "metadata": {},
   "outputs": [],
   "source": [
    "df = df.drop_duplicates(keep='first', ignore_index=True)"
   ]
  },
  {
   "cell_type": "code",
   "execution_count": 6,
   "id": "49f4db8a",
   "metadata": {},
   "outputs": [
    {
     "name": "stdout",
     "output_type": "stream",
     "text": [
      "<class 'pandas.core.frame.DataFrame'>\n",
      "RangeIndex: 23083 entries, 0 to 23082\n",
      "Data columns (total 3 columns):\n",
      " #   Column  Non-Null Count  Dtype \n",
      "---  ------  --------------  ----- \n",
      " 0   text    23083 non-null  object\n",
      " 1   label   23083 non-null  bool  \n",
      " 2   source  23083 non-null  object\n",
      "dtypes: bool(1), object(2)\n",
      "memory usage: 383.3+ KB\n"
     ]
    }
   ],
   "source": [
    "df.info()"
   ]
  },
  {
   "cell_type": "code",
   "execution_count": 26,
   "id": "fc287ec9",
   "metadata": {},
   "outputs": [
    {
     "data": {
      "text/plain": [
       "text      0\n",
       "label     0\n",
       "source    0\n",
       "dtype: int64"
      ]
     },
     "execution_count": 26,
     "metadata": {},
     "output_type": "execute_result"
    }
   ],
   "source": [
    "df.isnull().sum()"
   ]
  },
  {
   "cell_type": "code",
   "execution_count": 28,
   "id": "faf3b605",
   "metadata": {},
   "outputs": [
    {
     "data": {
      "text/html": [
       "<div>\n",
       "<style scoped>\n",
       "    .dataframe tbody tr th:only-of-type {\n",
       "        vertical-align: middle;\n",
       "    }\n",
       "\n",
       "    .dataframe tbody tr th {\n",
       "        vertical-align: top;\n",
       "    }\n",
       "\n",
       "    .dataframe thead th {\n",
       "        text-align: right;\n",
       "    }\n",
       "</style>\n",
       "<table border=\"1\" class=\"dataframe\">\n",
       "  <thead>\n",
       "    <tr style=\"text-align: right;\">\n",
       "      <th></th>\n",
       "      <th>text</th>\n",
       "      <th>label</th>\n",
       "      <th>source</th>\n",
       "    </tr>\n",
       "  </thead>\n",
       "  <tbody>\n",
       "  </tbody>\n",
       "</table>\n",
       "</div>"
      ],
      "text/plain": [
       "Empty DataFrame\n",
       "Columns: [text, label, source]\n",
       "Index: []"
      ]
     },
     "execution_count": 28,
     "metadata": {},
     "output_type": "execute_result"
    }
   ],
   "source": [
    "df[df['text'] == ' ']"
   ]
  },
  {
   "cell_type": "code",
   "execution_count": 16,
   "id": "6f293bb1",
   "metadata": {},
   "outputs": [
    {
     "data": {
      "text/plain": [
       "label\n",
       "False    13181\n",
       "True      9902\n",
       "Name: count, dtype: int64"
      ]
     },
     "execution_count": 16,
     "metadata": {},
     "output_type": "execute_result"
    }
   ],
   "source": [
    "df['label'].value_counts()"
   ]
  },
  {
   "cell_type": "code",
   "execution_count": 15,
   "id": "1ab83dca",
   "metadata": {},
   "outputs": [
    {
     "data": {
      "text/plain": [
       "source          label\n",
       "Vishvanews      False     909\n",
       "africacheck     True     1046\n",
       "                False     941\n",
       "checkyourfact   False    1134\n",
       "                True      234\n",
       "eufactcheck     True       35\n",
       "factcheck_afp   False    2942\n",
       "                True        2\n",
       "factograph      True       19\n",
       "                False      12\n",
       "factual_afp     False     449\n",
       "                True        4\n",
       "fatabyyano      False     290\n",
       "                True       39\n",
       "fullfact        True     1160\n",
       "                False     422\n",
       "politifact      False    3334\n",
       "                True     2513\n",
       "polygraph       False     174\n",
       "                True       18\n",
       "snopes          True     3874\n",
       "                False    2295\n",
       "truthorfiction  True      958\n",
       "                False     279\n",
       "Name: count, dtype: int64"
      ]
     },
     "execution_count": 15,
     "metadata": {},
     "output_type": "execute_result"
    }
   ],
   "source": [
    "df['label'].groupby(df['source']).value_counts()"
   ]
  },
  {
   "cell_type": "code",
   "execution_count": 19,
   "id": "bc61a49b",
   "metadata": {},
   "outputs": [],
   "source": [
    "mask = (df['source'] == 'Vishvanews')"
   ]
  },
  {
   "cell_type": "code",
   "execution_count": 32,
   "id": "69effc28",
   "metadata": {},
   "outputs": [],
   "source": [
    "pd.set_option('display.max_colwidth', None)\n",
    "pd.set_option('display.max_rows', 20)"
   ]
  },
  {
   "cell_type": "code",
   "execution_count": 23,
   "id": "6293d466",
   "metadata": {},
   "outputs": [
    {
     "name": "stdout",
     "output_type": "stream",
     "text": [
      "Defaulting to user installation because normal site-packages is not writeable\n",
      "Collecting langdetect\n",
      "  Downloading langdetect-1.0.9.tar.gz (981 kB)\n",
      "     ---------------------------------------- 0.0/981.5 kB ? eta -:--:--\n",
      "     ---------------------------------------- 0.0/981.5 kB ? eta -:--:--\n",
      "     ---------- ----------------------------- 262.1/981.5 kB ? eta -:--:--\n",
      "     -------------------- ----------------- 524.3/981.5 kB 1.1 MB/s eta 0:00:01\n",
      "     ------------------------------ ------- 786.4/981.5 kB 1.2 MB/s eta 0:00:01\n",
      "     -------------------------------------- 981.5/981.5 kB 1.1 MB/s eta 0:00:00\n",
      "  Preparing metadata (setup.py): started\n",
      "  Preparing metadata (setup.py): finished with status 'done'\n",
      "Requirement already satisfied: six in c:\\programdata\\anaconda3\\lib\\site-packages (from langdetect) (1.16.0)\n",
      "Building wheels for collected packages: langdetect\n",
      "  Building wheel for langdetect (setup.py): started\n",
      "  Building wheel for langdetect (setup.py): finished with status 'done'\n",
      "  Created wheel for langdetect: filename=langdetect-1.0.9-py3-none-any.whl size=993251 sha256=52f2281df9d41736639eaeadb73b2a0f5f0dcacbffcda5bbcae087ced6f9346b\n",
      "  Stored in directory: c:\\users\\local\\appdata\\local\\pip\\cache\\wheels\\c1\\67\\88\\e844b5b022812e15a52e4eaa38a1e709e99f06f6639d7e3ba7\n",
      "Successfully built langdetect\n",
      "Installing collected packages: langdetect\n",
      "Successfully installed langdetect-1.0.9\n"
     ]
    }
   ],
   "source": [
    "!pip install langdetect"
   ]
  },
  {
   "cell_type": "markdown",
   "id": "79fa4b95",
   "metadata": {},
   "source": [
    "### potrzebne narzędzie do detekcji języków"
   ]
  },
  {
   "cell_type": "code",
   "execution_count": 30,
   "id": "447d3657",
   "metadata": {},
   "outputs": [],
   "source": [
    "from langdetect import detect\n",
    "\n",
    "df['lang'] = df['text'].apply(detect)"
   ]
  },
  {
   "cell_type": "code",
   "execution_count": 34,
   "id": "b1b2ead4",
   "metadata": {},
   "outputs": [
    {
     "data": {
      "text/html": [
       "<div>\n",
       "<style scoped>\n",
       "    .dataframe tbody tr th:only-of-type {\n",
       "        vertical-align: middle;\n",
       "    }\n",
       "\n",
       "    .dataframe tbody tr th {\n",
       "        vertical-align: top;\n",
       "    }\n",
       "\n",
       "    .dataframe thead th {\n",
       "        text-align: right;\n",
       "    }\n",
       "</style>\n",
       "<table border=\"1\" class=\"dataframe\">\n",
       "  <thead>\n",
       "    <tr style=\"text-align: right;\">\n",
       "      <th></th>\n",
       "      <th>text</th>\n",
       "      <th>label</th>\n",
       "      <th>source</th>\n",
       "      <th>lang</th>\n",
       "    </tr>\n",
       "  </thead>\n",
       "  <tbody>\n",
       "    <tr>\n",
       "      <th>9902</th>\n",
       "      <td>राजस्थान में एक शांतिदूत महात्मा गांधी की प्रतिमा को कुर्सी बनाकर बैठा है</td>\n",
       "      <td>False</td>\n",
       "      <td>Vishvanews</td>\n",
       "      <td>hi</td>\n",
       "    </tr>\n",
       "    <tr>\n",
       "      <th>9911</th>\n",
       "      <td>Amazon has begun presale of its own tokens</td>\n",
       "      <td>False</td>\n",
       "      <td>Vishvanews</td>\n",
       "      <td>en</td>\n",
       "    </tr>\n",
       "    <tr>\n",
       "      <th>9925</th>\n",
       "      <td>Government has issued any order against sharing political posts online</td>\n",
       "      <td>False</td>\n",
       "      <td>Vishvanews</td>\n",
       "      <td>en</td>\n",
       "    </tr>\n",
       "    <tr>\n",
       "      <th>9930</th>\n",
       "      <td>এই মানুহ জন এক জটিল ৰোগত আক্ৰান্ত, এটা যন্ত্ৰৰ সহায় লৈ তেওঁ জীয়াই আছে । ডাক্তৰৰ মতে তেওঁৰ HEART TRANSPLANT'ৰ বাবে ৫০০০০০০০ টকাৰ প্ৰয়োজন</td>\n",
       "      <td>False</td>\n",
       "      <td>Vishvanews</td>\n",
       "      <td>bn</td>\n",
       "    </tr>\n",
       "    <tr>\n",
       "      <th>9931</th>\n",
       "      <td>لندن میں بھی رکشہ</td>\n",
       "      <td>False</td>\n",
       "      <td>Vishvanews</td>\n",
       "      <td>ur</td>\n",
       "    </tr>\n",
       "    <tr>\n",
       "      <th>...</th>\n",
       "      <td>...</td>\n",
       "      <td>...</td>\n",
       "      <td>...</td>\n",
       "      <td>...</td>\n",
       "    </tr>\n",
       "    <tr>\n",
       "      <th>22565</th>\n",
       "      <td>பாகிஸ்தான் ஜிந்தாபாத்’ கோஷம்; அமுல்யா இவரும் விவசாயிதான் சொன்னா நம்புங்கப்பா</td>\n",
       "      <td>False</td>\n",
       "      <td>Vishvanews</td>\n",
       "      <td>ta</td>\n",
       "    </tr>\n",
       "    <tr>\n",
       "      <th>22776</th>\n",
       "      <td>Drinking cold water after meals can cause cancer</td>\n",
       "      <td>False</td>\n",
       "      <td>Vishvanews</td>\n",
       "      <td>en</td>\n",
       "    </tr>\n",
       "    <tr>\n",
       "      <th>22914</th>\n",
       "      <td>Full rainbow seen in Gujarat</td>\n",
       "      <td>False</td>\n",
       "      <td>Vishvanews</td>\n",
       "      <td>en</td>\n",
       "    </tr>\n",
       "    <tr>\n",
       "      <th>22919</th>\n",
       "      <td>हमारे राष्ट्रपति! महामहिम!</td>\n",
       "      <td>False</td>\n",
       "      <td>Vishvanews</td>\n",
       "      <td>mr</td>\n",
       "    </tr>\n",
       "    <tr>\n",
       "      <th>22945</th>\n",
       "      <td>काश किसानों की तरह पढ़े लिखे लोग भी सड़को पर आ जाते, न एयरपोर्ट बिकता, न रेलवे स्टेशन, न LIC, BPCL बिकती, न नौकरी जाती, न बेरोजगारी बढ़ती, न जीडीपी गिरती!</td>\n",
       "      <td>False</td>\n",
       "      <td>Vishvanews</td>\n",
       "      <td>hi</td>\n",
       "    </tr>\n",
       "  </tbody>\n",
       "</table>\n",
       "<p>909 rows × 4 columns</p>\n",
       "</div>"
      ],
      "text/plain": [
       "                                                                                                                                                             text  \\\n",
       "9902                                                                                    राजस्थान में एक शांतिदूत महात्मा गांधी की प्रतिमा को कुर्सी बनाकर बैठा है   \n",
       "9911                                                                                                                   Amazon has begun presale of its own tokens   \n",
       "9925                                                                                       Government has issued any order against sharing political posts online   \n",
       "9930                   এই মানুহ জন এক জটিল ৰোগত আক্ৰান্ত, এটা যন্ত্ৰৰ সহায় লৈ তেওঁ জীয়াই আছে । ডাক্তৰৰ মতে তেওঁৰ HEART TRANSPLANT'ৰ বাবে ৫০০০০০০০ টকাৰ প্ৰয়োজন   \n",
       "9931                                                                                                                                            لندن میں بھی رکشہ   \n",
       "...                                                                                                                                                           ...   \n",
       "22565                                                                                பாகிஸ்தான் ஜிந்தாபாத்’ கோஷம்; அமுல்யா இவரும் விவசாயிதான் சொன்னா நம்புங்கப்பா   \n",
       "22776                                                                                                            Drinking cold water after meals can cause cancer   \n",
       "22914                                                                                                                                Full rainbow seen in Gujarat   \n",
       "22919                                                                                                                                  हमारे राष्ट्रपति! महामहिम!   \n",
       "22945  काश किसानों की तरह पढ़े लिखे लोग भी सड़को पर आ जाते, न एयरपोर्ट बिकता, न रेलवे स्टेशन, न LIC, BPCL बिकती, न नौकरी जाती, न बेरोजगारी बढ़ती, न जीडीपी गिरती!   \n",
       "\n",
       "       label      source lang  \n",
       "9902   False  Vishvanews   hi  \n",
       "9911   False  Vishvanews   en  \n",
       "9925   False  Vishvanews   en  \n",
       "9930   False  Vishvanews   bn  \n",
       "9931   False  Vishvanews   ur  \n",
       "...      ...         ...  ...  \n",
       "22565  False  Vishvanews   ta  \n",
       "22776  False  Vishvanews   en  \n",
       "22914  False  Vishvanews   en  \n",
       "22919  False  Vishvanews   mr  \n",
       "22945  False  Vishvanews   hi  \n",
       "\n",
       "[909 rows x 4 columns]"
      ]
     },
     "execution_count": 34,
     "metadata": {},
     "output_type": "execute_result"
    }
   ],
   "source": [
    "df[mask]"
   ]
  },
  {
   "cell_type": "markdown",
   "id": "b6981773",
   "metadata": {},
   "source": [
    "### Bardzo tu jest bogato, zostawimy tylko 'en'"
   ]
  },
  {
   "cell_type": "code",
   "execution_count": 36,
   "id": "7d558dc4",
   "metadata": {},
   "outputs": [
    {
     "data": {
      "text/plain": [
       "lang\n",
       "en    21391\n",
       "fr      478\n",
       "ar      330\n",
       "ur      209\n",
       "mr       94\n",
       "      ...  \n",
       "fi        1\n",
       "sl        1\n",
       "lv        1\n",
       "kn        1\n",
       "ne        1\n",
       "Name: count, Length: 35, dtype: int64"
      ]
     },
     "execution_count": 36,
     "metadata": {},
     "output_type": "execute_result"
    }
   ],
   "source": [
    "df['lang'].value_counts()"
   ]
  },
  {
   "cell_type": "code",
   "execution_count": 37,
   "id": "34c01944",
   "metadata": {},
   "outputs": [],
   "source": [
    "df = df[df['lang'] == 'en']"
   ]
  },
  {
   "cell_type": "code",
   "execution_count": 38,
   "id": "d32b2418",
   "metadata": {},
   "outputs": [
    {
     "name": "stdout",
     "output_type": "stream",
     "text": [
      "<class 'pandas.core.frame.DataFrame'>\n",
      "Index: 21391 entries, 0 to 23081\n",
      "Data columns (total 4 columns):\n",
      " #   Column  Non-Null Count  Dtype \n",
      "---  ------  --------------  ----- \n",
      " 0   text    21391 non-null  object\n",
      " 1   label   21391 non-null  bool  \n",
      " 2   source  21391 non-null  object\n",
      " 3   lang    21391 non-null  object\n",
      "dtypes: bool(1), object(3)\n",
      "memory usage: 689.4+ KB\n"
     ]
    }
   ],
   "source": [
    "df.info()"
   ]
  },
  {
   "cell_type": "code",
   "execution_count": 39,
   "id": "31efc6c4",
   "metadata": {},
   "outputs": [
    {
     "data": {
      "text/plain": [
       "source          label\n",
       "Vishvanews      False     312\n",
       "africacheck     True     1036\n",
       "                False     894\n",
       "checkyourfact   False    1133\n",
       "                True      234\n",
       "eufactcheck     True       35\n",
       "factcheck_afp   False    2845\n",
       "                True        2\n",
       "factual_afp     False       1\n",
       "fullfact        True     1144\n",
       "                False     417\n",
       "politifact      False    3288\n",
       "                True     2501\n",
       "polygraph       False     171\n",
       "                True       17\n",
       "snopes          True     3858\n",
       "                False    2286\n",
       "truthorfiction  True      943\n",
       "                False     274\n",
       "Name: count, dtype: int64"
      ]
     },
     "execution_count": 39,
     "metadata": {},
     "output_type": "execute_result"
    }
   ],
   "source": [
    "df['label'].groupby(df['source']).value_counts()"
   ]
  },
  {
   "cell_type": "markdown",
   "id": "f7be83a3",
   "metadata": {},
   "source": [
    "##### niestety, po dokładnym ręcznym przeglądzie, trzeba usunąć sporo 'false' z 'africacheck',  bo zaczynają się od 'No, ' i są całe sformułowane jako ZAPRZECZENIE kwestionowanej wiadomości"
   ]
  },
  {
   "cell_type": "code",
   "execution_count": null,
   "id": "8a6a1429",
   "metadata": {},
   "outputs": [
    {
     "data": {
      "text/html": [
       "<div>\n",
       "<style scoped>\n",
       "    .dataframe tbody tr th:only-of-type {\n",
       "        vertical-align: middle;\n",
       "    }\n",
       "\n",
       "    .dataframe tbody tr th {\n",
       "        vertical-align: top;\n",
       "    }\n",
       "\n",
       "    .dataframe thead th {\n",
       "        text-align: right;\n",
       "    }\n",
       "</style>\n",
       "<table border=\"1\" class=\"dataframe\">\n",
       "  <thead>\n",
       "    <tr style=\"text-align: right;\">\n",
       "      <th></th>\n",
       "      <th>text</th>\n",
       "      <th>label</th>\n",
       "      <th>source</th>\n",
       "      <th>lang</th>\n",
       "    </tr>\n",
       "  </thead>\n",
       "  <tbody>\n",
       "    <tr>\n",
       "      <th>10131</th>\n",
       "      <td>No, Bola Ahmed Tinubu, former governor of Nigeria’s Lagos state, is not dead</td>\n",
       "      <td>False</td>\n",
       "      <td>africacheck</td>\n",
       "      <td>en</td>\n",
       "    </tr>\n",
       "    <tr>\n",
       "      <th>10235</th>\n",
       "      <td>Kenyan deputy presidential candidate Gachagua said ‘medicine men’ to be used in areas without clinics? No, quote made up</td>\n",
       "      <td>False</td>\n",
       "      <td>africacheck</td>\n",
       "      <td>en</td>\n",
       "    </tr>\n",
       "    <tr>\n",
       "      <th>10255</th>\n",
       "      <td>No, Robert F Kennedy didn’t say mRNA Covid vaccines damage our genetic material – and they can’t</td>\n",
       "      <td>False</td>\n",
       "      <td>africacheck</td>\n",
       "      <td>en</td>\n",
       "    </tr>\n",
       "    <tr>\n",
       "      <th>10457</th>\n",
       "      <td>No, Switzerland hasn’t banned AstraZeneca vaccine, but requested more data for approval</td>\n",
       "      <td>False</td>\n",
       "      <td>africacheck</td>\n",
       "      <td>en</td>\n",
       "    </tr>\n",
       "    <tr>\n",
       "      <th>10500</th>\n",
       "      <td>No, Kenya’s deputy president has not been arrested, photo is from 2010</td>\n",
       "      <td>False</td>\n",
       "      <td>africacheck</td>\n",
       "      <td>en</td>\n",
       "    </tr>\n",
       "    <tr>\n",
       "      <th>...</th>\n",
       "      <td>...</td>\n",
       "      <td>...</td>\n",
       "      <td>...</td>\n",
       "      <td>...</td>\n",
       "    </tr>\n",
       "    <tr>\n",
       "      <th>22941</th>\n",
       "      <td>No, photo shows corporal in Cuban dictator Fulgencio Batista’s army receiving last rites, not farmer</td>\n",
       "      <td>False</td>\n",
       "      <td>africacheck</td>\n",
       "      <td>en</td>\n",
       "    </tr>\n",
       "    <tr>\n",
       "      <th>22958</th>\n",
       "      <td>No, guava leaf drink won’t cure infertility</td>\n",
       "      <td>False</td>\n",
       "      <td>africacheck</td>\n",
       "      <td>en</td>\n",
       "    </tr>\n",
       "    <tr>\n",
       "      <th>22966</th>\n",
       "      <td>No, ‘after’ photo not of Zambian woman recovered from lung cancer</td>\n",
       "      <td>False</td>\n",
       "      <td>africacheck</td>\n",
       "      <td>en</td>\n",
       "    </tr>\n",
       "    <tr>\n",
       "      <th>23014</th>\n",
       "      <td>No, former US president Obama didn’t warn Africans against coronavirus vaccines</td>\n",
       "      <td>False</td>\n",
       "      <td>africacheck</td>\n",
       "      <td>en</td>\n",
       "    </tr>\n",
       "    <tr>\n",
       "      <th>23035</th>\n",
       "      <td>No, photos show women in South Africa and Kenya protesting sexual assault, not ‘lack of men to get them pregnant’</td>\n",
       "      <td>False</td>\n",
       "      <td>africacheck</td>\n",
       "      <td>en</td>\n",
       "    </tr>\n",
       "  </tbody>\n",
       "</table>\n",
       "<p>337 rows × 4 columns</p>\n",
       "</div>"
      ],
      "text/plain": [
       "                                                                                                                           text  \\\n",
       "10131                                              No, Bola Ahmed Tinubu, former governor of Nigeria’s Lagos state, is not dead   \n",
       "10235  Kenyan deputy presidential candidate Gachagua said ‘medicine men’ to be used in areas without clinics? No, quote made up   \n",
       "10255                          No, Robert F Kennedy didn’t say mRNA Covid vaccines damage our genetic material – and they can’t   \n",
       "10457                                   No, Switzerland hasn’t banned AstraZeneca vaccine, but requested more data for approval   \n",
       "10500                                                    No, Kenya’s deputy president has not been arrested, photo is from 2010   \n",
       "...                                                                                                                         ...   \n",
       "22941                      No, photo shows corporal in Cuban dictator Fulgencio Batista’s army receiving last rites, not farmer   \n",
       "22958                                                                               No, guava leaf drink won’t cure infertility   \n",
       "22966                                                         No, ‘after’ photo not of Zambian woman recovered from lung cancer   \n",
       "23014                                           No, former US president Obama didn’t warn Africans against coronavirus vaccines   \n",
       "23035         No, photos show women in South Africa and Kenya protesting sexual assault, not ‘lack of men to get them pregnant’   \n",
       "\n",
       "       label       source lang  \n",
       "10131  False  africacheck   en  \n",
       "10235  False  africacheck   en  \n",
       "10255  False  africacheck   en  \n",
       "10457  False  africacheck   en  \n",
       "10500  False  africacheck   en  \n",
       "...      ...          ...  ...  \n",
       "22941  False  africacheck   en  \n",
       "22958  False  africacheck   en  \n",
       "22966  False  africacheck   en  \n",
       "23014  False  africacheck   en  \n",
       "23035  False  africacheck   en  \n",
       "\n",
       "[337 rows x 4 columns]"
      ]
     },
     "execution_count": 40,
     "metadata": {},
     "output_type": "execute_result"
    }
   ],
   "source": [
    "mask = (df['source'] == 'africacheck') & (df['text'].str.contains('No, '))\n",
    "df[mask]"
   ]
  },
  {
   "cell_type": "code",
   "execution_count": null,
   "id": "76f53c39",
   "metadata": {},
   "outputs": [
    {
     "name": "stdout",
     "output_type": "stream",
     "text": [
      "<class 'pandas.core.frame.DataFrame'>\n",
      "Index: 21054 entries, 0 to 23081\n",
      "Data columns (total 4 columns):\n",
      " #   Column  Non-Null Count  Dtype \n",
      "---  ------  --------------  ----- \n",
      " 0   text    21054 non-null  object\n",
      " 1   label   21054 non-null  bool  \n",
      " 2   source  21054 non-null  object\n",
      " 3   lang    21054 non-null  object\n",
      "dtypes: bool(1), object(3)\n",
      "memory usage: 678.5+ KB\n"
     ]
    }
   ],
   "source": [
    "df = df[~mask]\n",
    "\n",
    "df.info()"
   ]
  },
  {
   "cell_type": "code",
   "execution_count": 42,
   "id": "06a1dcfc",
   "metadata": {},
   "outputs": [
    {
     "data": {
      "text/html": [
       "<div>\n",
       "<style scoped>\n",
       "    .dataframe tbody tr th:only-of-type {\n",
       "        vertical-align: middle;\n",
       "    }\n",
       "\n",
       "    .dataframe tbody tr th {\n",
       "        vertical-align: top;\n",
       "    }\n",
       "\n",
       "    .dataframe thead th {\n",
       "        text-align: right;\n",
       "    }\n",
       "</style>\n",
       "<table border=\"1\" class=\"dataframe\">\n",
       "  <thead>\n",
       "    <tr style=\"text-align: right;\">\n",
       "      <th></th>\n",
       "      <th>text</th>\n",
       "      <th>label</th>\n",
       "      <th>source</th>\n",
       "      <th>lang</th>\n",
       "    </tr>\n",
       "  </thead>\n",
       "  <tbody>\n",
       "    <tr>\n",
       "      <th>17116</th>\n",
       "      <td>Cristiano Ronaldo a inscrit son premier but avec Al-Nassr</td>\n",
       "      <td>False</td>\n",
       "      <td>factual_afp</td>\n",
       "      <td>en</td>\n",
       "    </tr>\n",
       "  </tbody>\n",
       "</table>\n",
       "</div>"
      ],
      "text/plain": [
       "                                                            text  label  \\\n",
       "17116  Cristiano Ronaldo a inscrit son premier but avec Al-Nassr  False   \n",
       "\n",
       "            source lang  \n",
       "17116  factual_afp   en  "
      ]
     },
     "execution_count": 42,
     "metadata": {},
     "output_type": "execute_result"
    }
   ],
   "source": [
    "df[df['source'] == 'factual_afp']"
   ]
  },
  {
   "cell_type": "code",
   "execution_count": 43,
   "id": "c3704d45",
   "metadata": {},
   "outputs": [],
   "source": [
    "df.drop([17116], axis=0, inplace=True)"
   ]
  },
  {
   "cell_type": "code",
   "execution_count": 44,
   "id": "d7882957",
   "metadata": {},
   "outputs": [
    {
     "data": {
      "text/html": [
       "<div>\n",
       "<style scoped>\n",
       "    .dataframe tbody tr th:only-of-type {\n",
       "        vertical-align: middle;\n",
       "    }\n",
       "\n",
       "    .dataframe tbody tr th {\n",
       "        vertical-align: top;\n",
       "    }\n",
       "\n",
       "    .dataframe thead th {\n",
       "        text-align: right;\n",
       "    }\n",
       "</style>\n",
       "<table border=\"1\" class=\"dataframe\">\n",
       "  <thead>\n",
       "    <tr style=\"text-align: right;\">\n",
       "      <th></th>\n",
       "      <th>text</th>\n",
       "      <th>label</th>\n",
       "      <th>source</th>\n",
       "      <th>lang</th>\n",
       "    </tr>\n",
       "  </thead>\n",
       "  <tbody>\n",
       "  </tbody>\n",
       "</table>\n",
       "</div>"
      ],
      "text/plain": [
       "Empty DataFrame\n",
       "Columns: [text, label, source, lang]\n",
       "Index: []"
      ]
     },
     "execution_count": 44,
     "metadata": {},
     "output_type": "execute_result"
    }
   ],
   "source": [
    "df[df['source'] == 'factual_afp']"
   ]
  },
  {
   "cell_type": "markdown",
   "id": "b35f2721",
   "metadata": {},
   "source": [
    "##### teksty z 'polygraph' również nie są wiadomościami, ale podsumowaniami, które od razu ZAPRZECZAJĄ lub WARTOŚCIUJĄ wiadomości"
   ]
  },
  {
   "cell_type": "code",
   "execution_count": 46,
   "id": "296028e1",
   "metadata": {},
   "outputs": [],
   "source": [
    "mask = (df['source'] == 'polygraph')\n",
    "df = df[~mask]"
   ]
  },
  {
   "cell_type": "code",
   "execution_count": 47,
   "id": "1dbfeee7",
   "metadata": {},
   "outputs": [
    {
     "name": "stdout",
     "output_type": "stream",
     "text": [
      "<class 'pandas.core.frame.DataFrame'>\n",
      "Index: 20865 entries, 0 to 23081\n",
      "Data columns (total 4 columns):\n",
      " #   Column  Non-Null Count  Dtype \n",
      "---  ------  --------------  ----- \n",
      " 0   text    20865 non-null  object\n",
      " 1   label   20865 non-null  bool  \n",
      " 2   source  20865 non-null  object\n",
      " 3   lang    20865 non-null  object\n",
      "dtypes: bool(1), object(3)\n",
      "memory usage: 672.4+ KB\n"
     ]
    }
   ],
   "source": [
    "df.info()"
   ]
  },
  {
   "cell_type": "code",
   "execution_count": 49,
   "id": "e975addc",
   "metadata": {},
   "outputs": [
    {
     "data": {
      "text/html": [
       "<div>\n",
       "<style scoped>\n",
       "    .dataframe tbody tr th:only-of-type {\n",
       "        vertical-align: middle;\n",
       "    }\n",
       "\n",
       "    .dataframe tbody tr th {\n",
       "        vertical-align: top;\n",
       "    }\n",
       "\n",
       "    .dataframe thead th {\n",
       "        text-align: right;\n",
       "    }\n",
       "</style>\n",
       "<table border=\"1\" class=\"dataframe\">\n",
       "  <thead>\n",
       "    <tr style=\"text-align: right;\">\n",
       "      <th></th>\n",
       "      <th>text</th>\n",
       "      <th>label</th>\n",
       "      <th>source</th>\n",
       "      <th>lang</th>\n",
       "    </tr>\n",
       "  </thead>\n",
       "  <tbody>\n",
       "    <tr>\n",
       "      <th>0</th>\n",
       "      <td>While serving as U.S. Vice President, Henry A. Wallace wrote a piece warning Americans about the dangers of fascism.</td>\n",
       "      <td>True</td>\n",
       "      <td>snopes</td>\n",
       "      <td>en</td>\n",
       "    </tr>\n",
       "    <tr>\n",
       "      <th>1</th>\n",
       "      <td>A 1964 campaign ad for President Lyndon B. Johnson featured a purported Republican voter expressing concerns which eerily echoed threads of debate in the GOP in 2016.</td>\n",
       "      <td>True</td>\n",
       "      <td>snopes</td>\n",
       "      <td>en</td>\n",
       "    </tr>\n",
       "    <tr>\n",
       "      <th>2</th>\n",
       "      <td>Fifty Republican former national security officials issued an open letter affirming they would not vote for Donald Trump and deeming him dangerously unqualified.</td>\n",
       "      <td>True</td>\n",
       "      <td>snopes</td>\n",
       "      <td>en</td>\n",
       "    </tr>\n",
       "    <tr>\n",
       "      <th>3</th>\n",
       "      <td>Elon Musk deleted a tweet where he called the Mastodon social media platform Masterbatedone.</td>\n",
       "      <td>True</td>\n",
       "      <td>snopes</td>\n",
       "      <td>en</td>\n",
       "    </tr>\n",
       "    <tr>\n",
       "      <th>4</th>\n",
       "      <td>Texas Lt. Gov. Dan Patrick said COVID-19 social-distancing restrictions should be eased because there are more important things than living.</td>\n",
       "      <td>True</td>\n",
       "      <td>snopes</td>\n",
       "      <td>en</td>\n",
       "    </tr>\n",
       "    <tr>\n",
       "      <th>...</th>\n",
       "      <td>...</td>\n",
       "      <td>...</td>\n",
       "      <td>...</td>\n",
       "      <td>...</td>\n",
       "    </tr>\n",
       "    <tr>\n",
       "      <th>20860</th>\n",
       "      <td>A photograph shows Lev Parnas at a family birthday party with Donald Trump in 1990.</td>\n",
       "      <td>False</td>\n",
       "      <td>snopes</td>\n",
       "      <td>en</td>\n",
       "    </tr>\n",
       "    <tr>\n",
       "      <th>20861</th>\n",
       "      <td>BJP spokesperson Sambit Patra will anchor shows on NDTV</td>\n",
       "      <td>False</td>\n",
       "      <td>factcheck_afp</td>\n",
       "      <td>en</td>\n",
       "    </tr>\n",
       "    <tr>\n",
       "      <th>20862</th>\n",
       "      <td>Photo shows Queen Elizabeth II's corgis being brought back from Balmoral after her death</td>\n",
       "      <td>False</td>\n",
       "      <td>factcheck_afp</td>\n",
       "      <td>en</td>\n",
       "    </tr>\n",
       "    <tr>\n",
       "      <th>20863</th>\n",
       "      <td>Myanmar military owned TV channel announced a new law to nationalize extra oxen if any household owns more than two oxen.</td>\n",
       "      <td>False</td>\n",
       "      <td>factcheck_afp</td>\n",
       "      <td>en</td>\n",
       "    </tr>\n",
       "    <tr>\n",
       "      <th>20864</th>\n",
       "      <td>Painting of Hindu deity is in Panjshir, Afghanistan</td>\n",
       "      <td>False</td>\n",
       "      <td>factcheck_afp</td>\n",
       "      <td>en</td>\n",
       "    </tr>\n",
       "  </tbody>\n",
       "</table>\n",
       "<p>20865 rows × 4 columns</p>\n",
       "</div>"
      ],
      "text/plain": [
       "                                                                                                                                                                         text  \\\n",
       "0                                                        While serving as U.S. Vice President, Henry A. Wallace wrote a piece warning Americans about the dangers of fascism.   \n",
       "1      A 1964 campaign ad for President Lyndon B. Johnson featured a purported Republican voter expressing concerns which eerily echoed threads of debate in the GOP in 2016.   \n",
       "2           Fifty Republican former national security officials issued an open letter affirming they would not vote for Donald Trump and deeming him dangerously unqualified.   \n",
       "3                                                                                Elon Musk deleted a tweet where he called the Mastodon social media platform Masterbatedone.   \n",
       "4                                Texas Lt. Gov. Dan Patrick said COVID-19 social-distancing restrictions should be eased because there are more important things than living.   \n",
       "...                                                                                                                                                                       ...   \n",
       "20860                                                                                     A photograph shows Lev Parnas at a family birthday party with Donald Trump in 1990.   \n",
       "20861                                                                                                                 BJP spokesperson Sambit Patra will anchor shows on NDTV   \n",
       "20862                                                                                Photo shows Queen Elizabeth II's corgis being brought back from Balmoral after her death   \n",
       "20863                                               Myanmar military owned TV channel announced a new law to nationalize extra oxen if any household owns more than two oxen.   \n",
       "20864                                                                                                                     Painting of Hindu deity is in Panjshir, Afghanistan   \n",
       "\n",
       "       label         source lang  \n",
       "0       True         snopes   en  \n",
       "1       True         snopes   en  \n",
       "2       True         snopes   en  \n",
       "3       True         snopes   en  \n",
       "4       True         snopes   en  \n",
       "...      ...            ...  ...  \n",
       "20860  False         snopes   en  \n",
       "20861  False  factcheck_afp   en  \n",
       "20862  False  factcheck_afp   en  \n",
       "20863  False  factcheck_afp   en  \n",
       "20864  False  factcheck_afp   en  \n",
       "\n",
       "[20865 rows x 4 columns]"
      ]
     },
     "execution_count": 49,
     "metadata": {},
     "output_type": "execute_result"
    }
   ],
   "source": [
    "df = df.reset_index(drop=True)\n",
    "df"
   ]
  },
  {
   "cell_type": "code",
   "execution_count": 52,
   "id": "fcf2032a",
   "metadata": {},
   "outputs": [],
   "source": [
    "label_map = {\n",
    "    False: 1,\n",
    "    True: 0\n",
    "}\n",
    "\n",
    "df[\"fake\"] = df[\"label\"].map(label_map)"
   ]
  },
  {
   "cell_type": "code",
   "execution_count": 53,
   "id": "f6aee63e",
   "metadata": {},
   "outputs": [
    {
     "data": {
      "text/html": [
       "<div>\n",
       "<style scoped>\n",
       "    .dataframe tbody tr th:only-of-type {\n",
       "        vertical-align: middle;\n",
       "    }\n",
       "\n",
       "    .dataframe tbody tr th {\n",
       "        vertical-align: top;\n",
       "    }\n",
       "\n",
       "    .dataframe thead th {\n",
       "        text-align: right;\n",
       "    }\n",
       "</style>\n",
       "<table border=\"1\" class=\"dataframe\">\n",
       "  <thead>\n",
       "    <tr style=\"text-align: right;\">\n",
       "      <th></th>\n",
       "      <th>text</th>\n",
       "      <th>label</th>\n",
       "      <th>source</th>\n",
       "      <th>lang</th>\n",
       "      <th>fake</th>\n",
       "    </tr>\n",
       "  </thead>\n",
       "  <tbody>\n",
       "    <tr>\n",
       "      <th>0</th>\n",
       "      <td>While serving as U.S. Vice President, Henry A. Wallace wrote a piece warning Americans about the dangers of fascism.</td>\n",
       "      <td>True</td>\n",
       "      <td>snopes</td>\n",
       "      <td>en</td>\n",
       "      <td>0</td>\n",
       "    </tr>\n",
       "    <tr>\n",
       "      <th>1</th>\n",
       "      <td>A 1964 campaign ad for President Lyndon B. Johnson featured a purported Republican voter expressing concerns which eerily echoed threads of debate in the GOP in 2016.</td>\n",
       "      <td>True</td>\n",
       "      <td>snopes</td>\n",
       "      <td>en</td>\n",
       "      <td>0</td>\n",
       "    </tr>\n",
       "    <tr>\n",
       "      <th>2</th>\n",
       "      <td>Fifty Republican former national security officials issued an open letter affirming they would not vote for Donald Trump and deeming him dangerously unqualified.</td>\n",
       "      <td>True</td>\n",
       "      <td>snopes</td>\n",
       "      <td>en</td>\n",
       "      <td>0</td>\n",
       "    </tr>\n",
       "    <tr>\n",
       "      <th>3</th>\n",
       "      <td>Elon Musk deleted a tweet where he called the Mastodon social media platform Masterbatedone.</td>\n",
       "      <td>True</td>\n",
       "      <td>snopes</td>\n",
       "      <td>en</td>\n",
       "      <td>0</td>\n",
       "    </tr>\n",
       "    <tr>\n",
       "      <th>4</th>\n",
       "      <td>Texas Lt. Gov. Dan Patrick said COVID-19 social-distancing restrictions should be eased because there are more important things than living.</td>\n",
       "      <td>True</td>\n",
       "      <td>snopes</td>\n",
       "      <td>en</td>\n",
       "      <td>0</td>\n",
       "    </tr>\n",
       "    <tr>\n",
       "      <th>...</th>\n",
       "      <td>...</td>\n",
       "      <td>...</td>\n",
       "      <td>...</td>\n",
       "      <td>...</td>\n",
       "      <td>...</td>\n",
       "    </tr>\n",
       "    <tr>\n",
       "      <th>20860</th>\n",
       "      <td>A photograph shows Lev Parnas at a family birthday party with Donald Trump in 1990.</td>\n",
       "      <td>False</td>\n",
       "      <td>snopes</td>\n",
       "      <td>en</td>\n",
       "      <td>1</td>\n",
       "    </tr>\n",
       "    <tr>\n",
       "      <th>20861</th>\n",
       "      <td>BJP spokesperson Sambit Patra will anchor shows on NDTV</td>\n",
       "      <td>False</td>\n",
       "      <td>factcheck_afp</td>\n",
       "      <td>en</td>\n",
       "      <td>1</td>\n",
       "    </tr>\n",
       "    <tr>\n",
       "      <th>20862</th>\n",
       "      <td>Photo shows Queen Elizabeth II's corgis being brought back from Balmoral after her death</td>\n",
       "      <td>False</td>\n",
       "      <td>factcheck_afp</td>\n",
       "      <td>en</td>\n",
       "      <td>1</td>\n",
       "    </tr>\n",
       "    <tr>\n",
       "      <th>20863</th>\n",
       "      <td>Myanmar military owned TV channel announced a new law to nationalize extra oxen if any household owns more than two oxen.</td>\n",
       "      <td>False</td>\n",
       "      <td>factcheck_afp</td>\n",
       "      <td>en</td>\n",
       "      <td>1</td>\n",
       "    </tr>\n",
       "    <tr>\n",
       "      <th>20864</th>\n",
       "      <td>Painting of Hindu deity is in Panjshir, Afghanistan</td>\n",
       "      <td>False</td>\n",
       "      <td>factcheck_afp</td>\n",
       "      <td>en</td>\n",
       "      <td>1</td>\n",
       "    </tr>\n",
       "  </tbody>\n",
       "</table>\n",
       "<p>20865 rows × 5 columns</p>\n",
       "</div>"
      ],
      "text/plain": [
       "                                                                                                                                                                         text  \\\n",
       "0                                                        While serving as U.S. Vice President, Henry A. Wallace wrote a piece warning Americans about the dangers of fascism.   \n",
       "1      A 1964 campaign ad for President Lyndon B. Johnson featured a purported Republican voter expressing concerns which eerily echoed threads of debate in the GOP in 2016.   \n",
       "2           Fifty Republican former national security officials issued an open letter affirming they would not vote for Donald Trump and deeming him dangerously unqualified.   \n",
       "3                                                                                Elon Musk deleted a tweet where he called the Mastodon social media platform Masterbatedone.   \n",
       "4                                Texas Lt. Gov. Dan Patrick said COVID-19 social-distancing restrictions should be eased because there are more important things than living.   \n",
       "...                                                                                                                                                                       ...   \n",
       "20860                                                                                     A photograph shows Lev Parnas at a family birthday party with Donald Trump in 1990.   \n",
       "20861                                                                                                                 BJP spokesperson Sambit Patra will anchor shows on NDTV   \n",
       "20862                                                                                Photo shows Queen Elizabeth II's corgis being brought back from Balmoral after her death   \n",
       "20863                                               Myanmar military owned TV channel announced a new law to nationalize extra oxen if any household owns more than two oxen.   \n",
       "20864                                                                                                                     Painting of Hindu deity is in Panjshir, Afghanistan   \n",
       "\n",
       "       label         source lang  fake  \n",
       "0       True         snopes   en     0  \n",
       "1       True         snopes   en     0  \n",
       "2       True         snopes   en     0  \n",
       "3       True         snopes   en     0  \n",
       "4       True         snopes   en     0  \n",
       "...      ...            ...  ...   ...  \n",
       "20860  False         snopes   en     1  \n",
       "20861  False  factcheck_afp   en     1  \n",
       "20862  False  factcheck_afp   en     1  \n",
       "20863  False  factcheck_afp   en     1  \n",
       "20864  False  factcheck_afp   en     1  \n",
       "\n",
       "[20865 rows x 5 columns]"
      ]
     },
     "execution_count": 53,
     "metadata": {},
     "output_type": "execute_result"
    }
   ],
   "source": [
    "df"
   ]
  },
  {
   "cell_type": "code",
   "execution_count": 54,
   "id": "25a30710",
   "metadata": {},
   "outputs": [
    {
     "data": {
      "text/html": [
       "<div>\n",
       "<style scoped>\n",
       "    .dataframe tbody tr th:only-of-type {\n",
       "        vertical-align: middle;\n",
       "    }\n",
       "\n",
       "    .dataframe tbody tr th {\n",
       "        vertical-align: top;\n",
       "    }\n",
       "\n",
       "    .dataframe thead th {\n",
       "        text-align: right;\n",
       "    }\n",
       "</style>\n",
       "<table border=\"1\" class=\"dataframe\">\n",
       "  <thead>\n",
       "    <tr style=\"text-align: right;\">\n",
       "      <th></th>\n",
       "      <th>text</th>\n",
       "      <th>fake</th>\n",
       "    </tr>\n",
       "  </thead>\n",
       "  <tbody>\n",
       "    <tr>\n",
       "      <th>0</th>\n",
       "      <td>While serving as U.S. Vice President, Henry A. Wallace wrote a piece warning Americans about the dangers of fascism.</td>\n",
       "      <td>0</td>\n",
       "    </tr>\n",
       "    <tr>\n",
       "      <th>1</th>\n",
       "      <td>A 1964 campaign ad for President Lyndon B. Johnson featured a purported Republican voter expressing concerns which eerily echoed threads of debate in the GOP in 2016.</td>\n",
       "      <td>0</td>\n",
       "    </tr>\n",
       "    <tr>\n",
       "      <th>2</th>\n",
       "      <td>Fifty Republican former national security officials issued an open letter affirming they would not vote for Donald Trump and deeming him dangerously unqualified.</td>\n",
       "      <td>0</td>\n",
       "    </tr>\n",
       "    <tr>\n",
       "      <th>3</th>\n",
       "      <td>Elon Musk deleted a tweet where he called the Mastodon social media platform Masterbatedone.</td>\n",
       "      <td>0</td>\n",
       "    </tr>\n",
       "    <tr>\n",
       "      <th>4</th>\n",
       "      <td>Texas Lt. Gov. Dan Patrick said COVID-19 social-distancing restrictions should be eased because there are more important things than living.</td>\n",
       "      <td>0</td>\n",
       "    </tr>\n",
       "    <tr>\n",
       "      <th>...</th>\n",
       "      <td>...</td>\n",
       "      <td>...</td>\n",
       "    </tr>\n",
       "    <tr>\n",
       "      <th>20860</th>\n",
       "      <td>A photograph shows Lev Parnas at a family birthday party with Donald Trump in 1990.</td>\n",
       "      <td>1</td>\n",
       "    </tr>\n",
       "    <tr>\n",
       "      <th>20861</th>\n",
       "      <td>BJP spokesperson Sambit Patra will anchor shows on NDTV</td>\n",
       "      <td>1</td>\n",
       "    </tr>\n",
       "    <tr>\n",
       "      <th>20862</th>\n",
       "      <td>Photo shows Queen Elizabeth II's corgis being brought back from Balmoral after her death</td>\n",
       "      <td>1</td>\n",
       "    </tr>\n",
       "    <tr>\n",
       "      <th>20863</th>\n",
       "      <td>Myanmar military owned TV channel announced a new law to nationalize extra oxen if any household owns more than two oxen.</td>\n",
       "      <td>1</td>\n",
       "    </tr>\n",
       "    <tr>\n",
       "      <th>20864</th>\n",
       "      <td>Painting of Hindu deity is in Panjshir, Afghanistan</td>\n",
       "      <td>1</td>\n",
       "    </tr>\n",
       "  </tbody>\n",
       "</table>\n",
       "<p>20865 rows × 2 columns</p>\n",
       "</div>"
      ],
      "text/plain": [
       "                                                                                                                                                                         text  \\\n",
       "0                                                        While serving as U.S. Vice President, Henry A. Wallace wrote a piece warning Americans about the dangers of fascism.   \n",
       "1      A 1964 campaign ad for President Lyndon B. Johnson featured a purported Republican voter expressing concerns which eerily echoed threads of debate in the GOP in 2016.   \n",
       "2           Fifty Republican former national security officials issued an open letter affirming they would not vote for Donald Trump and deeming him dangerously unqualified.   \n",
       "3                                                                                Elon Musk deleted a tweet where he called the Mastodon social media platform Masterbatedone.   \n",
       "4                                Texas Lt. Gov. Dan Patrick said COVID-19 social-distancing restrictions should be eased because there are more important things than living.   \n",
       "...                                                                                                                                                                       ...   \n",
       "20860                                                                                     A photograph shows Lev Parnas at a family birthday party with Donald Trump in 1990.   \n",
       "20861                                                                                                                 BJP spokesperson Sambit Patra will anchor shows on NDTV   \n",
       "20862                                                                                Photo shows Queen Elizabeth II's corgis being brought back from Balmoral after her death   \n",
       "20863                                               Myanmar military owned TV channel announced a new law to nationalize extra oxen if any household owns more than two oxen.   \n",
       "20864                                                                                                                     Painting of Hindu deity is in Panjshir, Afghanistan   \n",
       "\n",
       "       fake  \n",
       "0         0  \n",
       "1         0  \n",
       "2         0  \n",
       "3         0  \n",
       "4         0  \n",
       "...     ...  \n",
       "20860     1  \n",
       "20861     1  \n",
       "20862     1  \n",
       "20863     1  \n",
       "20864     1  \n",
       "\n",
       "[20865 rows x 2 columns]"
      ]
     },
     "execution_count": 54,
     "metadata": {},
     "output_type": "execute_result"
    }
   ],
   "source": [
    "df_for_export = df.drop(['label', 'source', 'lang'], axis=1)\n",
    "df_for_export"
   ]
  },
  {
   "cell_type": "code",
   "execution_count": 55,
   "id": "5ebfd07b",
   "metadata": {},
   "outputs": [
    {
     "data": {
      "text/plain": [
       "fake\n",
       "1    11112\n",
       "0     9753\n",
       "Name: count, dtype: int64"
      ]
     },
     "execution_count": 55,
     "metadata": {},
     "output_type": "execute_result"
    }
   ],
   "source": [
    "df_for_export['fake'].value_counts()"
   ]
  },
  {
   "cell_type": "code",
   "execution_count": 56,
   "id": "3711b554",
   "metadata": {},
   "outputs": [],
   "source": [
    "df_for_export.to_csv('ClaimsKG_for_modeling.csv', index=False)"
   ]
  }
 ],
 "metadata": {
  "kernelspec": {
   "display_name": "base",
   "language": "python",
   "name": "python3"
  },
  "language_info": {
   "codemirror_mode": {
    "name": "ipython",
    "version": 3
   },
   "file_extension": ".py",
   "mimetype": "text/x-python",
   "name": "python",
   "nbconvert_exporter": "python",
   "pygments_lexer": "ipython3",
   "version": "3.12.7"
  }
 },
 "nbformat": 4,
 "nbformat_minor": 5
}
