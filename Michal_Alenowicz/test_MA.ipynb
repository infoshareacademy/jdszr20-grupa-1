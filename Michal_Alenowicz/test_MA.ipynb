{
 "cells": [
  {
   "cell_type": "code",
   "execution_count": 1,
   "id": "4810317d",
   "metadata": {},
   "outputs": [],
   "source": [
    "%load_ext autoreload\n",
    "%autoreload 2"
   ]
  },
  {
   "cell_type": "code",
   "execution_count": 2,
   "id": "0215d7f1",
   "metadata": {},
   "outputs": [],
   "source": [
    "import sys\n",
    "sys.path.append(\"..\")\n",
    "import scripts.data_utils as dutils"
   ]
  },
  {
   "cell_type": "code",
   "execution_count": 4,
   "id": "9c13fc8b",
   "metadata": {},
   "outputs": [
    {
     "data": {
      "text/html": [
       "<div>\n",
       "<style scoped>\n",
       "    .dataframe tbody tr th:only-of-type {\n",
       "        vertical-align: middle;\n",
       "    }\n",
       "\n",
       "    .dataframe tbody tr th {\n",
       "        vertical-align: top;\n",
       "    }\n",
       "\n",
       "    .dataframe thead th {\n",
       "        text-align: right;\n",
       "    }\n",
       "</style>\n",
       "<table border=\"1\" class=\"dataframe\">\n",
       "  <thead>\n",
       "    <tr style=\"text-align: right;\">\n",
       "      <th></th>\n",
       "      <th>text</th>\n",
       "      <th>fake</th>\n",
       "    </tr>\n",
       "  </thead>\n",
       "  <tbody>\n",
       "    <tr>\n",
       "      <th>0</th>\n",
       "      <td>While serving as U.S. Vice President, Henry A....</td>\n",
       "      <td>0</td>\n",
       "    </tr>\n",
       "    <tr>\n",
       "      <th>1</th>\n",
       "      <td>A 1964 campaign ad for President Lyndon B. Joh...</td>\n",
       "      <td>0</td>\n",
       "    </tr>\n",
       "    <tr>\n",
       "      <th>2</th>\n",
       "      <td>Fifty Republican former national security offi...</td>\n",
       "      <td>0</td>\n",
       "    </tr>\n",
       "    <tr>\n",
       "      <th>3</th>\n",
       "      <td>Elon Musk deleted a tweet where he called the ...</td>\n",
       "      <td>0</td>\n",
       "    </tr>\n",
       "    <tr>\n",
       "      <th>4</th>\n",
       "      <td>Texas Lt. Gov. Dan Patrick said COVID-19 socia...</td>\n",
       "      <td>0</td>\n",
       "    </tr>\n",
       "  </tbody>\n",
       "</table>\n",
       "</div>"
      ],
      "text/plain": [
       "                                                text  fake\n",
       "0  While serving as U.S. Vice President, Henry A....     0\n",
       "1  A 1964 campaign ad for President Lyndon B. Joh...     0\n",
       "2  Fifty Republican former national security offi...     0\n",
       "3  Elon Musk deleted a tweet where he called the ...     0\n",
       "4  Texas Lt. Gov. Dan Patrick said COVID-19 socia...     0"
      ]
     },
     "execution_count": 4,
     "metadata": {},
     "output_type": "execute_result"
    }
   ],
   "source": [
    "\n",
    "\n",
    "daaaaa = dutils.combine_datasets_and_export()\n",
    "daaaaa.head()"
   ]
  },
  {
   "cell_type": "code",
   "execution_count": 5,
   "id": "84a8cda5",
   "metadata": {},
   "outputs": [
    {
     "data": {
      "text/plain": [
       "(140275, 2)"
      ]
     },
     "execution_count": 5,
     "metadata": {},
     "output_type": "execute_result"
    }
   ],
   "source": [
    "daaaaa.shape"
   ]
  },
  {
   "cell_type": "code",
   "execution_count": 7,
   "id": "e18aad95",
   "metadata": {},
   "outputs": [
    {
     "data": {
      "text/plain": [
       "(133895, 2)"
      ]
     },
     "execution_count": 7,
     "metadata": {},
     "output_type": "execute_result"
    }
   ],
   "source": [
    "bbbb = dutils.load_datasets(6, 1200)\n",
    "bbbb.shape"
   ]
  },
  {
   "cell_type": "code",
   "execution_count": 6,
   "id": "3ad5d51e",
   "metadata": {},
   "outputs": [],
   "source": [
    "bbbb['word_count'] = bbbb['text'].apply(lambda x: len(str(x).split()))"
   ]
  },
  {
   "cell_type": "code",
   "execution_count": 13,
   "id": "6595f481",
   "metadata": {},
   "outputs": [
    {
     "data": {
      "text/plain": [
       "<Axes: xlabel='word_count', ylabel='Count'>"
      ]
     },
     "execution_count": 13,
     "metadata": {},
     "output_type": "execute_result"
    },
    {
     "data": {
      "image/png": "[encoded data removed]",
      "text/plain": [
       "<Figure size 640x480 with 1 Axes>"
      ]
     },
     "metadata": {},
     "output_type": "display_data"
    }
   ],
   "source": [
    "import seaborn as sns\n",
    "sns.histplot(data=bbbb, x='word_count', binwidth=5)"
   ]
  },
  {
   "cell_type": "code",
   "execution_count": null,
   "id": "4b99de8a",
   "metadata": {},
   "outputs": [],
   "source": []
  },
  {
   "cell_type": "code",
   "execution_count": 6,
   "id": "33b98834",
   "metadata": {},
   "outputs": [
    {
     "data": {
      "text/plain": [
       "(19443, 2)"
      ]
     },
     "execution_count": 6,
     "metadata": {},
     "output_type": "execute_result"
    }
   ],
   "source": [
    "sampled = dutils.load_dataset_sample()\n",
    "sampled.shape"
   ]
  },
  {
   "cell_type": "code",
   "execution_count": 8,
   "id": "161623c0",
   "metadata": {},
   "outputs": [],
   "source": [
    "import pandas as pd\n",
    "\n",
    "bbbb.to_csv('all_data_shorter_than_1200_MA.csv', index=False)"
   ]
  },
  {
   "cell_type": "code",
   "execution_count": 9,
   "id": "953af2a0",
   "metadata": {},
   "outputs": [
    {
     "data": {
      "text/html": [
       "<div>\n",
       "<style scoped>\n",
       "    .dataframe tbody tr th:only-of-type {\n",
       "        vertical-align: middle;\n",
       "    }\n",
       "\n",
       "    .dataframe tbody tr th {\n",
       "        vertical-align: top;\n",
       "    }\n",
       "\n",
       "    .dataframe thead th {\n",
       "        text-align: right;\n",
       "    }\n",
       "</style>\n",
       "<table border=\"1\" class=\"dataframe\">\n",
       "  <thead>\n",
       "    <tr style=\"text-align: right;\">\n",
       "      <th></th>\n",
       "      <th>text</th>\n",
       "      <th>fake</th>\n",
       "    </tr>\n",
       "  </thead>\n",
       "  <tbody>\n",
       "    <tr>\n",
       "      <th>30904</th>\n",
       "      <td>Massachusetts Senate president steps aside as ...</td>\n",
       "      <td>0</td>\n",
       "    </tr>\n",
       "    <tr>\n",
       "      <th>13396</th>\n",
       "      <td>Says Joe Biden said, Buy a man eat fish, he da...</td>\n",
       "      <td>1</td>\n",
       "    </tr>\n",
       "    <tr>\n",
       "      <th>64278</th>\n",
       "      <td>STUNNER! FLORIDA TRUMP EVENT: Former Haitian S...</td>\n",
       "      <td>1</td>\n",
       "    </tr>\n",
       "    <tr>\n",
       "      <th>37708</th>\n",
       "      <td>Trump, Pence have spoken with nearly 30 foreig...</td>\n",
       "      <td>0</td>\n",
       "    </tr>\n",
       "    <tr>\n",
       "      <th>44884</th>\n",
       "      <td>Killer of South African anti-apartheid leader ...</td>\n",
       "      <td>0</td>\n",
       "    </tr>\n",
       "    <tr>\n",
       "      <th>...</th>\n",
       "      <td>...</td>\n",
       "      <td>...</td>\n",
       "    </tr>\n",
       "    <tr>\n",
       "      <th>20132</th>\n",
       "      <td>A child died from drinking the contents of a p...</td>\n",
       "      <td>1</td>\n",
       "    </tr>\n",
       "    <tr>\n",
       "      <th>72333</th>\n",
       "      <td>Jim Marshall votes liberal in Washington ... a...</td>\n",
       "      <td>1</td>\n",
       "    </tr>\n",
       "    <tr>\n",
       "      <th>110299</th>\n",
       "      <td>Pence says South Korea-U.S. free trade agreeme...</td>\n",
       "      <td>1</td>\n",
       "    </tr>\n",
       "    <tr>\n",
       "      <th>7140</th>\n",
       "      <td>I spent only $36.29 on my campaign for governor.</td>\n",
       "      <td>0</td>\n",
       "    </tr>\n",
       "    <tr>\n",
       "      <th>83474</th>\n",
       "      <td>Saudi king to start Russia visit on Thursday: ...</td>\n",
       "      <td>1</td>\n",
       "    </tr>\n",
       "  </tbody>\n",
       "</table>\n",
       "<p>19443 rows × 2 columns</p>\n",
       "</div>"
      ],
      "text/plain": [
       "                                                     text  fake\n",
       "30904   Massachusetts Senate president steps aside as ...     0\n",
       "13396   Says Joe Biden said, Buy a man eat fish, he da...     1\n",
       "64278   STUNNER! FLORIDA TRUMP EVENT: Former Haitian S...     1\n",
       "37708   Trump, Pence have spoken with nearly 30 foreig...     0\n",
       "44884   Killer of South African anti-apartheid leader ...     0\n",
       "...                                                   ...   ...\n",
       "20132   A child died from drinking the contents of a p...     1\n",
       "72333   Jim Marshall votes liberal in Washington ... a...     1\n",
       "110299  Pence says South Korea-U.S. free trade agreeme...     1\n",
       "7140     I spent only $36.29 on my campaign for governor.     0\n",
       "83474   Saudi king to start Russia visit on Thursday: ...     1\n",
       "\n",
       "[19443 rows x 2 columns]"
      ]
     },
     "execution_count": 9,
     "metadata": {},
     "output_type": "execute_result"
    }
   ],
   "source": [
    "sampled"
   ]
  },
  {
   "cell_type": "code",
   "execution_count": null,
   "id": "42141539",
   "metadata": {},
   "outputs": [],
   "source": []
  }
 ],
 "metadata": {
  "kernelspec": {
   "display_name": "base",
   "language": "python",
   "name": "python3"
  },
  "language_info": {
   "codemirror_mode": {
    "name": "ipython",
    "version": 3
   },
   "file_extension": ".py",
   "mimetype": "text/x-python",
   "name": "python",
   "nbconvert_exporter": "python",
   "pygments_lexer": "ipython3",
   "version": "3.12.7"
  }
 },
 "nbformat": 4,
 "nbformat_minor": 5
}
